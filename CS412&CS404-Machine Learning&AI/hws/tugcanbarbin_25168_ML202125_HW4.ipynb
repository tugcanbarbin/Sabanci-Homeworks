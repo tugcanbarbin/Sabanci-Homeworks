{
  "nbformat": 4,
  "nbformat_minor": 0,
  "metadata": {
    "colab": {
      "name": "tugcanbarbin_25168_ML202125_HW4.ipynb",
      "provenance": [],
      "collapsed_sections": [
        "Ko3omrGs8GAI"
      ]
    },
    "kernelspec": {
      "name": "python3",
      "display_name": "Python 3"
    },
    "language_info": {
      "name": "python"
    }
  },
  "cells": [
    {
      "cell_type": "markdown",
      "metadata": {
        "id": "Ko3omrGs8GAI"
      },
      "source": [
        "# **HOMEWORK 4**\n",
        "---\n",
        "\n",
        "**Goal:** Build a multilayer perceptron (MLP) model & for classifying SVHN dataset.\n",
        "\n",
        "**Dataset:** SVHN, 32x32 RGB number images.        \n",
        "http://ufldl.stanford.edu/housenumbers/\n",
        "\n",
        "---\n",
        "\n",
        "###**Instructions**             \n",
        "**1)** **Preprocessing**  \n",
        "> **1.1)** Load the dataset                 \n",
        "> **1.2)** Normalize features                \n",
        "  **1.3)** Visualize dataset\n",
        "\n",
        "**2)** **Modelling**\n",
        "> **2.1)** Try different fully hyperparameters (# of hidden layers, learning rate, # of epochs, # of neurons, add dropout, etc.)             \n",
        "> **2.2)** Train with early stopping\n",
        "\n",
        "**3)** **Report**                   \n",
        "Share your results, which hyperparameters you used, train & test accuracy, etc. \n",
        "Write an at most 1/2-page summary of your approach to this problem at the end of your notebook; this should be like an executive summary. Include problem definition and preprocessing as well.\n",
        "\n",
        "\n",
        "> **Topics to Discuss:**                                      \n",
        "Explain you results.           \n",
        "How did you choose the best hyperparameters?                         \n",
        "What happened when the # of epochs are too large/small, why?                  \n",
        "What happened when the learning rate is too large/small, why?              \n",
        "What did you observe when you change the # of hidden layers?                \n",
        "What did you observe when you change the # of neurons?   \n",
        "What is the use of adding dropout?                     \n",
        "What is the use of early stopping? \n",
        "\n",
        "\n",
        "---\n",
        "\n",
        "\n",
        "**Note:** Don't forget to change Colab's runtime to GPU.\n",
        "\n",
        "\n",
        "\n",
        "\n",
        "\n"
      ]
    },
    {
      "cell_type": "markdown",
      "metadata": {
        "id": "P1PahS-1Ez2j"
      },
      "source": [
        "#1) Preprocessing\n",
        "Load, normalize and visualize data\n",
        "\n",
        "\n",
        "---\n",
        "\n",
        "\n",
        "\n"
      ]
    },
    {
      "cell_type": "code",
      "metadata": {
        "id": "ZzZMCgL7c80Y",
        "colab": {
          "base_uri": "https://localhost:8080/"
        },
        "outputId": "97c7c66f-75e7-41e5-f55f-dacf5757593b"
      },
      "source": [
        "from google.colab import drive\n",
        "drive.mount('/content/drive')"
      ],
      "execution_count": null,
      "outputs": [
        {
          "output_type": "stream",
          "text": [
            "Mounted at /content/drive\n"
          ],
          "name": "stdout"
        }
      ]
    },
    {
      "cell_type": "code",
      "metadata": {
        "id": "cWoXQBAk7mhX",
        "colab": {
          "base_uri": "https://localhost:8080/"
        },
        "outputId": "1cbac623-73b7-4a9e-eb88-0d3a47d0c187"
      },
      "source": [
        "# Load SVHN dataset\n",
        "from scipy.io import loadmat\n",
        "import numpy as np\n",
        "def load_data(path):\n",
        "    data = loadmat(path)\n",
        "    return data['X'], data['y']\n",
        "\n",
        "X_train, y_train = load_data('/content/drive/My Drive/train_32x32.mat')\n",
        "X_test, y_test = load_data('/content/drive/My Drive/test_32x32.mat')\n",
        "\n",
        "\n",
        "# Summarize dataset (count, shape, min/max value)\n",
        "print('Shape of train data: ',X_train.shape, ' and there are ',X_train.shape[3],' instances. Also, maximum and minimum values of train data are ',max(y_train),' and ', min(y_train) )\n",
        "print('Shape of test data: ',X_test.shape, ' and there are ',X_test.shape[3],' instances. Also, maximum and minimum values of train data are ',max(y_test),' and ', min(y_test))"
      ],
      "execution_count": null,
      "outputs": [
        {
          "output_type": "stream",
          "text": [
            "Shape of train data:  (32, 32, 3, 73257)  and there are  73257  instances. Also, maximum and minimum values of train data are  [10]  and  [1]\n",
            "Shape of test data:  (32, 32, 3, 26032)  and there are  26032  instances. Also, maximum and minimum values of train data are  [10]  and  [1]\n"
          ],
          "name": "stdout"
        }
      ]
    },
    {
      "cell_type": "code",
      "metadata": {
        "id": "LfwHo1ZGckJU"
      },
      "source": [
        "#Change input shape\n",
        "\n",
        "X_train = np.moveaxis(X_train, -1, 0)\n",
        "X_test = np.moveaxis(X_test, -1, 0)\n"
      ],
      "execution_count": null,
      "outputs": []
    },
    {
      "cell_type": "code",
      "metadata": {
        "colab": {
          "base_uri": "https://localhost:8080/"
        },
        "id": "FyR0nAK6-MB2",
        "outputId": "815978fb-d329-4571-e4f9-0cd44f50a591"
      },
      "source": [
        "print('Shape of train data: ',X_train.shape)\n",
        "print('Shape of test data: ',X_test.shape)"
      ],
      "execution_count": null,
      "outputs": [
        {
          "output_type": "stream",
          "text": [
            "Shape of train data:  (73257, 32, 32, 3)\n",
            "Shape of test data:  (26032, 32, 32, 3)\n"
          ],
          "name": "stdout"
        }
      ]
    },
    {
      "cell_type": "code",
      "metadata": {
        "id": "wnZttYi1-jZ0",
        "colab": {
          "base_uri": "https://localhost:8080/"
        },
        "outputId": "a1d84d53-c121-46ec-9b13-d4af6d62d092"
      },
      "source": [
        "X_train_normalized = X_train.reshape(X_train.shape[0], X_train.shape[1]*X_train.shape[2]*X_train.shape[3])\n",
        "X_test_normalized = X_test.reshape(X_test.shape[0], X_test.shape[1]*X_test.shape[2]*X_test.shape[3])\n",
        "\n",
        "print('shape of train is: ', X_train_normalized.shape)\n",
        "print('shape of test is: ', X_test_normalized.shape)"
      ],
      "execution_count": null,
      "outputs": [
        {
          "output_type": "stream",
          "text": [
            "shape of train is:  (73257, 3072)\n",
            "shape of test is:  (26032, 3072)\n"
          ],
          "name": "stdout"
        }
      ]
    },
    {
      "cell_type": "code",
      "metadata": {
        "id": "YawuLMTUFYWc"
      },
      "source": [
        "# Normalize dataset\n",
        "X_train_normalized = X_train_normalized.astype('float32')\n",
        "X_test_normalized = X_test_normalized.astype('float32')\n",
        "X_train_normalized /= 255\n",
        "X_test_normalized /= 255"
      ],
      "execution_count": null,
      "outputs": []
    },
    {
      "cell_type": "code",
      "metadata": {
        "colab": {
          "base_uri": "https://localhost:8080/"
        },
        "id": "w7ULMC9yBD7I",
        "outputId": "a945dc48-3ec9-4a11-b11b-44038b26295f"
      },
      "source": [
        "print('final shape of train is: ', X_train_normalized.shape)\n",
        "print('final shape of test is: ', X_test_normalized.shape)"
      ],
      "execution_count": null,
      "outputs": [
        {
          "output_type": "stream",
          "text": [
            "final shape of train is:  (73257, 3072)\n",
            "final shape of test is:  (26032, 3072)\n"
          ],
          "name": "stdout"
        }
      ]
    },
    {
      "cell_type": "code",
      "metadata": {
        "id": "fSd5ehWzGEpi",
        "colab": {
          "base_uri": "https://localhost:8080/",
          "height": 268
        },
        "outputId": "ef63a8d4-69a2-4172-a17a-39befe0f6243"
      },
      "source": [
        "# Visualize some samples\n",
        "numberofsamples = 16\n",
        "import matplotlib.pyplot as plt\n",
        "for i in range(numberofsamples):\n",
        "  plt.subplot(numberofsamples /4,4, i+1)\n",
        "  plt.imshow(X_train[i], cmap = plt.get_cmap('gray'))\n",
        "plt.show()\n"
      ],
      "execution_count": null,
      "outputs": [
        {
          "output_type": "display_data",
          "data": {
            "image/png": "[encoded data removed]",
            "text/plain": [
              "<Figure size 432x288 with 16 Axes>"
            ]
          },
          "metadata": {
            "tags": [],
            "needs_background": "light"
          }
        }
      ]
    },
    {
      "cell_type": "markdown",
      "metadata": {
        "id": "l-cMAncVUJKr"
      },
      "source": [
        "#2) Modelling\n",
        "(Build, compile, fit, evaluate)\n",
        "\n",
        "\n",
        "---\n",
        "\n"
      ]
    },
    {
      "cell_type": "markdown",
      "metadata": {
        "id": "04IPqSXXU6pU"
      },
      "source": [
        "##2.1) Part 1\n",
        "\n",
        "---\n",
        "\n"
      ]
    },
    {
      "cell_type": "code",
      "metadata": {
        "id": "73Rh1vRUUS4i"
      },
      "source": [
        "# Build the model\n",
        "import keras\n",
        "from keras.models import Sequential\n",
        "from keras.layers import Dense\n",
        "from keras.optimizers import Adam\n",
        "from keras.callbacks import EarlyStopping"
      ],
      "execution_count": null,
      "outputs": []
    },
    {
      "cell_type": "code",
      "metadata": {
        "colab": {
          "base_uri": "https://localhost:8080/"
        },
        "id": "sgMi5BtJFYnl",
        "outputId": "f3f6be28-b07c-428e-e46e-0aae8771bb22"
      },
      "source": [
        "model = Sequential()\n",
        "model.add(Dense(512,activation='relu', input_shape = (X_train_normalized.shape[1],), name= 'hiddenlayer1'))\n",
        "model.add(Dense(128,activation='relu', name= 'hiddenlayer2'))\n",
        "model.add(Dense(11,activation='softmax', name= 'output_layer'))\n",
        "model.summary()"
      ],
      "execution_count": null,
      "outputs": [
        {
          "output_type": "stream",
          "text": [
            "Model: \"sequential\"\n",
            "_________________________________________________________________\n",
            "Layer (type)                 Output Shape              Param #   \n",
            "=================================================================\n",
            "hiddenlayer1 (Dense)         (None, 512)               1573376   \n",
            "_________________________________________________________________\n",
            "hiddenlayer2 (Dense)         (None, 128)               65664     \n",
            "_________________________________________________________________\n",
            "output_layer (Dense)         (None, 11)                1419      \n",
            "=================================================================\n",
            "Total params: 1,640,459\n",
            "Trainable params: 1,640,459\n",
            "Non-trainable params: 0\n",
            "_________________________________________________________________\n"
          ],
          "name": "stdout"
        }
      ]
    },
    {
      "cell_type": "code",
      "metadata": {
        "id": "PWjsPZwOUfpZ",
        "colab": {
          "base_uri": "https://localhost:8080/"
        },
        "outputId": "2137eb8c-6aa0-4769-a8ab-4bb244418df9"
      },
      "source": [
        "# Compile & fit the model \n",
        "model.compile(loss = 'sparse_categorical_crossentropy', optimizer=Adam(), metrics =['accuracy'])\n",
        "\n",
        "fitted = model.fit(X_train_normalized, y_train, batch_size= 256, epochs=10, validation_split=0.2, verbose=1)\n"
      ],
      "execution_count": null,
      "outputs": [
        {
          "output_type": "stream",
          "text": [
            "Epoch 1/10\n",
            "229/229 [==============================] - 24s 44ms/step - loss: 2.3654 - accuracy: 0.1665 - val_loss: 2.1966 - val_accuracy: 0.2118\n",
            "Epoch 2/10\n",
            "229/229 [==============================] - 10s 42ms/step - loss: 2.1641 - accuracy: 0.2243 - val_loss: 1.9020 - val_accuracy: 0.3506\n",
            "Epoch 3/10\n",
            "229/229 [==============================] - 10s 42ms/step - loss: 1.7414 - accuracy: 0.4027 - val_loss: 1.4781 - val_accuracy: 0.5161\n",
            "Epoch 4/10\n",
            "229/229 [==============================] - 10s 42ms/step - loss: 1.4237 - accuracy: 0.5360 - val_loss: 1.3059 - val_accuracy: 0.5905\n",
            "Epoch 5/10\n",
            "229/229 [==============================] - 10s 42ms/step - loss: 1.2187 - accuracy: 0.6176 - val_loss: 1.1844 - val_accuracy: 0.6268\n",
            "Epoch 6/10\n",
            "229/229 [==============================] - 10s 42ms/step - loss: 1.1113 - accuracy: 0.6567 - val_loss: 1.0934 - val_accuracy: 0.6620\n",
            "Epoch 7/10\n",
            "229/229 [==============================] - 10s 42ms/step - loss: 1.0382 - accuracy: 0.6827 - val_loss: 1.0089 - val_accuracy: 0.6945\n",
            "Epoch 8/10\n",
            "229/229 [==============================] - 10s 42ms/step - loss: 0.9669 - accuracy: 0.7068 - val_loss: 0.9842 - val_accuracy: 0.6981\n",
            "Epoch 9/10\n",
            "229/229 [==============================] - 10s 42ms/step - loss: 0.9337 - accuracy: 0.7179 - val_loss: 0.9355 - val_accuracy: 0.7129\n",
            "Epoch 10/10\n",
            "229/229 [==============================] - 10s 42ms/step - loss: 0.9035 - accuracy: 0.7265 - val_loss: 0.8976 - val_accuracy: 0.7285\n"
          ],
          "name": "stdout"
        }
      ]
    },
    {
      "cell_type": "code",
      "metadata": {
        "id": "HDtYb9X0UjBl",
        "colab": {
          "base_uri": "https://localhost:8080/"
        },
        "outputId": "f19898e8-10b8-407f-d7b1-09c9302fe035"
      },
      "source": [
        "# Evaluate the model on test data\n",
        "score =model.evaluate(X_test_normalized, y_test, verbose = 0)\n",
        "print('Test loss: ',score[0])\n",
        "print('Test accuracy: ', score[1])\n"
      ],
      "execution_count": null,
      "outputs": [
        {
          "output_type": "stream",
          "text": [
            "Test loss:  1.0177432298660278\n",
            "Test accuracy:  0.7013675570487976\n"
          ],
          "name": "stdout"
        }
      ]
    },
    {
      "cell_type": "code",
      "metadata": {
        "id": "L_xYleMzeI4P",
        "colab": {
          "base_uri": "https://localhost:8080/"
        },
        "outputId": "0df861d9-e4a6-418f-e454-d2b1fba9d3fd"
      },
      "source": [
        "# Try different hyperparameters and observe the results\n",
        "#different batch size = 128\n",
        "model = Sequential()\n",
        "model.add(Dense(512,activation='relu', input_shape = (X_train_normalized.shape[1],), name= 'hiddenlayer1'))\n",
        "model.add(Dense(128,activation='relu', name= 'hiddenlayer2'))\n",
        "model.add(Dense(11,activation='softmax', name= 'output_layer'))\n",
        "model.compile(loss = 'sparse_categorical_crossentropy', optimizer=Adam(), metrics =['accuracy'])\n",
        "fitted2 = model.fit(X_train_normalized, y_train, batch_size= 128, epochs=10, validation_split=0.2, verbose=1)"
      ],
      "execution_count": null,
      "outputs": [
        {
          "output_type": "stream",
          "text": [
            "Epoch 1/10\n",
            "458/458 [==============================] - 13s 27ms/step - loss: 2.3983 - accuracy: 0.1686 - val_loss: 2.1672 - val_accuracy: 0.2249\n",
            "Epoch 2/10\n",
            "458/458 [==============================] - 12s 27ms/step - loss: 1.9660 - accuracy: 0.3050 - val_loss: 1.4474 - val_accuracy: 0.5416\n",
            "Epoch 3/10\n",
            "458/458 [==============================] - 13s 27ms/step - loss: 1.3665 - accuracy: 0.5646 - val_loss: 1.1939 - val_accuracy: 0.6381\n",
            "Epoch 4/10\n",
            "458/458 [==============================] - 13s 27ms/step - loss: 1.1657 - accuracy: 0.6333 - val_loss: 1.1694 - val_accuracy: 0.6333\n",
            "Epoch 5/10\n",
            "458/458 [==============================] - 12s 26ms/step - loss: 1.0954 - accuracy: 0.6594 - val_loss: 1.0936 - val_accuracy: 0.6529\n",
            "Epoch 6/10\n",
            "458/458 [==============================] - 12s 27ms/step - loss: 1.0291 - accuracy: 0.6814 - val_loss: 1.0269 - val_accuracy: 0.6859\n",
            "Epoch 7/10\n",
            "458/458 [==============================] - 12s 27ms/step - loss: 0.9824 - accuracy: 0.6984 - val_loss: 1.0052 - val_accuracy: 0.6894\n",
            "Epoch 8/10\n",
            "458/458 [==============================] - 12s 27ms/step - loss: 0.9389 - accuracy: 0.7128 - val_loss: 0.9513 - val_accuracy: 0.7112\n",
            "Epoch 9/10\n",
            "458/458 [==============================] - 12s 26ms/step - loss: 0.9085 - accuracy: 0.7207 - val_loss: 0.9428 - val_accuracy: 0.7082\n",
            "Epoch 10/10\n",
            "458/458 [==============================] - 12s 26ms/step - loss: 0.8836 - accuracy: 0.7313 - val_loss: 0.8842 - val_accuracy: 0.7296\n"
          ],
          "name": "stdout"
        }
      ]
    },
    {
      "cell_type": "code",
      "metadata": {
        "colab": {
          "base_uri": "https://localhost:8080/"
        },
        "id": "ROHH6sjCKxaC",
        "outputId": "0a25ea5d-cdc2-433d-d090-d2192790b9b7"
      },
      "source": [
        "score =model.evaluate(X_test_normalized, y_test, verbose = 0)\n",
        "print('Test loss: ',score[0])\n",
        "print('Test accuracy: ', score[1])"
      ],
      "execution_count": null,
      "outputs": [
        {
          "output_type": "stream",
          "text": [
            "Test loss:  0.9869659543037415\n",
            "Test accuracy:  0.7058620452880859\n"
          ],
          "name": "stdout"
        }
      ]
    },
    {
      "cell_type": "code",
      "metadata": {
        "colab": {
          "base_uri": "https://localhost:8080/"
        },
        "id": "V2OwtwNUK1gi",
        "outputId": "615dc35c-020b-4876-9bcf-08ea93f0e91b"
      },
      "source": [
        "#different batch size = 256 & learning rate = 0.01 instead of 0.001\n",
        "model = Sequential()\n",
        "model.add(Dense(512,activation='relu', input_shape = (X_train_normalized.shape[1],), name= 'hiddenlayer1'))\n",
        "model.add(Dense(128,activation='relu', name= 'hiddenlayer2'))\n",
        "model.add(Dense(11,activation='softmax', name= 'output_layer'))\n",
        "model.compile(loss = 'sparse_categorical_crossentropy', optimizer=Adam(learning_rate=0.01), metrics =['accuracy'])\n",
        "fitted3 = model.fit(X_train_normalized, y_train, batch_size= 256, epochs=10, validation_split=0.2, verbose=1)\n",
        "score =model.evaluate(X_test_normalized, y_test, verbose = 0)\n",
        "print('Test loss: ',score[0])\n",
        "print('Test accuracy: ', score[1])"
      ],
      "execution_count": null,
      "outputs": [
        {
          "output_type": "stream",
          "text": [
            "Epoch 1/10\n",
            "229/229 [==============================] - 10s 42ms/step - loss: 7.9003 - accuracy: 0.1589 - val_loss: 2.2364 - val_accuracy: 0.1875\n",
            "Epoch 2/10\n",
            "229/229 [==============================] - 9s 40ms/step - loss: 2.2387 - accuracy: 0.1904 - val_loss: 2.2286 - val_accuracy: 0.1875\n",
            "Epoch 3/10\n",
            "229/229 [==============================] - 9s 40ms/step - loss: 2.2292 - accuracy: 0.1880 - val_loss: 2.2142 - val_accuracy: 0.1876\n",
            "Epoch 4/10\n",
            "229/229 [==============================] - 9s 41ms/step - loss: 2.1981 - accuracy: 0.1954 - val_loss: 2.0847 - val_accuracy: 0.2558\n",
            "Epoch 5/10\n",
            "229/229 [==============================] - 9s 40ms/step - loss: 2.0289 - accuracy: 0.2754 - val_loss: 1.9341 - val_accuracy: 0.3179\n",
            "Epoch 6/10\n",
            "229/229 [==============================] - 9s 41ms/step - loss: 1.7823 - accuracy: 0.3782 - val_loss: 1.6762 - val_accuracy: 0.4294\n",
            "Epoch 7/10\n",
            "229/229 [==============================] - 9s 41ms/step - loss: 1.6353 - accuracy: 0.4449 - val_loss: 1.5996 - val_accuracy: 0.4634\n",
            "Epoch 8/10\n",
            "229/229 [==============================] - 9s 41ms/step - loss: 1.5401 - accuracy: 0.4817 - val_loss: 1.4877 - val_accuracy: 0.5029\n",
            "Epoch 9/10\n",
            "229/229 [==============================] - 9s 41ms/step - loss: 1.3968 - accuracy: 0.5296 - val_loss: 1.4285 - val_accuracy: 0.5255\n",
            "Epoch 10/10\n",
            "229/229 [==============================] - 9s 41ms/step - loss: 1.3553 - accuracy: 0.5518 - val_loss: 1.3205 - val_accuracy: 0.5692\n",
            "Test loss:  1.435676097869873\n",
            "Test accuracy:  0.5353026986122131\n"
          ],
          "name": "stdout"
        }
      ]
    },
    {
      "cell_type": "markdown",
      "metadata": {
        "id": "OMwzANMFL--4"
      },
      "source": [
        "##Best batch size can be  256. However, Learning rate must be evaluated at higher epocs."
      ]
    },
    {
      "cell_type": "code",
      "metadata": {
        "colab": {
          "base_uri": "https://localhost:8080/"
        },
        "id": "8l8XWHjbLJDd",
        "outputId": "91f11909-90f0-4ca3-a4c2-794443bdbeb5"
      },
      "source": [
        "#add more hidden layers with increasing the neuron number because i think my model underfitted to train data and i want to make it more complex  \n",
        "model2 = Sequential()\n",
        "model2.add(Dense(1028,activation='relu', input_shape = (X_train_normalized.shape[1],), name= 'hiddenlayer1'))\n",
        "model2.add(Dense(512,activation='relu', name= 'hiddenlayer2'))\n",
        "model2.add(Dense(128,activation='relu', name= 'hiddenlayer3'))\n",
        "model2.add(Dense(11,activation='softmax', name= 'output_layer'))\n",
        "model2.summary()"
      ],
      "execution_count": null,
      "outputs": [
        {
          "output_type": "stream",
          "text": [
            "Model: \"sequential_3\"\n",
            "_________________________________________________________________\n",
            "Layer (type)                 Output Shape              Param #   \n",
            "=================================================================\n",
            "hiddenlayer1 (Dense)         (None, 1028)              3159044   \n",
            "_________________________________________________________________\n",
            "hiddenlayer2 (Dense)         (None, 512)               526848    \n",
            "_________________________________________________________________\n",
            "hiddenlayer3 (Dense)         (None, 128)               65664     \n",
            "_________________________________________________________________\n",
            "output_layer (Dense)         (None, 11)                1419      \n",
            "=================================================================\n",
            "Total params: 3,752,975\n",
            "Trainable params: 3,752,975\n",
            "Non-trainable params: 0\n",
            "_________________________________________________________________\n"
          ],
          "name": "stdout"
        }
      ]
    },
    {
      "cell_type": "code",
      "metadata": {
        "colab": {
          "base_uri": "https://localhost:8080/"
        },
        "id": "tX_Ja1mBLnh6",
        "outputId": "28c287f3-8289-4b28-8570-2cef49fc8caf"
      },
      "source": [
        "model2.compile(loss = 'sparse_categorical_crossentropy', optimizer=Adam(), metrics =['accuracy'])\n",
        "\n",
        "fitted4 = model2.fit(X_train_normalized, y_train, batch_size= 256, epochs=10, validation_split=0.2, verbose=1)"
      ],
      "execution_count": null,
      "outputs": [
        {
          "output_type": "stream",
          "text": [
            "Epoch 1/10\n",
            "229/229 [==============================] - 22s 94ms/step - loss: 2.4121 - accuracy: 0.1649 - val_loss: 2.1511 - val_accuracy: 0.2322\n",
            "Epoch 2/10\n",
            "229/229 [==============================] - 21s 92ms/step - loss: 2.0519 - accuracy: 0.2689 - val_loss: 1.5468 - val_accuracy: 0.4944\n",
            "Epoch 3/10\n",
            "229/229 [==============================] - 21s 92ms/step - loss: 1.4156 - accuracy: 0.5336 - val_loss: 1.1818 - val_accuracy: 0.6275\n",
            "Epoch 4/10\n",
            "229/229 [==============================] - 21s 93ms/step - loss: 1.1430 - accuracy: 0.6386 - val_loss: 1.1138 - val_accuracy: 0.6422\n",
            "Epoch 5/10\n",
            "229/229 [==============================] - 21s 93ms/step - loss: 1.0270 - accuracy: 0.6794 - val_loss: 1.0089 - val_accuracy: 0.6843\n",
            "Epoch 6/10\n",
            "229/229 [==============================] - 21s 93ms/step - loss: 0.9280 - accuracy: 0.7151 - val_loss: 0.9220 - val_accuracy: 0.7144\n",
            "Epoch 7/10\n",
            "229/229 [==============================] - 21s 93ms/step - loss: 0.8649 - accuracy: 0.7320 - val_loss: 0.9300 - val_accuracy: 0.7088\n",
            "Epoch 8/10\n",
            "229/229 [==============================] - 21s 93ms/step - loss: 0.8319 - accuracy: 0.7420 - val_loss: 0.8482 - val_accuracy: 0.7367\n",
            "Epoch 9/10\n",
            "229/229 [==============================] - 21s 93ms/step - loss: 0.7837 - accuracy: 0.7575 - val_loss: 0.8079 - val_accuracy: 0.7559\n",
            "Epoch 10/10\n",
            "229/229 [==============================] - 21s 93ms/step - loss: 0.7478 - accuracy: 0.7672 - val_loss: 0.7829 - val_accuracy: 0.7592\n"
          ],
          "name": "stdout"
        }
      ]
    },
    {
      "cell_type": "code",
      "metadata": {
        "colab": {
          "base_uri": "https://localhost:8080/"
        },
        "id": "ZKHdoPzrd-nI",
        "outputId": "70898beb-73db-4a14-ae00-2ecae8639722"
      },
      "source": [
        "score =model2.evaluate(X_test_normalized, y_test, verbose = 0)\n",
        "print('Test loss: ',score[0])\n",
        "print('Test accuracy: ', score[1])"
      ],
      "execution_count": null,
      "outputs": [
        {
          "output_type": "stream",
          "text": [
            "Test loss:  0.8823224306106567\n",
            "Test accuracy:  0.7387446165084839\n"
          ],
          "name": "stdout"
        }
      ]
    },
    {
      "cell_type": "markdown",
      "metadata": {
        "id": "WHVGpFbxgRoE"
      },
      "source": [
        "##This is clearly better. As a last thing, i will train the model more to make it more complex. Then, i will compare the learning rate outcomes."
      ]
    },
    {
      "cell_type": "code",
      "metadata": {
        "colab": {
          "base_uri": "https://localhost:8080/"
        },
        "id": "MY4rR57sOuMz",
        "outputId": "6f7cbf2f-2a83-4f14-e27b-bd923918c9f0"
      },
      "source": [
        "model = Sequential()\n",
        "model.add(Dense(1028,activation='relu', input_shape = (X_train_normalized.shape[1],), name= 'hiddenlayer1'))\n",
        "model.add(Dense(512,activation='relu', name= 'hiddenlayer2'))\n",
        "model.add(Dense(128,activation='relu', name= 'hiddenlayer3'))\n",
        "model.add(Dense(11,activation='softmax', name= 'output_layer'))\n",
        "model.summary()\n",
        "model.compile(loss = 'sparse_categorical_crossentropy', optimizer=Adam(), metrics =['accuracy'])\n",
        "\n",
        "fitted4 = model.fit(X_train_normalized, y_train, batch_size= 256, epochs=30, validation_split=0.2, verbose=1)"
      ],
      "execution_count": null,
      "outputs": [
        {
          "output_type": "stream",
          "text": [
            "Model: \"sequential_4\"\n",
            "_________________________________________________________________\n",
            "Layer (type)                 Output Shape              Param #   \n",
            "=================================================================\n",
            "hiddenlayer1 (Dense)         (None, 1028)              3159044   \n",
            "_________________________________________________________________\n",
            "hiddenlayer2 (Dense)         (None, 512)               526848    \n",
            "_________________________________________________________________\n",
            "hiddenlayer3 (Dense)         (None, 128)               65664     \n",
            "_________________________________________________________________\n",
            "output_layer (Dense)         (None, 11)                1419      \n",
            "=================================================================\n",
            "Total params: 3,752,975\n",
            "Trainable params: 3,752,975\n",
            "Non-trainable params: 0\n",
            "_________________________________________________________________\n",
            "Epoch 1/30\n",
            "229/229 [==============================] - 23s 98ms/step - loss: 2.5174 - accuracy: 0.1697 - val_loss: 2.1486 - val_accuracy: 0.2388\n",
            "Epoch 2/30\n",
            "229/229 [==============================] - 22s 97ms/step - loss: 2.0855 - accuracy: 0.2555 - val_loss: 1.6962 - val_accuracy: 0.4100\n",
            "Epoch 3/30\n",
            "229/229 [==============================] - 22s 96ms/step - loss: 1.5990 - accuracy: 0.4470 - val_loss: 1.3401 - val_accuracy: 0.5390\n",
            "Epoch 4/30\n",
            "229/229 [==============================] - 22s 95ms/step - loss: 1.2296 - accuracy: 0.6064 - val_loss: 1.0945 - val_accuracy: 0.6560\n",
            "Epoch 5/30\n",
            "229/229 [==============================] - 22s 94ms/step - loss: 1.0729 - accuracy: 0.6637 - val_loss: 1.0060 - val_accuracy: 0.6837\n",
            "Epoch 6/30\n",
            "229/229 [==============================] - 22s 94ms/step - loss: 0.9712 - accuracy: 0.6990 - val_loss: 0.9544 - val_accuracy: 0.7030\n",
            "Epoch 7/30\n",
            "229/229 [==============================] - 22s 95ms/step - loss: 0.9080 - accuracy: 0.7215 - val_loss: 0.8986 - val_accuracy: 0.7226\n",
            "Epoch 8/30\n",
            "229/229 [==============================] - 22s 95ms/step - loss: 0.8473 - accuracy: 0.7387 - val_loss: 0.8454 - val_accuracy: 0.7407\n",
            "Epoch 9/30\n",
            "229/229 [==============================] - 22s 95ms/step - loss: 0.8081 - accuracy: 0.7512 - val_loss: 0.8523 - val_accuracy: 0.7332\n",
            "Epoch 10/30\n",
            "229/229 [==============================] - 22s 95ms/step - loss: 0.7713 - accuracy: 0.7623 - val_loss: 0.7610 - val_accuracy: 0.7699\n",
            "Epoch 11/30\n",
            "229/229 [==============================] - 21s 94ms/step - loss: 0.7218 - accuracy: 0.7806 - val_loss: 0.7425 - val_accuracy: 0.7758\n",
            "Epoch 12/30\n",
            "229/229 [==============================] - 22s 94ms/step - loss: 0.7000 - accuracy: 0.7848 - val_loss: 0.7568 - val_accuracy: 0.7683\n",
            "Epoch 13/30\n",
            "229/229 [==============================] - 21s 94ms/step - loss: 0.6850 - accuracy: 0.7868 - val_loss: 0.7218 - val_accuracy: 0.7811\n",
            "Epoch 14/30\n",
            "229/229 [==============================] - 21s 92ms/step - loss: 0.6630 - accuracy: 0.7951 - val_loss: 0.7236 - val_accuracy: 0.7817\n",
            "Epoch 15/30\n",
            "229/229 [==============================] - 21s 92ms/step - loss: 0.6451 - accuracy: 0.7962 - val_loss: 0.7789 - val_accuracy: 0.7646\n",
            "Epoch 16/30\n",
            "229/229 [==============================] - 21s 92ms/step - loss: 0.6259 - accuracy: 0.8062 - val_loss: 0.6816 - val_accuracy: 0.7970\n",
            "Epoch 17/30\n",
            "229/229 [==============================] - 21s 92ms/step - loss: 0.6033 - accuracy: 0.8132 - val_loss: 0.6913 - val_accuracy: 0.7923\n",
            "Epoch 18/30\n",
            "229/229 [==============================] - 21s 92ms/step - loss: 0.5768 - accuracy: 0.8190 - val_loss: 0.6763 - val_accuracy: 0.7995\n",
            "Epoch 19/30\n",
            "229/229 [==============================] - 21s 92ms/step - loss: 0.5637 - accuracy: 0.8249 - val_loss: 0.6812 - val_accuracy: 0.7975\n",
            "Epoch 20/30\n",
            "229/229 [==============================] - 21s 92ms/step - loss: 0.5484 - accuracy: 0.8284 - val_loss: 0.6984 - val_accuracy: 0.7944\n",
            "Epoch 21/30\n",
            "229/229 [==============================] - 21s 92ms/step - loss: 0.5460 - accuracy: 0.8288 - val_loss: 0.6722 - val_accuracy: 0.7976\n",
            "Epoch 22/30\n",
            "229/229 [==============================] - 21s 92ms/step - loss: 0.5307 - accuracy: 0.8340 - val_loss: 0.6848 - val_accuracy: 0.7936\n",
            "Epoch 23/30\n",
            "229/229 [==============================] - 21s 92ms/step - loss: 0.5131 - accuracy: 0.8373 - val_loss: 0.6321 - val_accuracy: 0.8120\n",
            "Epoch 24/30\n",
            "229/229 [==============================] - 21s 91ms/step - loss: 0.4997 - accuracy: 0.8413 - val_loss: 0.6154 - val_accuracy: 0.8185\n",
            "Epoch 25/30\n",
            "229/229 [==============================] - 21s 91ms/step - loss: 0.4819 - accuracy: 0.8473 - val_loss: 0.6202 - val_accuracy: 0.8170\n",
            "Epoch 26/30\n",
            "229/229 [==============================] - 21s 92ms/step - loss: 0.4667 - accuracy: 0.8531 - val_loss: 0.5979 - val_accuracy: 0.8268\n",
            "Epoch 27/30\n",
            "229/229 [==============================] - 21s 91ms/step - loss: 0.4490 - accuracy: 0.8591 - val_loss: 0.6701 - val_accuracy: 0.8014\n",
            "Epoch 28/30\n",
            "229/229 [==============================] - 21s 92ms/step - loss: 0.4603 - accuracy: 0.8548 - val_loss: 0.6961 - val_accuracy: 0.7939\n",
            "Epoch 29/30\n",
            "229/229 [==============================] - 21s 92ms/step - loss: 0.4492 - accuracy: 0.8555 - val_loss: 0.6271 - val_accuracy: 0.8217\n",
            "Epoch 30/30\n",
            "229/229 [==============================] - 21s 92ms/step - loss: 0.4297 - accuracy: 0.8622 - val_loss: 0.6396 - val_accuracy: 0.8123\n"
          ],
          "name": "stdout"
        }
      ]
    },
    {
      "cell_type": "code",
      "metadata": {
        "colab": {
          "base_uri": "https://localhost:8080/"
        },
        "id": "t2JWT_mUjMQF",
        "outputId": "acd42744-48c5-49a1-ce0c-942f58e9932a"
      },
      "source": [
        "score =model.evaluate(X_test_normalized, y_test, verbose = 0)\n",
        "print('Test loss: ',score[0])\n",
        "print('Test accuracy: ', score[1])"
      ],
      "execution_count": null,
      "outputs": [
        {
          "output_type": "stream",
          "text": [
            "Test loss:  0.7691133618354797\n",
            "Test accuracy:  0.7854948043823242\n"
          ],
          "name": "stdout"
        }
      ]
    },
    {
      "cell_type": "code",
      "metadata": {
        "colab": {
          "base_uri": "https://localhost:8080/"
        },
        "id": "IapsfSFN7b5J",
        "outputId": "4087aac8-654c-484e-a39d-e6916715a775"
      },
      "source": [
        "model = Sequential()\n",
        "model.add(Dense(1028,activation='relu', input_shape = (X_train_normalized.shape[1],), name= 'hiddenlayer1'))\n",
        "model.add(Dense(512,activation='relu', name= 'hiddenlayer2'))\n",
        "model.add(Dense(128,activation='relu', name= 'hiddenlayer3'))\n",
        "model.add(Dense(11,activation='softmax', name= 'output_layer'))\n",
        "model.summary()\n",
        "model.compile(loss = 'sparse_categorical_crossentropy', optimizer=Adam(learning_rate=0.0005), metrics =['accuracy'])\n",
        "\n",
        "fitted4 = model.fit(X_train_normalized, y_train, batch_size= 256, epochs=30, validation_split=0.2, verbose=1)"
      ],
      "execution_count": null,
      "outputs": [
        {
          "output_type": "stream",
          "text": [
            "Model: \"sequential_8\"\n",
            "_________________________________________________________________\n",
            "Layer (type)                 Output Shape              Param #   \n",
            "=================================================================\n",
            "hiddenlayer1 (Dense)         (None, 1028)              3159044   \n",
            "_________________________________________________________________\n",
            "hiddenlayer2 (Dense)         (None, 512)               526848    \n",
            "_________________________________________________________________\n",
            "hiddenlayer3 (Dense)         (None, 128)               65664     \n",
            "_________________________________________________________________\n",
            "output_layer (Dense)         (None, 11)                1419      \n",
            "=================================================================\n",
            "Total params: 3,752,975\n",
            "Trainable params: 3,752,975\n",
            "Non-trainable params: 0\n",
            "_________________________________________________________________\n",
            "Epoch 1/30\n",
            "229/229 [==============================] - 22s 92ms/step - loss: 2.2925 - accuracy: 0.1724 - val_loss: 2.0932 - val_accuracy: 0.2439\n",
            "Epoch 2/30\n",
            "229/229 [==============================] - 21s 91ms/step - loss: 1.9274 - accuracy: 0.3285 - val_loss: 1.5420 - val_accuracy: 0.4808\n",
            "Epoch 3/30\n",
            "229/229 [==============================] - 21s 91ms/step - loss: 1.3927 - accuracy: 0.5397 - val_loss: 1.1941 - val_accuracy: 0.6317\n",
            "Epoch 4/30\n",
            "229/229 [==============================] - 21s 91ms/step - loss: 1.1215 - accuracy: 0.6498 - val_loss: 1.0320 - val_accuracy: 0.6886\n",
            "Epoch 5/30\n",
            "229/229 [==============================] - 21s 91ms/step - loss: 1.0028 - accuracy: 0.6906 - val_loss: 1.0450 - val_accuracy: 0.6710\n",
            "Epoch 6/30\n",
            "229/229 [==============================] - 21s 91ms/step - loss: 0.9222 - accuracy: 0.7161 - val_loss: 0.8943 - val_accuracy: 0.7279\n",
            "Epoch 7/30\n",
            "229/229 [==============================] - 21s 92ms/step - loss: 0.8691 - accuracy: 0.7328 - val_loss: 0.8484 - val_accuracy: 0.7452\n",
            "Epoch 8/30\n",
            "229/229 [==============================] - 21s 92ms/step - loss: 0.8145 - accuracy: 0.7528 - val_loss: 0.8635 - val_accuracy: 0.7342\n",
            "Epoch 9/30\n",
            "229/229 [==============================] - 21s 92ms/step - loss: 0.7884 - accuracy: 0.7591 - val_loss: 0.8033 - val_accuracy: 0.7543\n",
            "Epoch 10/30\n",
            "229/229 [==============================] - 21s 91ms/step - loss: 0.7480 - accuracy: 0.7735 - val_loss: 0.7591 - val_accuracy: 0.7698\n",
            "Epoch 11/30\n",
            "229/229 [==============================] - 21s 91ms/step - loss: 0.7116 - accuracy: 0.7827 - val_loss: 0.7895 - val_accuracy: 0.7590\n",
            "Epoch 12/30\n",
            "229/229 [==============================] - 21s 92ms/step - loss: 0.6998 - accuracy: 0.7868 - val_loss: 0.7329 - val_accuracy: 0.7819\n",
            "Epoch 13/30\n",
            "229/229 [==============================] - 21s 92ms/step - loss: 0.6730 - accuracy: 0.7949 - val_loss: 0.7683 - val_accuracy: 0.7626\n",
            "Epoch 14/30\n",
            "229/229 [==============================] - 21s 91ms/step - loss: 0.6458 - accuracy: 0.8030 - val_loss: 0.6923 - val_accuracy: 0.7931\n",
            "Epoch 15/30\n",
            "229/229 [==============================] - 21s 92ms/step - loss: 0.6274 - accuracy: 0.8115 - val_loss: 0.6614 - val_accuracy: 0.8004\n",
            "Epoch 16/30\n",
            "229/229 [==============================] - 21s 92ms/step - loss: 0.6023 - accuracy: 0.8172 - val_loss: 0.7024 - val_accuracy: 0.7903\n",
            "Epoch 17/30\n",
            "229/229 [==============================] - 21s 92ms/step - loss: 0.5828 - accuracy: 0.8223 - val_loss: 0.6611 - val_accuracy: 0.8053\n",
            "Epoch 18/30\n",
            "229/229 [==============================] - 21s 92ms/step - loss: 0.5660 - accuracy: 0.8266 - val_loss: 0.6478 - val_accuracy: 0.8103\n",
            "Epoch 19/30\n",
            "229/229 [==============================] - 21s 92ms/step - loss: 0.5561 - accuracy: 0.8304 - val_loss: 0.6352 - val_accuracy: 0.8126\n",
            "Epoch 20/30\n",
            "229/229 [==============================] - 21s 91ms/step - loss: 0.5407 - accuracy: 0.8335 - val_loss: 0.6659 - val_accuracy: 0.8027\n",
            "Epoch 21/30\n",
            "229/229 [==============================] - 21s 91ms/step - loss: 0.5227 - accuracy: 0.8420 - val_loss: 0.6771 - val_accuracy: 0.7983\n",
            "Epoch 22/30\n",
            "229/229 [==============================] - 21s 91ms/step - loss: 0.5183 - accuracy: 0.8424 - val_loss: 0.6557 - val_accuracy: 0.8120\n",
            "Epoch 23/30\n",
            "229/229 [==============================] - 21s 91ms/step - loss: 0.5060 - accuracy: 0.8431 - val_loss: 0.6163 - val_accuracy: 0.8217\n",
            "Epoch 24/30\n",
            "229/229 [==============================] - 21s 91ms/step - loss: 0.4903 - accuracy: 0.8497 - val_loss: 0.6165 - val_accuracy: 0.8198\n",
            "Epoch 25/30\n",
            "229/229 [==============================] - 21s 91ms/step - loss: 0.4801 - accuracy: 0.8498 - val_loss: 0.6076 - val_accuracy: 0.8237\n",
            "Epoch 26/30\n",
            "229/229 [==============================] - 21s 91ms/step - loss: 0.4648 - accuracy: 0.8574 - val_loss: 0.5894 - val_accuracy: 0.8290\n",
            "Epoch 27/30\n",
            "229/229 [==============================] - 21s 91ms/step - loss: 0.4516 - accuracy: 0.8601 - val_loss: 0.5993 - val_accuracy: 0.8289\n",
            "Epoch 28/30\n",
            "229/229 [==============================] - 21s 91ms/step - loss: 0.4393 - accuracy: 0.8644 - val_loss: 0.6306 - val_accuracy: 0.8163\n",
            "Epoch 29/30\n",
            "229/229 [==============================] - 21s 91ms/step - loss: 0.4448 - accuracy: 0.8622 - val_loss: 0.6156 - val_accuracy: 0.8238\n",
            "Epoch 30/30\n",
            "229/229 [==============================] - 21s 91ms/step - loss: 0.4335 - accuracy: 0.8647 - val_loss: 0.5901 - val_accuracy: 0.8299\n"
          ],
          "name": "stdout"
        }
      ]
    },
    {
      "cell_type": "markdown",
      "metadata": {
        "id": "0wBKan6IVIY_"
      },
      "source": [
        "##2.2) Part 2\n",
        "\n",
        "\n",
        "---\n",
        "\n"
      ]
    },
    {
      "cell_type": "markdown",
      "metadata": {
        "id": "QmJEZrWAa5PO"
      },
      "source": [
        "When training a model, model stops generalizing after a while and learns noices of the datapoints as well. One way to avoid this **overfitting** is to use **early stopping**. With early stopping, model performance is monitored on validation data in each epoch and stops updating weights when validation performance starts decreasing.\n",
        "\n",
        "https://keras.io/api/callbacks/early_stopping/\n",
        "\n",
        "![picture](https://drive.google.com/uc?id=1Rs8FkpVgifspzvlIfdTDYyBVjR01OgVj)"
      ]
    },
    {
      "cell_type": "code",
      "metadata": {
        "id": "CKu4TRlFgcdm",
        "colab": {
          "base_uri": "https://localhost:8080/"
        },
        "outputId": "3d1132ce-31d2-4ae8-b6d2-9090072d59d8"
      },
      "source": [
        "# Build & compile the model\n",
        "model = Sequential()\n",
        "model.add(Dense(1028,activation='relu', input_shape = (X_train_normalized.shape[1],), name= 'hiddenlayer1'))\n",
        "model.add(Dense(512,activation='relu', name= 'hiddenlayer2'))\n",
        "model.add(Dense(128,activation='relu', name= 'hiddenlayer3'))\n",
        "model.add(Dense(11,activation='softmax', name= 'output_layer'))\n",
        "model.summary()\n",
        "model.compile(loss = 'sparse_categorical_crossentropy', optimizer=Adam(), metrics =['accuracy'])"
      ],
      "execution_count": null,
      "outputs": [
        {
          "output_type": "stream",
          "text": [
            "Model: \"sequential_13\"\n",
            "_________________________________________________________________\n",
            "Layer (type)                 Output Shape              Param #   \n",
            "=================================================================\n",
            "hiddenlayer1 (Dense)         (None, 1028)              3159044   \n",
            "_________________________________________________________________\n",
            "hiddenlayer2 (Dense)         (None, 512)               526848    \n",
            "_________________________________________________________________\n",
            "hiddenlayer3 (Dense)         (None, 128)               65664     \n",
            "_________________________________________________________________\n",
            "output_layer (Dense)         (None, 11)                1419      \n",
            "=================================================================\n",
            "Total params: 3,752,975\n",
            "Trainable params: 3,752,975\n",
            "Non-trainable params: 0\n",
            "_________________________________________________________________\n"
          ],
          "name": "stdout"
        }
      ]
    },
    {
      "cell_type": "code",
      "metadata": {
        "id": "T0nPbz5AVOFG",
        "colab": {
          "base_uri": "https://localhost:8080/"
        },
        "outputId": "71ae175c-e177-4b17-b78b-e56c0d2b3f62"
      },
      "source": [
        "# Aim is to stop when minimum validation loss is achieved\n",
        "from keras.callbacks import EarlyStopping\n",
        "es = EarlyStopping(monitor='val_loss', patience=10,verbose=1, mode='min',restore_best_weights=True) # Training will stop when minimum validation loss is achieved\n",
        "\n",
        "model.fit(X_train_normalized, y_train, batch_size= 256, epochs=100, validation_split=0.2, # you can have large epoch size since it will stop when best validation loss is achieved\n",
        "                              callbacks=[es], verbose=1)"
      ],
      "execution_count": null,
      "outputs": [
        {
          "output_type": "stream",
          "text": [
            "Epoch 1/100\n",
            "229/229 [==============================] - 23s 96ms/step - loss: 2.4238 - accuracy: 0.1663 - val_loss: 2.1497 - val_accuracy: 0.2135\n",
            "Epoch 2/100\n",
            "229/229 [==============================] - 21s 93ms/step - loss: 2.0187 - accuracy: 0.2797 - val_loss: 1.5953 - val_accuracy: 0.4749\n",
            "Epoch 3/100\n",
            "229/229 [==============================] - 22s 95ms/step - loss: 1.4673 - accuracy: 0.5135 - val_loss: 1.2265 - val_accuracy: 0.5993\n",
            "Epoch 4/100\n",
            "229/229 [==============================] - 22s 95ms/step - loss: 1.1750 - accuracy: 0.6222 - val_loss: 1.0991 - val_accuracy: 0.6554\n",
            "Epoch 5/100\n",
            "229/229 [==============================] - 21s 93ms/step - loss: 1.0391 - accuracy: 0.6775 - val_loss: 0.9863 - val_accuracy: 0.6934\n",
            "Epoch 6/100\n",
            "229/229 [==============================] - 21s 92ms/step - loss: 0.9603 - accuracy: 0.7026 - val_loss: 0.9578 - val_accuracy: 0.7026\n",
            "Epoch 7/100\n",
            "229/229 [==============================] - 21s 93ms/step - loss: 0.8930 - accuracy: 0.7219 - val_loss: 0.8789 - val_accuracy: 0.7294\n",
            "Epoch 8/100\n",
            "229/229 [==============================] - 21s 93ms/step - loss: 0.8290 - accuracy: 0.7439 - val_loss: 0.8846 - val_accuracy: 0.7276\n",
            "Epoch 9/100\n",
            "229/229 [==============================] - 21s 94ms/step - loss: 0.7941 - accuracy: 0.7559 - val_loss: 0.8308 - val_accuracy: 0.7409\n",
            "Epoch 10/100\n",
            "229/229 [==============================] - 21s 94ms/step - loss: 0.7686 - accuracy: 0.7636 - val_loss: 0.8032 - val_accuracy: 0.7499\n",
            "Epoch 11/100\n",
            "229/229 [==============================] - 21s 93ms/step - loss: 0.7221 - accuracy: 0.7770 - val_loss: 0.8061 - val_accuracy: 0.7514\n",
            "Epoch 12/100\n",
            "229/229 [==============================] - 21s 93ms/step - loss: 0.7121 - accuracy: 0.7799 - val_loss: 0.7320 - val_accuracy: 0.7754\n",
            "Epoch 13/100\n",
            "229/229 [==============================] - 21s 93ms/step - loss: 0.6748 - accuracy: 0.7922 - val_loss: 0.7493 - val_accuracy: 0.7693\n",
            "Epoch 14/100\n",
            "229/229 [==============================] - 21s 93ms/step - loss: 0.6583 - accuracy: 0.7962 - val_loss: 0.7697 - val_accuracy: 0.7635\n",
            "Epoch 15/100\n",
            "229/229 [==============================] - 21s 94ms/step - loss: 0.6510 - accuracy: 0.8004 - val_loss: 0.6986 - val_accuracy: 0.7899\n",
            "Epoch 16/100\n",
            "229/229 [==============================] - 21s 93ms/step - loss: 0.6195 - accuracy: 0.8070 - val_loss: 0.6985 - val_accuracy: 0.7860\n",
            "Epoch 17/100\n",
            "229/229 [==============================] - 21s 93ms/step - loss: 0.6080 - accuracy: 0.8080 - val_loss: 0.7010 - val_accuracy: 0.7856\n",
            "Epoch 18/100\n",
            "229/229 [==============================] - 21s 92ms/step - loss: 0.5752 - accuracy: 0.8198 - val_loss: 0.6786 - val_accuracy: 0.7950\n",
            "Epoch 19/100\n",
            "229/229 [==============================] - 21s 93ms/step - loss: 0.5547 - accuracy: 0.8276 - val_loss: 0.6559 - val_accuracy: 0.8028\n",
            "Epoch 20/100\n",
            "229/229 [==============================] - 21s 93ms/step - loss: 0.5679 - accuracy: 0.8212 - val_loss: 0.6810 - val_accuracy: 0.7933\n",
            "Epoch 21/100\n",
            "229/229 [==============================] - 21s 93ms/step - loss: 0.5303 - accuracy: 0.8339 - val_loss: 0.6514 - val_accuracy: 0.8032\n",
            "Epoch 22/100\n",
            "229/229 [==============================] - 21s 93ms/step - loss: 0.5168 - accuracy: 0.8355 - val_loss: 0.6371 - val_accuracy: 0.8073\n",
            "Epoch 23/100\n",
            "229/229 [==============================] - 21s 93ms/step - loss: 0.5132 - accuracy: 0.8374 - val_loss: 0.6698 - val_accuracy: 0.7965\n",
            "Epoch 24/100\n",
            "229/229 [==============================] - 21s 93ms/step - loss: 0.5019 - accuracy: 0.8407 - val_loss: 0.6263 - val_accuracy: 0.8158\n",
            "Epoch 25/100\n",
            "229/229 [==============================] - 21s 93ms/step - loss: 0.4853 - accuracy: 0.8445 - val_loss: 0.6081 - val_accuracy: 0.8200\n",
            "Epoch 26/100\n",
            "229/229 [==============================] - 21s 93ms/step - loss: 0.4603 - accuracy: 0.8541 - val_loss: 0.6371 - val_accuracy: 0.8106\n",
            "Epoch 27/100\n",
            "229/229 [==============================] - 21s 93ms/step - loss: 0.4565 - accuracy: 0.8551 - val_loss: 0.6711 - val_accuracy: 0.8044\n",
            "Epoch 28/100\n",
            "229/229 [==============================] - 21s 94ms/step - loss: 0.4647 - accuracy: 0.8513 - val_loss: 0.6418 - val_accuracy: 0.8091\n",
            "Epoch 29/100\n",
            "229/229 [==============================] - 22s 94ms/step - loss: 0.4363 - accuracy: 0.8594 - val_loss: 0.5921 - val_accuracy: 0.8273\n",
            "Epoch 30/100\n",
            "229/229 [==============================] - 21s 93ms/step - loss: 0.4149 - accuracy: 0.8668 - val_loss: 0.6130 - val_accuracy: 0.8206\n",
            "Epoch 31/100\n",
            "229/229 [==============================] - 21s 93ms/step - loss: 0.4043 - accuracy: 0.8712 - val_loss: 0.6025 - val_accuracy: 0.8272\n",
            "Epoch 32/100\n",
            "229/229 [==============================] - 21s 93ms/step - loss: 0.4056 - accuracy: 0.8702 - val_loss: 0.6606 - val_accuracy: 0.8107\n",
            "Epoch 33/100\n",
            "229/229 [==============================] - 21s 93ms/step - loss: 0.4017 - accuracy: 0.8687 - val_loss: 0.6907 - val_accuracy: 0.8084\n",
            "Epoch 34/100\n",
            "229/229 [==============================] - 21s 94ms/step - loss: 0.4163 - accuracy: 0.8662 - val_loss: 0.6546 - val_accuracy: 0.8107\n",
            "Epoch 35/100\n",
            "229/229 [==============================] - 22s 94ms/step - loss: 0.3830 - accuracy: 0.8770 - val_loss: 0.6131 - val_accuracy: 0.8292\n",
            "Epoch 36/100\n",
            "229/229 [==============================] - 21s 94ms/step - loss: 0.3678 - accuracy: 0.8812 - val_loss: 0.6358 - val_accuracy: 0.8198\n",
            "Epoch 37/100\n",
            "229/229 [==============================] - 21s 94ms/step - loss: 0.3690 - accuracy: 0.8812 - val_loss: 0.6586 - val_accuracy: 0.8135\n",
            "Epoch 38/100\n",
            "229/229 [==============================] - 21s 93ms/step - loss: 0.3675 - accuracy: 0.8809 - val_loss: 0.6104 - val_accuracy: 0.8271\n",
            "Epoch 39/100\n",
            "229/229 [==============================] - 21s 93ms/step - loss: 0.3320 - accuracy: 0.8908 - val_loss: 0.6113 - val_accuracy: 0.8313\n",
            "Restoring model weights from the end of the best epoch.\n",
            "Epoch 00039: early stopping\n"
          ],
          "name": "stdout"
        },
        {
          "output_type": "execute_result",
          "data": {
            "text/plain": [
              "<keras.callbacks.History at 0x7f4fe3464c10>"
            ]
          },
          "metadata": {
            "tags": []
          },
          "execution_count": 50
        }
      ]
    },
    {
      "cell_type": "markdown",
      "metadata": {
        "id": "IRF2weImf12m"
      },
      "source": [
        "![picture](https://drive.google.com/uc?id=1Mp2W2VVQVmyuleSDNDKJLI6hxAtyG5gx)"
      ]
    },
    {
      "cell_type": "code",
      "metadata": {
        "id": "gnfijwFjePc6",
        "colab": {
          "base_uri": "https://localhost:8080/",
          "height": 295
        },
        "outputId": "02c29e16-5fdd-487f-df8d-cac2babb10f3"
      },
      "source": [
        "#Plot train & validation loss\n",
        "\n",
        "plt.plot(model.history.history['loss'])\n",
        "plt.plot(model.history.history['val_loss'])\n",
        "plt.title('model loss')\n",
        "plt.ylabel('loss')\n",
        "plt.xlabel('epoch')\n",
        "plt.legend(['train', 'test'], loc='upper left')\n",
        "plt.show()"
      ],
      "execution_count": null,
      "outputs": [
        {
          "output_type": "display_data",
          "data": {
            "image/png": "[encoded data removed]",
            "text/plain": [
              "<Figure size 432x288 with 1 Axes>"
            ]
          },
          "metadata": {
            "tags": [],
            "needs_background": "light"
          }
        }
      ]
    },
    {
      "cell_type": "code",
      "metadata": {
        "id": "IoBW8oIBgZfU",
        "colab": {
          "base_uri": "https://localhost:8080/"
        },
        "outputId": "d864b3b1-1f97-4f49-c8f8-235c1765057b"
      },
      "source": [
        "#Evaluate on test data\n",
        "score =model.evaluate(X_test_normalized, y_test, verbose = 0)\n",
        "print('Test loss: ',score[0])\n",
        "print('Test accuracy: ', score[1])"
      ],
      "execution_count": null,
      "outputs": [
        {
          "output_type": "stream",
          "text": [
            "Test loss:  0.7088384628295898\n",
            "Test accuracy:  0.8049324154853821\n"
          ],
          "name": "stdout"
        }
      ]
    },
    {
      "cell_type": "markdown",
      "metadata": {
        "id": "LNzYiVX5UyI-"
      },
      "source": [
        "#3) Report\n",
        "\n",
        "\n",
        "---\n",
        "\n",
        "Summary of models you try (learning rate, # of hidden layers, # of epochs, test accuracy, etc.) Write a short report & discuss the results of the models you trained"
      ]
    },
    {
      "cell_type": "markdown",
      "metadata": {
        "id": "lyAGFVoVifKe"
      },
      "source": [
        "Firstly, i tried different batch sizes such as 32,128,256 and these tests showed us that best result can be achieved by batch_size = 128 and the results are Test loss=  1.0041226148605347 and Test accuracy=  0.7022510766983032.\n",
        "\n",
        "Secondly, i added more hidden layers and increased the number of neurons because i thought my model underfitted to train data and i wanted to make it more complex. I added one more layer and it increased the performance up to values of test loss=  0.8760575652122498 and test accuracy=  0.7392055988311768. \n",
        "\n",
        "\n",
        "Then, i set the epoch as 30 and trained my model more. More training effected to the training and test results directly and it increased the test result up to: Test loss:  0.8121813535690308 and Test accuracy:  0.7732406258583069. So, number of epochs is one of the major factors for improvement of my model because if it is too lowö then model stays underfitted. On the other hand if it is too highö the model becomes overfitted as we see in the earlystopping conditions.\n",
        "\n",
        "Thirdly, i tried to add dropout to my model but i think i did something wrong. When i use the dropout functions, my model was like resetting the learning at each epoch. So, i removed this part.\n",
        "\n",
        "Finally, i used earlystopping nethod to prevent overfitting. When i increased the number of epochs, i observed that validation data accuracy sometimes did not improved but train accuracy score was increasing because of repeated trainings. So, i was worried about overfitting my model. Then, earlystopping method showed us that after 24th epoch, my model does not improve and it starts to overfitting.\n",
        "\n",
        "The final scores are;\n",
        "\n",
        "\n",
        "Test loss:  0.761054515838623\n",
        "\n",
        "\n",
        "Test accuracy:  0.7805009484291077\n",
        "\n",
        "\n",
        "\n",
        "\n",
        "Initial scores were;\n",
        "\n",
        "\n",
        "Test loss:  1.01712167263031\n",
        "\n",
        "\n",
        "Test accuracy:  0.7020590305328369"
      ]
    },
    {
      "cell_type": "markdown",
      "metadata": {
        "id": "LxHylPsSXU-Q"
      },
      "source": [
        "\n",
        "\n",
        "\n",
        "---\n",
        "\n",
        "\n",
        "**Dropout** : [Dropout](https://keras.io/api/layers/regularization_layers/dropout/) is a regularization approach. At each training stage, specified percent of individual nodes are dropped out of the network.\n",
        "\n",
        "[Read](https://machinelearningmastery.com/how-to-reduce-overfitting-with-dropout-regularization-in-keras/) MLP Dropout Regularization for further information\n",
        "\n",
        "![picture](https://drive.google.com/uc?id=12lv5VsPFLt6sKEZvgQRyQ7mHeW4l-Vq9)"
      ]
    },
    {
      "cell_type": "code",
      "metadata": {
        "id": "IhN20_8VpeqW"
      },
      "source": [
        "from keras.layers import Dropout"
      ],
      "execution_count": null,
      "outputs": []
    },
    {
      "cell_type": "code",
      "metadata": {
        "id": "RRZpQ4ZmXPVd",
        "colab": {
          "base_uri": "https://localhost:8080/"
        },
        "outputId": "5f4f43ce-057f-466d-feb3-b983100ac6d2"
      },
      "source": [
        "#Try adding dropout to the architecture \n",
        "model = Sequential()\n",
        "model.add(Dense(1028,activation='relu', input_shape = (X_train_normalized.shape[1],), name= 'hiddenlayer1'))\n",
        "model3.add(Dropout(0.5))\n",
        "model.add(Dense(512,activation='relu', name= 'hiddenlayer2'))\n",
        "model3.add(Dropout(0.5))\n",
        "model.add(Dense(128,activation='relu', name= 'hiddenlayer3'))\n",
        "model.add(Dense(11,activation='softmax', name= 'output_layer'))\n",
        "model.summary()\n",
        "model.compile(loss = 'sparse_categorical_crossentropy', optimizer=Adam(), metrics =['accuracy'])\n",
        "\n",
        "\n",
        "fitted4 = model.fit(X_train_normalized, y_train, batch_size= 128, epochs=100, validation_split=0.2, verbose=1)\n",
        "##### i did not understand the problem, i searched and tried different codes from different sources but it never worked out corretly \n",
        "##### val accuracy always stays same and very low, i could not fix"
      ],
      "execution_count": null,
      "outputs": [
        {
          "output_type": "stream",
          "text": [
            "Model: \"sequential_16\"\n",
            "_________________________________________________________________\n",
            "Layer (type)                 Output Shape              Param #   \n",
            "=================================================================\n",
            "hiddenlayer1 (Dense)         (None, 1028)              3159044   \n",
            "_________________________________________________________________\n",
            "hiddenlayer2 (Dense)         (None, 512)               526848    \n",
            "_________________________________________________________________\n",
            "hiddenlayer3 (Dense)         (None, 128)               65664     \n",
            "_________________________________________________________________\n",
            "output_layer (Dense)         (None, 11)                1419      \n",
            "=================================================================\n",
            "Total params: 3,752,975\n",
            "Trainable params: 3,752,975\n",
            "Non-trainable params: 0\n",
            "_________________________________________________________________\n",
            "Epoch 1/100\n",
            "458/458 [==============================] - 28s 59ms/step - loss: 2.3763 - accuracy: 0.1728 - val_loss: 1.9610 - val_accuracy: 0.3210\n",
            "Epoch 2/100\n",
            "458/458 [==============================] - 26s 57ms/step - loss: 1.6463 - accuracy: 0.4350 - val_loss: 1.2161 - val_accuracy: 0.6126\n",
            "Epoch 3/100\n",
            "458/458 [==============================] - 26s 57ms/step - loss: 1.1857 - accuracy: 0.6165 - val_loss: 1.1589 - val_accuracy: 0.6284\n",
            "Epoch 4/100\n",
            "458/458 [==============================] - 26s 58ms/step - loss: 1.0492 - accuracy: 0.6704 - val_loss: 1.0044 - val_accuracy: 0.6878\n",
            "Epoch 5/100\n",
            "458/458 [==============================] - 26s 57ms/step - loss: 0.9757 - accuracy: 0.6963 - val_loss: 0.9835 - val_accuracy: 0.6912\n",
            "Epoch 6/100\n",
            "458/458 [==============================] - 26s 57ms/step - loss: 0.8985 - accuracy: 0.7212 - val_loss: 0.9628 - val_accuracy: 0.6941\n",
            "Epoch 7/100\n",
            "458/458 [==============================] - 26s 57ms/step - loss: 0.8577 - accuracy: 0.7359 - val_loss: 0.8542 - val_accuracy: 0.7346\n",
            "Epoch 8/100\n",
            "458/458 [==============================] - 26s 57ms/step - loss: 0.8036 - accuracy: 0.7491 - val_loss: 0.8920 - val_accuracy: 0.7161\n",
            "Epoch 9/100\n",
            "458/458 [==============================] - 26s 58ms/step - loss: 0.7972 - accuracy: 0.7521 - val_loss: 0.8064 - val_accuracy: 0.7526\n",
            "Epoch 10/100\n",
            "458/458 [==============================] - 27s 58ms/step - loss: 0.7487 - accuracy: 0.7653 - val_loss: 0.7708 - val_accuracy: 0.7607\n",
            "Epoch 11/100\n",
            "458/458 [==============================] - 26s 58ms/step - loss: 0.7323 - accuracy: 0.7708 - val_loss: 0.7590 - val_accuracy: 0.7615\n",
            "Epoch 12/100\n",
            "458/458 [==============================] - 26s 58ms/step - loss: 0.6990 - accuracy: 0.7838 - val_loss: 0.7499 - val_accuracy: 0.7691\n",
            "Epoch 13/100\n",
            "458/458 [==============================] - 26s 58ms/step - loss: 0.6795 - accuracy: 0.7846 - val_loss: 0.8030 - val_accuracy: 0.7517\n",
            "Epoch 14/100\n",
            "458/458 [==============================] - 26s 58ms/step - loss: 0.6719 - accuracy: 0.7913 - val_loss: 0.7098 - val_accuracy: 0.7800\n",
            "Epoch 15/100\n",
            "458/458 [==============================] - 27s 58ms/step - loss: 0.6483 - accuracy: 0.7956 - val_loss: 0.6847 - val_accuracy: 0.7893\n",
            "Epoch 16/100\n",
            "458/458 [==============================] - 27s 59ms/step - loss: 0.6272 - accuracy: 0.8024 - val_loss: 0.7167 - val_accuracy: 0.7817\n",
            "Epoch 17/100\n",
            "458/458 [==============================] - 27s 59ms/step - loss: 0.6212 - accuracy: 0.8051 - val_loss: 0.7099 - val_accuracy: 0.7811\n",
            "Epoch 18/100\n",
            "458/458 [==============================] - 27s 59ms/step - loss: 0.5952 - accuracy: 0.8091 - val_loss: 0.7404 - val_accuracy: 0.7679\n",
            "Epoch 19/100\n",
            "458/458 [==============================] - 27s 60ms/step - loss: 0.5919 - accuracy: 0.8126 - val_loss: 0.6783 - val_accuracy: 0.7927\n",
            "Epoch 20/100\n",
            "458/458 [==============================] - 27s 59ms/step - loss: 0.5656 - accuracy: 0.8203 - val_loss: 0.6717 - val_accuracy: 0.7974\n",
            "Epoch 21/100\n",
            "458/458 [==============================] - 27s 60ms/step - loss: 0.5535 - accuracy: 0.8225 - val_loss: 0.6608 - val_accuracy: 0.8024\n",
            "Epoch 22/100\n",
            "458/458 [==============================] - 27s 58ms/step - loss: 0.5562 - accuracy: 0.8195 - val_loss: 0.7139 - val_accuracy: 0.7822\n",
            "Epoch 23/100\n",
            "458/458 [==============================] - 26s 58ms/step - loss: 0.5307 - accuracy: 0.8316 - val_loss: 0.7397 - val_accuracy: 0.7700\n",
            "Epoch 24/100\n",
            "458/458 [==============================] - 26s 58ms/step - loss: 0.5348 - accuracy: 0.8308 - val_loss: 0.6686 - val_accuracy: 0.7974\n",
            "Epoch 25/100\n",
            "458/458 [==============================] - 26s 58ms/step - loss: 0.5071 - accuracy: 0.8367 - val_loss: 0.7093 - val_accuracy: 0.7867\n",
            "Epoch 26/100\n",
            "458/458 [==============================] - 26s 58ms/step - loss: 0.5065 - accuracy: 0.8372 - val_loss: 0.6725 - val_accuracy: 0.8011\n",
            "Epoch 27/100\n",
            "458/458 [==============================] - 26s 58ms/step - loss: 0.4878 - accuracy: 0.8421 - val_loss: 0.7014 - val_accuracy: 0.7858\n",
            "Epoch 28/100\n",
            "458/458 [==============================] - 26s 58ms/step - loss: 0.4834 - accuracy: 0.8449 - val_loss: 0.6841 - val_accuracy: 0.7937\n",
            "Epoch 29/100\n",
            "458/458 [==============================] - 26s 58ms/step - loss: 0.4810 - accuracy: 0.8451 - val_loss: 0.6585 - val_accuracy: 0.8044\n",
            "Epoch 30/100\n",
            "458/458 [==============================] - 26s 58ms/step - loss: 0.4588 - accuracy: 0.8548 - val_loss: 0.6751 - val_accuracy: 0.7964\n",
            "Epoch 31/100\n",
            "458/458 [==============================] - 26s 58ms/step - loss: 0.4539 - accuracy: 0.8503 - val_loss: 0.6698 - val_accuracy: 0.8058\n",
            "Epoch 32/100\n",
            "458/458 [==============================] - 26s 58ms/step - loss: 0.4402 - accuracy: 0.8573 - val_loss: 0.6678 - val_accuracy: 0.8034\n",
            "Epoch 33/100\n",
            "458/458 [==============================] - 26s 58ms/step - loss: 0.4136 - accuracy: 0.8651 - val_loss: 0.6758 - val_accuracy: 0.8071\n",
            "Epoch 34/100\n",
            "458/458 [==============================] - 27s 58ms/step - loss: 0.4285 - accuracy: 0.8613 - val_loss: 0.6610 - val_accuracy: 0.8114\n",
            "Epoch 35/100\n",
            "458/458 [==============================] - 27s 58ms/step - loss: 0.4088 - accuracy: 0.8678 - val_loss: 0.6587 - val_accuracy: 0.8112\n",
            "Epoch 36/100\n",
            "458/458 [==============================] - 27s 58ms/step - loss: 0.3986 - accuracy: 0.8691 - val_loss: 0.6746 - val_accuracy: 0.8089\n",
            "Epoch 37/100\n",
            "458/458 [==============================] - 27s 58ms/step - loss: 0.4008 - accuracy: 0.8689 - val_loss: 0.7514 - val_accuracy: 0.7894\n",
            "Epoch 38/100\n",
            "458/458 [==============================] - 27s 58ms/step - loss: 0.3931 - accuracy: 0.8700 - val_loss: 0.6919 - val_accuracy: 0.8071\n",
            "Epoch 39/100\n",
            "458/458 [==============================] - 27s 58ms/step - loss: 0.3878 - accuracy: 0.8720 - val_loss: 0.7227 - val_accuracy: 0.7944\n",
            "Epoch 40/100\n",
            "458/458 [==============================] - 27s 58ms/step - loss: 0.4003 - accuracy: 0.8678 - val_loss: 0.6812 - val_accuracy: 0.8095\n",
            "Epoch 41/100\n",
            "458/458 [==============================] - 27s 58ms/step - loss: 0.3661 - accuracy: 0.8798 - val_loss: 0.7236 - val_accuracy: 0.8013\n",
            "Epoch 42/100\n",
            "458/458 [==============================] - 26s 58ms/step - loss: 0.3689 - accuracy: 0.8770 - val_loss: 0.7587 - val_accuracy: 0.7970\n",
            "Epoch 43/100\n",
            "458/458 [==============================] - 26s 57ms/step - loss: 0.3602 - accuracy: 0.8829 - val_loss: 0.6940 - val_accuracy: 0.8147\n",
            "Epoch 44/100\n",
            "458/458 [==============================] - 27s 58ms/step - loss: 0.3577 - accuracy: 0.8807 - val_loss: 0.7273 - val_accuracy: 0.8032\n",
            "Epoch 45/100\n",
            "458/458 [==============================] - 27s 58ms/step - loss: 0.3495 - accuracy: 0.8851 - val_loss: 0.7058 - val_accuracy: 0.8098\n",
            "Epoch 46/100\n",
            "458/458 [==============================] - 27s 58ms/step - loss: 0.3426 - accuracy: 0.8862 - val_loss: 0.7453 - val_accuracy: 0.8024\n",
            "Epoch 47/100\n",
            "458/458 [==============================] - 27s 58ms/step - loss: 0.3181 - accuracy: 0.8941 - val_loss: 0.7532 - val_accuracy: 0.8065\n",
            "Epoch 48/100\n",
            "458/458 [==============================] - 27s 58ms/step - loss: 0.3177 - accuracy: 0.8943 - val_loss: 0.7488 - val_accuracy: 0.8112\n",
            "Epoch 49/100\n",
            "458/458 [==============================] - 26s 58ms/step - loss: 0.3163 - accuracy: 0.8933 - val_loss: 0.7451 - val_accuracy: 0.8112\n",
            "Epoch 50/100\n",
            "458/458 [==============================] - 27s 58ms/step - loss: 0.3194 - accuracy: 0.8923 - val_loss: 0.7842 - val_accuracy: 0.7997\n",
            "Epoch 51/100\n",
            "458/458 [==============================] - 27s 58ms/step - loss: 0.2952 - accuracy: 0.9028 - val_loss: 0.7518 - val_accuracy: 0.8114\n",
            "Epoch 52/100\n",
            "458/458 [==============================] - 27s 58ms/step - loss: 0.2936 - accuracy: 0.9004 - val_loss: 0.7935 - val_accuracy: 0.8019\n",
            "Epoch 53/100\n",
            "458/458 [==============================] - 27s 58ms/step - loss: 0.3075 - accuracy: 0.8960 - val_loss: 0.7861 - val_accuracy: 0.8026\n",
            "Epoch 54/100\n",
            "458/458 [==============================] - 27s 58ms/step - loss: 0.2916 - accuracy: 0.9030 - val_loss: 0.7773 - val_accuracy: 0.8108\n",
            "Epoch 55/100\n",
            "458/458 [==============================] - 27s 58ms/step - loss: 0.2946 - accuracy: 0.9026 - val_loss: 0.7887 - val_accuracy: 0.8084\n",
            "Epoch 56/100\n",
            "458/458 [==============================] - 27s 59ms/step - loss: 0.2700 - accuracy: 0.9096 - val_loss: 0.7880 - val_accuracy: 0.8124\n",
            "Epoch 57/100\n",
            "458/458 [==============================] - 27s 59ms/step - loss: 0.2807 - accuracy: 0.9063 - val_loss: 0.8192 - val_accuracy: 0.8020\n",
            "Epoch 58/100\n",
            "458/458 [==============================] - 27s 59ms/step - loss: 0.2657 - accuracy: 0.9107 - val_loss: 0.8077 - val_accuracy: 0.8103\n",
            "Epoch 59/100\n",
            "458/458 [==============================] - 27s 59ms/step - loss: 0.2689 - accuracy: 0.9086 - val_loss: 0.8498 - val_accuracy: 0.8006\n",
            "Epoch 60/100\n",
            "458/458 [==============================] - 27s 59ms/step - loss: 0.2735 - accuracy: 0.9087 - val_loss: 0.8429 - val_accuracy: 0.8060\n",
            "Epoch 61/100\n",
            "458/458 [==============================] - 27s 59ms/step - loss: 0.2696 - accuracy: 0.9083 - val_loss: 0.8351 - val_accuracy: 0.8120\n",
            "Epoch 62/100\n",
            "458/458 [==============================] - 27s 59ms/step - loss: 0.2572 - accuracy: 0.9135 - val_loss: 0.9077 - val_accuracy: 0.7985\n",
            "Epoch 63/100\n",
            "458/458 [==============================] - 27s 58ms/step - loss: 0.2665 - accuracy: 0.9085 - val_loss: 0.8515 - val_accuracy: 0.8084\n",
            "Epoch 64/100\n",
            "458/458 [==============================] - 27s 58ms/step - loss: 0.2457 - accuracy: 0.9157 - val_loss: 0.8741 - val_accuracy: 0.8105\n",
            "Epoch 65/100\n",
            "458/458 [==============================] - 27s 59ms/step - loss: 0.2475 - accuracy: 0.9177 - val_loss: 0.9062 - val_accuracy: 0.8075\n",
            "Epoch 66/100\n",
            "458/458 [==============================] - 27s 60ms/step - loss: 0.2551 - accuracy: 0.9121 - val_loss: 0.8826 - val_accuracy: 0.8094\n",
            "Epoch 67/100\n",
            "458/458 [==============================] - 27s 60ms/step - loss: 0.2503 - accuracy: 0.9163 - val_loss: 0.9189 - val_accuracy: 0.8052\n",
            "Epoch 68/100\n",
            "458/458 [==============================] - 27s 60ms/step - loss: 0.2301 - accuracy: 0.9236 - val_loss: 0.9608 - val_accuracy: 0.7952\n",
            "Epoch 69/100\n",
            "458/458 [==============================] - 27s 60ms/step - loss: 0.2450 - accuracy: 0.9174 - val_loss: 0.9168 - val_accuracy: 0.8045\n",
            "Epoch 70/100\n",
            "458/458 [==============================] - 27s 59ms/step - loss: 0.2234 - accuracy: 0.9245 - val_loss: 0.9327 - val_accuracy: 0.8001\n",
            "Epoch 71/100\n",
            "458/458 [==============================] - 27s 59ms/step - loss: 0.2156 - accuracy: 0.9279 - val_loss: 1.0250 - val_accuracy: 0.7830\n",
            "Epoch 72/100\n",
            "458/458 [==============================] - 27s 58ms/step - loss: 0.2345 - accuracy: 0.9175 - val_loss: 0.9473 - val_accuracy: 0.8057\n",
            "Epoch 73/100\n",
            "458/458 [==============================] - 27s 58ms/step - loss: 0.2116 - accuracy: 0.9288 - val_loss: 1.0798 - val_accuracy: 0.7859\n",
            "Epoch 74/100\n",
            "458/458 [==============================] - 27s 59ms/step - loss: 0.2495 - accuracy: 0.9145 - val_loss: 0.9841 - val_accuracy: 0.8001\n",
            "Epoch 75/100\n",
            "458/458 [==============================] - 27s 59ms/step - loss: 0.2047 - accuracy: 0.9299 - val_loss: 1.0083 - val_accuracy: 0.7982\n",
            "Epoch 76/100\n",
            "458/458 [==============================] - 27s 59ms/step - loss: 0.2202 - accuracy: 0.9242 - val_loss: 0.9830 - val_accuracy: 0.8065\n",
            "Epoch 77/100\n",
            "458/458 [==============================] - 27s 59ms/step - loss: 0.2097 - accuracy: 0.9276 - val_loss: 1.0318 - val_accuracy: 0.7973\n",
            "Epoch 78/100\n",
            "458/458 [==============================] - 27s 58ms/step - loss: 0.2225 - accuracy: 0.9241 - val_loss: 1.0269 - val_accuracy: 0.8084\n",
            "Epoch 79/100\n",
            "458/458 [==============================] - 27s 58ms/step - loss: 0.2163 - accuracy: 0.9250 - val_loss: 1.0826 - val_accuracy: 0.7935\n",
            "Epoch 80/100\n",
            "458/458 [==============================] - 27s 59ms/step - loss: 0.2206 - accuracy: 0.9259 - val_loss: 1.0454 - val_accuracy: 0.8057\n",
            "Epoch 81/100\n",
            "458/458 [==============================] - 27s 59ms/step - loss: 0.1928 - accuracy: 0.9337 - val_loss: 1.1128 - val_accuracy: 0.7877\n",
            "Epoch 82/100\n",
            "458/458 [==============================] - 27s 59ms/step - loss: 0.2271 - accuracy: 0.9241 - val_loss: 1.0518 - val_accuracy: 0.8047\n",
            "Epoch 83/100\n",
            "458/458 [==============================] - 27s 58ms/step - loss: 0.2184 - accuracy: 0.9244 - val_loss: 1.0585 - val_accuracy: 0.8060\n",
            "Epoch 84/100\n",
            "458/458 [==============================] - 27s 58ms/step - loss: 0.1769 - accuracy: 0.9412 - val_loss: 1.1137 - val_accuracy: 0.7983\n",
            "Epoch 85/100\n",
            "458/458 [==============================] - 27s 58ms/step - loss: 0.1990 - accuracy: 0.9315 - val_loss: 1.0827 - val_accuracy: 0.8036\n",
            "Epoch 86/100\n",
            "458/458 [==============================] - 27s 58ms/step - loss: 0.1896 - accuracy: 0.9349 - val_loss: 1.1181 - val_accuracy: 0.8001\n",
            "Epoch 87/100\n",
            "458/458 [==============================] - 27s 59ms/step - loss: 0.1769 - accuracy: 0.9392 - val_loss: 1.1257 - val_accuracy: 0.8026\n",
            "Epoch 88/100\n",
            "458/458 [==============================] - 27s 59ms/step - loss: 0.1861 - accuracy: 0.9368 - val_loss: 1.1080 - val_accuracy: 0.8019\n",
            "Epoch 89/100\n",
            "458/458 [==============================] - 27s 59ms/step - loss: 0.1885 - accuracy: 0.9352 - val_loss: 1.1875 - val_accuracy: 0.7948\n",
            "Epoch 90/100\n",
            "458/458 [==============================] - 27s 59ms/step - loss: 0.1732 - accuracy: 0.9407 - val_loss: 1.0930 - val_accuracy: 0.8079\n",
            "Epoch 91/100\n",
            "458/458 [==============================] - 27s 59ms/step - loss: 0.1703 - accuracy: 0.9417 - val_loss: 1.1660 - val_accuracy: 0.8008\n",
            "Epoch 92/100\n",
            "458/458 [==============================] - 27s 59ms/step - loss: 0.1715 - accuracy: 0.9417 - val_loss: 1.1348 - val_accuracy: 0.8093\n",
            "Epoch 93/100\n",
            "458/458 [==============================] - 27s 59ms/step - loss: 0.1589 - accuracy: 0.9457 - val_loss: 1.1716 - val_accuracy: 0.8001\n",
            "Epoch 94/100\n",
            "458/458 [==============================] - 27s 59ms/step - loss: 0.1960 - accuracy: 0.9315 - val_loss: 1.1259 - val_accuracy: 0.8053\n",
            "Epoch 95/100\n",
            "458/458 [==============================] - 27s 59ms/step - loss: 0.1562 - accuracy: 0.9453 - val_loss: 1.2566 - val_accuracy: 0.7897\n",
            "Epoch 96/100\n",
            "458/458 [==============================] - 27s 59ms/step - loss: 0.1838 - accuracy: 0.9370 - val_loss: 1.2712 - val_accuracy: 0.7822\n",
            "Epoch 97/100\n",
            "458/458 [==============================] - 27s 60ms/step - loss: 0.1840 - accuracy: 0.9379 - val_loss: 1.1943 - val_accuracy: 0.7946\n",
            "Epoch 98/100\n",
            "458/458 [==============================] - 27s 60ms/step - loss: 0.1520 - accuracy: 0.9481 - val_loss: 1.1991 - val_accuracy: 0.8032\n",
            "Epoch 99/100\n",
            "458/458 [==============================] - 27s 60ms/step - loss: 0.1827 - accuracy: 0.9377 - val_loss: 1.2103 - val_accuracy: 0.7987\n",
            "Epoch 100/100\n",
            "458/458 [==============================] - 27s 60ms/step - loss: 0.1631 - accuracy: 0.9433 - val_loss: 1.2217 - val_accuracy: 0.8051\n"
          ],
          "name": "stdout"
        }
      ]
    },
    {
      "cell_type": "code",
      "metadata": {
        "colab": {
          "base_uri": "https://localhost:8080/"
        },
        "id": "H91PChXtg5ou",
        "outputId": "f2d8f642-71bc-4fc0-828d-1a724e44f8ae"
      },
      "source": [
        "score =model.evaluate(X_test_normalized, y_test, verbose = 0)\n",
        "print('Test loss: ',score[0])\n",
        "print('Test accuracy: ', score[1])"
      ],
      "execution_count": null,
      "outputs": [
        {
          "output_type": "stream",
          "text": [
            "Test loss:  1.7019662857055664\n",
            "Test accuracy:  0.7711662650108337\n"
          ],
          "name": "stdout"
        }
      ]
    }
  ]
}