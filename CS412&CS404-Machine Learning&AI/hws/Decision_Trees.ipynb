{
  "nbformat": 4,
  "nbformat_minor": 0,
  "metadata": {
    "colab": {
      "name": "Decision-Trees.ipynb",
      "provenance": [],
      "collapsed_sections": [],
      "toc_visible": true
    },
    "kernelspec": {
      "name": "python3",
      "display_name": "Python 3"
    }
  },
  "cells": [
    {
      "cell_type": "markdown",
      "metadata": {
        "id": "b790duluUho8"
      },
      "source": [
        "# Take-Home Exam 5: Decision Trees\n",
        "\n",
        "*In this take-home exam, you are going to work with decision trees and observe how it performs with different hyperparameter settings.*\n",
        "\n",
        "**Submission Instructions**\n",
        "\n",
        "---\n",
        "Copy this assignment to your Drive. <font color = 'red'> `File` --> `Save a copy in Drive`</font>. Rename it as <font color = 'green'>`Lastname_Firstname_th5`</font>.\n",
        "\n",
        "Write your solutions in the cells  marked <font color = 'green'>`# your code`</font>.\n",
        "\n",
        "When you're done please submit your solutions as an <font color=\"red\">`.ipynb`</font> file. To do so:\n",
        "\n",
        "\n",
        "1.  Click on <font color=\"red\">`File`</font>  at the top left on the Colab screen, then click on <font color = 'red'>`Download .ipynb`</font>.\n",
        "2.   Then submit the <font color=\"red\">`.ipynb`</font> version of your work on SUCourse.\n",
        "\n",
        "\n",
        "For any question, you may send an email to the TAs and LAs.\n",
        "\n",
        "---"
      ]
    },
    {
      "cell_type": "code",
      "metadata": {
        "id": "mTMBGHV_UxjB",
        "outputId": "86e239a9-2001-4b62-dd34-ed73ad068f19",
        "colab": {
          "base_uri": "https://localhost:8080/",
          "height": 122
        }
      },
      "source": [
        "from google.colab import drive\n",
        "drive.mount(\"/content/drive\", force_remount=True)\n",
        "\n",
        "path_prefix = \"/content/drive/My Drive\""
      ],
      "execution_count": null,
      "outputs": [
        {
          "output_type": "stream",
          "text": [
            "Go to this URL in a browser: https://accounts.google.com/o/oauth2/auth?client_id=947318989803-6bn6qk8qdgf4n4g3pfee6491hc0brc4i.apps.googleusercontent.com&redirect_uri=urn%3aietf%3awg%3aoauth%3a2.0%3aoob&response_type=code&scope=email%20https%3a%2f%2fwww.googleapis.com%2fauth%2fdocs.test%20https%3a%2f%2fwww.googleapis.com%2fauth%2fdrive%20https%3a%2f%2fwww.googleapis.com%2fauth%2fdrive.photos.readonly%20https%3a%2f%2fwww.googleapis.com%2fauth%2fpeopleapi.readonly\n",
            "\n",
            "Enter your authorization code:\n",
            "··········\n",
            "Mounted at /content/drive\n"
          ],
          "name": "stdout"
        }
      ]
    },
    {
      "cell_type": "code",
      "metadata": {
        "id": "9ulyIEtTU4_X"
      },
      "source": [
        "import pandas as pd\n",
        "import numpy as np\n",
        "import matplotlib.pyplot as plt\n",
        "from os.path import join\n",
        "\n",
        "%matplotlib inline"
      ],
      "execution_count": null,
      "outputs": []
    },
    {
      "cell_type": "markdown",
      "metadata": {
        "id": "numRKpzYU_iR"
      },
      "source": [
        "## Constructing a Decision Tree\n",
        "\n",
        "A decision tree can be formulated as a regular tree structure in which nodes correspond to rules, condition checks and leaves correspond to prediction values. The construction process should be steered carefully. A tree that is grown without any constraint/limit may affect the performance drastically. In this exercise, you are going to train two different decision trees and observe how their classification boundaries change with respect to train data and then measure their performance on the test data.\n",
        "\n",
        "To this end, you will be working with `data.csv` file that contains two features, namely `x` and `y`, and the target attribute `label`."
      ]
    },
    {
      "cell_type": "code",
      "metadata": {
        "id": "HEJwOmhiJzkq",
        "outputId": "5b51bf41-c9e3-4cea-a776-0025297fde9d",
        "colab": {
          "base_uri": "https://localhost:8080/",
          "height": 204
        }
      },
      "source": [
        "filename = \"data.csv\"\n",
        "df = pd.read_csv(join(path_prefix, filename))\n",
        "df.head()"
      ],
      "execution_count": null,
      "outputs": [
        {
          "output_type": "execute_result",
          "data": {
            "text/html": [
              "<div>\n",
              "<style scoped>\n",
              "    .dataframe tbody tr th:only-of-type {\n",
              "        vertical-align: middle;\n",
              "    }\n",
              "\n",
              "    .dataframe tbody tr th {\n",
              "        vertical-align: top;\n",
              "    }\n",
              "\n",
              "    .dataframe thead th {\n",
              "        text-align: right;\n",
              "    }\n",
              "</style>\n",
              "<table border=\"1\" class=\"dataframe\">\n",
              "  <thead>\n",
              "    <tr style=\"text-align: right;\">\n",
              "      <th></th>\n",
              "      <th>x</th>\n",
              "      <th>y</th>\n",
              "      <th>label</th>\n",
              "    </tr>\n",
              "  </thead>\n",
              "  <tbody>\n",
              "    <tr>\n",
              "      <th>0</th>\n",
              "      <td>5.1</td>\n",
              "      <td>3.5</td>\n",
              "      <td>0.0</td>\n",
              "    </tr>\n",
              "    <tr>\n",
              "      <th>1</th>\n",
              "      <td>4.9</td>\n",
              "      <td>3.0</td>\n",
              "      <td>0.0</td>\n",
              "    </tr>\n",
              "    <tr>\n",
              "      <th>2</th>\n",
              "      <td>4.7</td>\n",
              "      <td>3.2</td>\n",
              "      <td>0.0</td>\n",
              "    </tr>\n",
              "    <tr>\n",
              "      <th>3</th>\n",
              "      <td>4.6</td>\n",
              "      <td>3.1</td>\n",
              "      <td>0.0</td>\n",
              "    </tr>\n",
              "    <tr>\n",
              "      <th>4</th>\n",
              "      <td>5.0</td>\n",
              "      <td>3.6</td>\n",
              "      <td>0.0</td>\n",
              "    </tr>\n",
              "  </tbody>\n",
              "</table>\n",
              "</div>"
            ],
            "text/plain": [
              "     x    y  label\n",
              "0  5.1  3.5    0.0\n",
              "1  4.9  3.0    0.0\n",
              "2  4.7  3.2    0.0\n",
              "3  4.6  3.1    0.0\n",
              "4  5.0  3.6    0.0"
            ]
          },
          "metadata": {
            "tags": []
          },
          "execution_count": 4
        }
      ]
    },
    {
      "cell_type": "markdown",
      "metadata": {
        "id": "M5IpA-s-WNKY"
      },
      "source": [
        "### Q1: Classification Boundaries\n",
        "\n",
        "In this task, you will analyze how different hyperparameter settings affect the classification boundaries for decision trees. \n",
        "\n",
        "Below, you may find the function from the previous take-home exam to display the classification boundaries. However, the function is slightly changed. In addition to the previous parameters, it expects two more:\n",
        "\n",
        "- `model` -> a model you generated\n",
        "- `data` -> the feature set to train the `model` \n",
        "- `labels` -> corresponding label values \n",
        "- `ax` -> an axes object to plot the classification boundaries of the given model\n",
        "- `title` -> the title of the given `ax` object\n",
        "\n",
        "The function still trains the model, but you should also provide the data to be trained on. \n",
        "\n",
        "**Important:** The parameters `data` and `labels` should be numpy arrays, i.e. you should work with df[[\"x\", \"y\"]].values which returns the numpy array of the specified columns.\n",
        "\n",
        "---\n",
        "\n",
        "1. Split the original data into two folds, namely *train* and *test*, in which 20% is reserved for the test data. Here, it's important that you **set the random_state parameter to 1** in train_test_split function.\n",
        "\n",
        "2. Generate two different decision tree models. \n",
        "\n",
        "  - The first one should be generated with hyperparameter **`min_samples_leaf` set to 1**. `min_samples_leaf` is the minimum number of samples required to be at a leaf node. \n",
        "\n",
        "  - The second decision tree model should be initialized with **`min_samples_leaf` set to 5** and **`max_depth` set to 4**. `max_depth` hyperparameter controls the maximum depth of the tree.\n",
        "\n",
        "3. Display the resulting classification boundaries in a **1x2 layout**. Utilize the axes titles to highlight the models.\n",
        "\n",
        "  - Here, you should **put the train data as a parameter to the `visualize_model` function**, i.e. the function call should be visualize_model(model, x_train, y_train, ax, title).\n",
        "\n",
        "\n",
        "Once you generate the boundaries, comment on the results. Disscuss the model performances with respect to generalizability, i.e. which model would perform better with unseen test data."
      ]
    },
    {
      "cell_type": "code",
      "metadata": {
        "id": "MDO5TfubKFJR"
      },
      "source": [
        "from matplotlib.colors import ListedColormap\n",
        "from ipywidgets import interact\n",
        "\n",
        "def visualize_model(model, data, labels, ax, title):\n",
        "  step = 0.05\n",
        "\n",
        "  cmap_light = ListedColormap(['orange', 'cyan', 'cornflowerblue'])\n",
        "  cmap_bold = ListedColormap(['darkorange', 'c', 'darkblue'])\n",
        "\n",
        "  model.fit(data, labels)\n",
        "\n",
        "  x_min = data[:, 0].min() - 1\n",
        "  x_max = data[:, 0].max() + 1\n",
        "  y_min = data[:, 1].min() - 1\n",
        "  y_max = data[:, 1].max() + 1\n",
        "\n",
        "  xx, yy = np.meshgrid(np.arange(x_min, x_max, step), np.arange(y_min, y_max, step))\n",
        "  y_pred = model.predict(np.hstack([xx.reshape(-1,1), yy.reshape(-1,1)])).reshape(xx.shape)\n",
        "\n",
        "  ax.pcolormesh(xx, yy, y_pred, cmap=cmap_light)\n",
        "  ax.scatter(data[:, 0], data[:, 1], c=labels, cmap=cmap_bold, edgecolor='k', s=20)\n",
        "  ax.set_xlim(xx.min(), xx.max())\n",
        "  ax.set_ylim(yy.min(), yy.max())\n",
        "  ax.set_title(title)"
      ],
      "execution_count": null,
      "outputs": []
    },
    {
      "cell_type": "code",
      "metadata": {
        "id": "ie7SM8f3Y5Wm",
        "outputId": "ac78c3d1-0f42-4ef6-bb25-ea51ffe6bec5",
        "colab": {
          "base_uri": "https://localhost:8080/",
          "height": 545
        }
      },
      "source": [
        "# your code\n",
        "from sklearn.model_selection import train_test_split\n",
        "from sklearn.tree import DecisionTreeClassifier\n",
        "X = df[[\"x\",\"y\"]].values\n",
        "y = df[\"label\"].values\n",
        "X_train, X_test, y_train, y_test = train_test_split(X, y, test_size=0.20, random_state=1)\n",
        "#decision tree\n",
        "dt1= DecisionTreeClassifier(min_samples_leaf = 1)\n",
        "dt2= DecisionTreeClassifier(min_samples_leaf = 5, max_depth =4)\n",
        "#visualize\n",
        "fig, ax1 = plt.subplots()\n",
        "fig, ax2 = plt.subplots()\n",
        "visualize_model(dt1,X_train,y_train,ax1,\"Decision tree 1\")\n",
        "visualize_model(dt2,X_train,y_train,ax2,\"Decision tree 2\")"
      ],
      "execution_count": null,
      "outputs": [
        {
          "output_type": "display_data",
          "data": {
            "image/png": "[encoded data removed]",
            "text/plain": [
              "<Figure size 432x288 with 1 Axes>"
            ]
          },
          "metadata": {
            "tags": [],
            "needs_background": "light"
          }
        },
        {
          "output_type": "display_data",
          "data": {
            "image/png": "[encoded data removed]",
            "text/plain": [
              "<Figure size 432x288 with 1 Axes>"
            ]
          },
          "metadata": {
            "tags": [],
            "needs_background": "light"
          }
        }
      ]
    },
    {
      "cell_type": "markdown",
      "metadata": {
        "id": "wcfbZGVaY6I-"
      },
      "source": [
        "<font color=\"blue\">[Double Click to Insert Your Comments]</font>\n",
        "\n",
        "In my opinion, first decision tree will perform better because compared to second, it has more flexible boundries. In the second decision tree, boundries are determined as the majority of that area. However, in the first decision tree, boundries can change due to minority group of that area."
      ]
    },
    {
      "cell_type": "markdown",
      "metadata": {
        "id": "JVM-QY1Ng51z"
      },
      "source": [
        "### Q2: Model Performance\n",
        "\n",
        "In the previous task, you performed a visual inspection on the decision tree models. Here, you are going to compare the performance with respect to the test data. And then solidify your findings with cross validation.\n",
        "\n",
        "1. For both of the models, find the accuracy score on the train data. \n",
        "  - Here, the models are already trained with the train data. Measure the performance of the models on the train data.\n",
        "\n",
        "2. For both of the models, find the accuracy score on the test data.\n",
        "\n",
        "Once you extract the accuracy values, display the model performances' in a bar chart. An exemplary figure can be found below. \n",
        "\n",
        "<img height=\"300\" widht=\"300\" src=\"https://i.ibb.co/gjDm65z/gg.png\"/>\n",
        "\n",
        "Compare the models in terms of their performance on train and test data. Discuss the difference between the results. And try to explain the reason behind the difference."
      ]
    },
    {
      "cell_type": "code",
      "metadata": {
        "id": "kVQYq7N7m-QO",
        "outputId": "9e449a8d-2cdf-4479-e0aa-e2f74308c322",
        "colab": {
          "base_uri": "https://localhost:8080/",
          "height": 85
        }
      },
      "source": [
        "# your code\n",
        "from sklearn.metrics import accuracy_score\n",
        "# train data predict\n",
        "dt1_predtrain = dt1.predict(X_train)\n",
        "accuracydt1train = f\"{accuracy_score(y_train, dt1_predtrain):.2f}\"\n",
        "dt2_predtrain = dt2.predict(X_train)\n",
        "accuracydt2train = f\"{accuracy_score(y_train, dt2_predtrain):.2f}\"\n",
        "#test data predict\n",
        "dt1_predtest = dt1.predict(X_test)\n",
        "accuracydt1test = f\"{accuracy_score(y_test, dt1_predtest):.2f}\"\n",
        "dt2_predtest = dt2.predict(X_test)\n",
        "accuracydt2test = f\"{accuracy_score(y_test,dt2_predtest):.2f}\"\n",
        "\n",
        "print(accuracydt1train)\n",
        "print(accuracydt2train)\n",
        "print(accuracydt1test)\n",
        "print(accuracydt2test)"
      ],
      "execution_count": null,
      "outputs": [
        {
          "output_type": "stream",
          "text": [
            "0.94\n",
            "0.79\n",
            "0.73\n",
            "0.83\n"
          ],
          "name": "stdout"
        }
      ]
    },
    {
      "cell_type": "code",
      "metadata": {
        "id": "YAijPIYJBL_S",
        "colab": {
          "base_uri": "https://localhost:8080/",
          "height": 296
        },
        "outputId": "52992334-ca36-4ff5-c0c4-50632dbd6297"
      },
      "source": [
        "accuracyList = []\n",
        "accuracyList.append(float(accuracydt1train))\n",
        "accuracyList.append(float(accuracydt1test))\n",
        "accuracyList.append(float(accuracydt2train))\n",
        "accuracyList.append(float(accuracydt2test))\n",
        "print(accuracyList)\n",
        "position = [1,2,4,5]\n",
        "label = ['model with min_leaf_sample = 1', \"model with min_leaf_sample = 5,\\n max_depth =4\"]\n",
        "width = 1\n",
        "plotting =  plt.barh(position,accuracyList, width, color = [\"orange\", \"b\"])\n",
        "tick = [1.5,4.5]\n",
        "\n",
        "plt.yticks(tick,label)\n",
        "plt.xlabel(\"Accuracy\")\n",
        "plt.legend(plotting[:2], ['test', 'train'])\n",
        "plt.show()"
      ],
      "execution_count": null,
      "outputs": [
        {
          "output_type": "stream",
          "text": [
            "[0.94, 0.73, 0.79, 0.83]\n"
          ],
          "name": "stdout"
        },
        {
          "output_type": "display_data",
          "data": {
            "image/png": "[encoded data removed]",
            "text/plain": [
              "<Figure size 432x288 with 1 Axes>"
            ]
          },
          "metadata": {
            "tags": [],
            "needs_background": "light"
          }
        }
      ]
    },
    {
      "cell_type": "markdown",
      "metadata": {
        "id": "C5a0F5psnAhw"
      },
      "source": [
        "<font color=\"blue\">[Double Click to Insert Your Comments]</font>\n",
        "\n",
        "train part seems more accurate than test part, i think the reasen behind it train data is much little when it is compared with the test data."
      ]
    },
    {
      "cell_type": "markdown",
      "metadata": {
        "id": "cRnxL72av86T"
      },
      "source": [
        "### Q3: Cross Validation\n",
        "\n",
        "Train-test splitting based model evaluations highly depend on the random splitting procedure. In order to evaluate your models in a more robust manner, you may apply cross validation.\n",
        "\n",
        "Here, apply 10-Fold cross validation for both of the models and discuss the results.\n",
        "\n",
        "1. Generate both of the models with the same set of hyperparameter settings.\n",
        "\n",
        "2. Evalute your models with 10-Fold cross validation.\n",
        "\n",
        "  - Here, you should be working with the original data. There is no need for the train/test folds.\n",
        "\n",
        "Once you obtain the cross validation accuracy values, discuss the results. Which model is better and why? "
      ]
    },
    {
      "cell_type": "code",
      "metadata": {
        "id": "02VxBBxC1Xbm",
        "outputId": "6bbd17f9-1d68-4c69-ef82-4a6ea8f1048c",
        "colab": {
          "base_uri": "https://localhost:8080/",
          "height": 85
        }
      },
      "source": [
        "# your code\n",
        "from sklearn.model_selection import cross_val_score\n",
        "accuraciesM1 = cross_val_score(dt1, X, y, cv=10)\n",
        "accuraciesM2= cross_val_score(dt2, X, y, cv=10)\n",
        "print(accuraciesM1 )\n",
        "print (accuraciesM2)"
      ],
      "execution_count": null,
      "outputs": [
        {
          "output_type": "stream",
          "text": [
            "[0.53333333 0.8        0.66666667 0.73333333 0.66666667 0.53333333\n",
            " 0.8        0.66666667 0.6        0.66666667]\n",
            "[0.66666667 0.73333333 0.86666667 0.8        0.53333333 0.66666667\n",
            " 0.73333333 0.73333333 0.6        0.86666667]\n"
          ],
          "name": "stdout"
        }
      ]
    },
    {
      "cell_type": "markdown",
      "metadata": {
        "id": "4Ivix50U1aXd"
      },
      "source": [
        "<font color=\"blue\">[Double Click to Insert Your Comments]</font>\n",
        "\n",
        "\n",
        "Model2 is clearly better because generally it's accuracy is higher than the model 1."
      ]
    }
  ]
}