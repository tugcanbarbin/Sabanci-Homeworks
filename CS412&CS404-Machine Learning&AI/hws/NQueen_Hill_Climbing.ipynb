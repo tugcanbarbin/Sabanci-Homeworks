{
  "nbformat": 4,
  "nbformat_minor": 0,
  "metadata": {
    "colab": {
      "name": "NQueen-Hill-Climbing.ipynb",
      "provenance": [],
      "collapsed_sections": []
    },
    "kernelspec": {
      "name": "python3",
      "display_name": "Python 3"
    },
    "language_info": {
      "name": "python"
    }
  },
  "cells": [
    {
      "cell_type": "markdown",
      "source": [
        "\n",
        "# NQueen with Hill Climbing"
      ],
      "metadata": {
        "id": "ymm0EPXl5Ka8"
      }
    },
    {
      "cell_type": "code",
      "execution_count": null,
      "metadata": {
        "id": "ar_7EiId5FEw"
      },
      "outputs": [],
      "source": [
        "import time\n",
        "import random\n",
        "import numpy as np\n",
        "from random import shuffle\n",
        "from random import randrange\n",
        "\n",
        "def calculateNumberOfConflicts(position): # returns number of conflicts\n",
        "    numberOfConflicts = 0  \n",
        "    for i in range(0, len(position)):\n",
        "        for j in range(i + 1, len(position)):\n",
        "            if position[i] == position[j]:\n",
        "                # xxx SINGLE LINE 1 xxx \n",
        "                # - or + numberofconlicts\n",
        "                numberOfConflicts += 1  \n",
        "            elif abs(i - j) == abs(position[i] - position[j]):\n",
        "                numberOfConflicts += 1  \n",
        "\n",
        "    return numberOfConflicts\n",
        "\n",
        "def bestNeighbor(position): # returns the best neighbor - shd be best neighbor\n",
        "    \n",
        "    min_numberOfConflicts = calculateNumberOfConflicts(position) # define current position's number of conflict as the min number of conflict\n",
        "\n",
        "    \n",
        "    best_position = position # define best position as current position\n",
        "    for i in range(0, len(position)):\n",
        "        for j in range(0, len(position)):\n",
        "            if j != position[i]:\n",
        "                temp = position.copy()\n",
        "                temp[i] = j\n",
        "                temp_numberOfConflicts = calculateNumberOfConflicts(temp)\n",
        "                if temp_numberOfConflicts <= min_numberOfConflicts:\n",
        "                    min_numberOfConflicts = temp_numberOfConflicts \n",
        "                    # xxx SINGLE LINE 2 xxx \n",
        "                    best_position = temp\n",
        "    return best_position\n",
        "\n",
        "def randomNeighbor(position): # returns a random neighbor which is better than the current position\n",
        "    \n",
        "    candidate_positions = []\n",
        "    current_numberOfConflicts = calculateNumberOfConflicts(position)\n",
        "\n",
        "    for i in range(0, len(position)):\n",
        "      for j in range(0, len(position)):\n",
        "        if j != position[i]:\n",
        "          temp = position.copy()\n",
        "          temp[i] = j\n",
        "          temp_numberOfConflicts = calculateNumberOfConflicts(temp)\n",
        "          if temp_numberOfConflicts < current_numberOfConflicts:\n",
        "            candidate_positions.append(temp) \n",
        "    \n",
        "    if len(candidate_positions) != 0:\n",
        "      sample_index =  randrange(len(candidate_positions))# xxx SINGLE LINE 3 xxx \n",
        "      return candidate_positions[sample_index]\n",
        "    else:\n",
        "      return position\n",
        "\n",
        "def printSolutionT(position): #You can use it if you need\n",
        "    N = len(position)\n",
        "\n",
        "    for i in range(N):\n",
        "        row = \"\"\n",
        "        for j in range(N):\n",
        "            if position[i] == j:\n",
        "                row += \"X \"\n",
        "            else:\n",
        "                row += \"O \"\n",
        "        print(row)"
      ]
    },
    {
      "cell_type": "code",
      "source": [
        "def NQueen(N, randomRestart, stochastic, upperBound=np.inf): # Implements variations of Hill Climbing \n",
        "    if N in [2, 3]:\n",
        "        raise ValueError(\"Failure, no solution exists for given N.\")\n",
        "\n",
        "    solved = False\n",
        "    current_position = list(np.zeros(N))\n",
        "    count = 0\n",
        "    while (calculateNumberOfConflicts(current_position) > 0) and count < upperBound: # Itearate until the problem solved or the upper limit is reached\n",
        "        initial_position = [randrange(N) for _ in range(N)]\n",
        "        current_position = initial_position\n",
        "        while True:        \n",
        "            if stochastic:\n",
        "                neighbor = randomNeighbor(current_position) # xxx SINGLE LINE 4 xxx \n",
        "            else:\n",
        "                neighbor = bestNeighbor(current_position) # xxx SINGLE LINE 5 xxx \n",
        "\n",
        "            if calculateNumberOfConflicts(neighbor) >= calculateNumberOfConflicts(current_position):\n",
        "                if randomRestart: \n",
        "                    # xxx SINGLE LINE 6 xxx \n",
        "                    break\n",
        "                else:\n",
        "                    if calculateNumberOfConflicts(current_position) != 0:\n",
        "                        return solved, count\n",
        "                    else:\n",
        "                        return True, count #line to be filled\n",
        "            \n",
        "            current_position = neighbor \n",
        "        count += 1\n",
        "\n",
        "    if count < upperBound:\n",
        "        solved = True\n",
        "\n",
        "    return solved, count"
      ],
      "metadata": {
        "id": "8byuA37r8FeH"
      },
      "execution_count": null,
      "outputs": []
    },
    {
      "cell_type": "code",
      "source": [
        "NUM_SIMULATIONS = 100\n",
        "N = 10\n",
        "K_values = [10, 100, 1000]"
      ],
      "metadata": {
        "id": "qS49z24e8pHn"
      },
      "execution_count": null,
      "outputs": []
    },
    {
      "cell_type": "markdown",
      "source": [
        "## Basic Hill Climbing"
      ],
      "metadata": {
        "id": "OR2usbqN8xEG"
      }
    },
    {
      "cell_type": "code",
      "source": [
        "num_successes = 0\n",
        "total_time = 0\n",
        "for i in range(NUM_SIMULATIONS):\n",
        "  start = time.time()\n",
        "  success, restart_count = NQueen(N=N, randomRestart=False, stochastic=False, upperBound=np.inf)\n",
        "  end = time.time()\n",
        "  total_time += (end - start)\n",
        "    \n",
        "  if success:\n",
        "    num_successes += 1\n",
        "\n",
        "print(f\"Elapsed time: {total_time}, with {num_successes} successes in {NUM_SIMULATIONS} simulations for N={N}.\")"
      ],
      "metadata": {
        "id": "JE3reXjh5bsW",
        "colab": {
          "base_uri": "https://localhost:8080/"
        },
        "outputId": "35a346ea-c41d-48be-9a3f-3c0a85bc43cb"
      },
      "execution_count": null,
      "outputs": [
        {
          "output_type": "stream",
          "name": "stdout",
          "text": [
            "Elapsed time: 0.8977327346801758, with 6 successes in 100 simulations for N=10.\n"
          ]
        }
      ]
    },
    {
      "cell_type": "markdown",
      "source": [
        "# Hill Climbing With Random Restarts"
      ],
      "metadata": {
        "id": "ppfrq8FKAcrv"
      }
    },
    {
      "cell_type": "code",
      "source": [
        "for K in K_values:\n",
        "  num_successes = 0\n",
        "  total_time = 0\n",
        "  total_successful_restart_count = 0\n",
        "\n",
        "  for i in range(NUM_SIMULATIONS):\n",
        "    start = time.time()\n",
        "    success, restart_count = NQueen(N=N, randomRestart=True, stochastic= False, upperBound=K)\n",
        "    end = time.time()\n",
        "    total_time += (end - start)\n",
        "      \n",
        "    if success:\n",
        "      num_successes += 1\n",
        "      total_successful_restart_count += restart_count\n",
        "\n",
        "  print(f\"Elapsed time: {total_time}, with {num_successes} successes in {NUM_SIMULATIONS} simulations. Average # restarts per successful run : {(total_successful_restart_count * 1.0) / num_successes}. N={N}, K={K}\")"
      ],
      "metadata": {
        "id": "Q8KI7I6PAbbR",
        "colab": {
          "base_uri": "https://localhost:8080/"
        },
        "outputId": "1d456f03-c4f6-428f-8c11-1d4d403e9706"
      },
      "execution_count": null,
      "outputs": [
        {
          "output_type": "stream",
          "name": "stdout",
          "text": [
            "Elapsed time: 6.365178346633911, with 52 successes in 100 simulations. Average # restarts per successful run : 4.6923076923076925. N=10, K=10\n",
            "Elapsed time: 13.233173608779907, with 100 successes in 100 simulations. Average # restarts per successful run : 14.97. N=10, K=100\n",
            "Elapsed time: 12.773483514785767, with 100 successes in 100 simulations. Average # restarts per successful run : 14.37. N=10, K=1000\n"
          ]
        }
      ]
    },
    {
      "cell_type": "markdown",
      "source": [
        "# Stochastic Hill Climbing"
      ],
      "metadata": {
        "id": "GwVpJylPCfpp"
      }
    },
    {
      "cell_type": "code",
      "source": [
        "num_successes = 0\n",
        "total_time = 0\n",
        "\n",
        "for i in range(NUM_SIMULATIONS):\n",
        "  start = time.time()\n",
        "  success, restart_count = NQueen(N=N,randomRestart=False,stochastic=True, upperBound=np.inf)\n",
        "  end = time.time()\n",
        "  total_time += (end - start)\n",
        "    \n",
        "  if success:\n",
        "    num_successes += 1\n",
        "\n",
        "print(f\"Elapsed time: {total_time}, with {num_successes} successes in {NUM_SIMULATIONS} simulations for N={N}.\")"
      ],
      "metadata": {
        "id": "8CnhKVZWCfY5",
        "colab": {
          "base_uri": "https://localhost:8080/"
        },
        "outputId": "76d087f1-77c4-4087-820d-fa78a37b9b49"
      },
      "execution_count": null,
      "outputs": [
        {
          "output_type": "stream",
          "name": "stdout",
          "text": [
            "Elapsed time: 1.3751392364501953, with 5 successes in 100 simulations for N=10.\n"
          ]
        }
      ]
    }
  ]
}