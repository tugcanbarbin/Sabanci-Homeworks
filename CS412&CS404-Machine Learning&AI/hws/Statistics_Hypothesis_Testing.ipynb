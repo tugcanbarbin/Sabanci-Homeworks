{
  "nbformat": 4,
  "nbformat_minor": 0,
  "metadata": {
    "colab": {
      "name": "Statistics-Hypothesis-Testing.ipynb",
      "provenance": [],
      "collapsed_sections": [],
      "toc_visible": true
    },
    "kernelspec": {
      "name": "python3",
      "display_name": "Python 3"
    }
  },
  "cells": [
    {
      "cell_type": "markdown",
      "metadata": {
        "id": "SqrxFTQCWpwP"
      },
      "source": [
        "## Take-Home Exam 2 : Statistics & Hypothesis Testing\n",
        "\n",
        "*In this take-home exam, you are going to study hypothesis testing and related statistics concepts in more detail.*\n",
        "\n",
        "**Submission Instructions**\n",
        "\n",
        "---\n",
        "Copy this assignment to your Drive. <font color = 'red'> `File` --> `Save a copy in Drive`</font>. Rename it as <font color = 'green'>`Lastname_Firstname_th2`</font>.\n",
        "\n",
        "Write your solutions in the cells  marked <font color = 'green'>`# your code`</font>.\n",
        "\n",
        "When you're done please submit your solutions as an <font color=\"red\">`.ipynb`</font> file. To do so:\n",
        "\n",
        "\n",
        "1.  Click on <font color=\"red\">`File`</font>  at the top left on the Colab screen, then click on <font color = 'red'>`Download .ipynb`</font>.\n",
        "2.   Then submit the <font color=\"red\">`.ipynb`</font> version of your work on SUCourse.\n",
        "\n",
        "\n",
        "For any question, you may send an email to the TAs and LAs.\n",
        "\n",
        "---"
      ]
    },
    {
      "cell_type": "code",
      "metadata": {
        "id": "mwtNu_WbXn5M",
        "outputId": "ceb0e1ef-d153-423c-a6fe-1aea3daaac8d",
        "colab": {
          "base_uri": "https://localhost:8080/",
          "height": 34
        }
      },
      "source": [
        "from google.colab import drive\n",
        "drive.mount(\"/content/drive\", force_remount=True)\n",
        "\n",
        "path_prefix = \"/content/drive/My Drive\""
      ],
      "execution_count": null,
      "outputs": [
        {
          "output_type": "stream",
          "text": [
            "Mounted at /content/drive\n"
          ],
          "name": "stdout"
        }
      ]
    },
    {
      "cell_type": "code",
      "metadata": {
        "id": "HGEQHR7yXsHk"
      },
      "source": [
        "import pandas as pd\n",
        "import numpy as np\n",
        "import matplotlib.pyplot as plt\n",
        "from os.path import join\n",
        "\n",
        "%matplotlib inline"
      ],
      "execution_count": null,
      "outputs": []
    },
    {
      "cell_type": "markdown",
      "metadata": {
        "id": "PKSnYTo-WQmb"
      },
      "source": [
        "### Question 1: t-Distributions & t-Test"
      ]
    },
    {
      "cell_type": "markdown",
      "metadata": {
        "id": "yuaxzQa7aF84"
      },
      "source": [
        "> The **t-distribution** (aka, Student’s t-distribution) is a probability distribution that is used to estimate population parameters when the sample size is small and/or when the population variance is unknown.\n",
        "\n",
        "> **Degrees of Freedom**: There are actually many different t-distributions. The particular form of the t-distribution is determined by its degrees of freedom. The degrees of freedom refers to the number of independent observations in a set of data. When estimating a mean score or a proportion from a single sample, the number of independent observations is equal to the sample size minus one. Hence, the distribution of the t-statistic from samples of size 8 would be described by a t-distribution having 8 - 1 or 7 degrees of freedom.\n",
        "\n",
        "For further information regarding t-distribution you can check the [Wikipedia](https://en.wikipedia.org/wiki/Student%27s_t-distribution) and [StatTrek](https://stattrek.com/probability-distributions/t-distribution.aspx).\n",
        "\n",
        "Now, below **you have a scenario where a t-distribution is needed to be utilized for hypothesis testing**.\n",
        "\n",
        "---\n",
        "\n",
        "**Question Scenario** : An iron company has a sample of 35 irons for which the monthly electric consumption is measured. The values can be observed in the list variable named `sample_values` below. In addition, engineers of the company initially had claims for **average monthly consumption of all irons to be 84 kWh**. However, the company finds the resulting consumption values **exceeding** the given claim. As a result, the company wants to know if the sampled 35 irons have a greater average monthly consumption than the estimated mean, 84 kWh.\n",
        "\n",
        "---"
      ]
    },
    {
      "cell_type": "code",
      "metadata": {
        "id": "QQEkxaT10WpU"
      },
      "source": [
        "sample_values = [\n",
        "  87, 83, 84, 86, 85, 89, 81, 89, 81, 89, 87, 82, 88, 85, 87, 84, 87, 83,\n",
        "  81, 82, 80, 89, 87, 82, 84, 81, 86, 81, 87, 89, 83, 80, 89, 85, 80\n",
        "]"
      ],
      "execution_count": null,
      "outputs": []
    },
    {
      "cell_type": "markdown",
      "metadata": {
        "id": "eX9QIIg1aOVn"
      },
      "source": [
        "#### Task 1: Null and Alternative Hypotheses\n",
        "\n",
        "From the given question above, please fill the null and alternative hypotheses definitions below."
      ]
    },
    {
      "cell_type": "markdown",
      "metadata": {
        "id": "YwFMMJ4m1Wmm"
      },
      "source": [
        "<font color=\"blue\">[Double click to fill in the blanks]</font>\n",
        "\n",
        "$ H_0: $ μ = 84 kWh, monthly consumption is equal to the 84kWh on average.\n",
        "\n",
        "$ H_1: $ μ > 84 kWh, monthly consumption is higher than 84kWh on average. "
      ]
    },
    {
      "cell_type": "markdown",
      "metadata": {
        "id": "cBuKTOGnbAK2"
      },
      "source": [
        "#### Task 2: Type of the Hypothesis Testing\n",
        "Are we conducting a left-tailed or a right-tailed hypothesis testing? Why?"
      ]
    },
    {
      "cell_type": "markdown",
      "metadata": {
        "id": "_n-H3qgAba8I"
      },
      "source": [
        "<font color=\"blue\">[Double click to type your answer]</font>\n",
        "\n",
        "\n",
        "We are conducting a right-tailed hypothesis testing because we are looking for greater than average monthly comsumption of irons which is 84kWh and this is the right hand side of the curve."
      ]
    },
    {
      "cell_type": "markdown",
      "metadata": {
        "id": "UlQIgj9ObiGy"
      },
      "source": [
        "#### Task 3: t-Statistic\n",
        "\n",
        "Since the sample we have is small and lacking inforformation regarding the actual population, we are going to utilize the t-distribution to model our data. In order to locate the sample mean, we'll deploy t-scores. You may think of it as a z-score, but defined for a t-distribution.\n",
        "\n",
        "The formula for calculating the t-score is given below;\n",
        "\n",
        "![](https://wikimedia.org/api/rest_v1/media/math/render/svg/fefcbd88b2358228836cc4dc9e1a84f99765715d)\n",
        "\n",
        "where \n",
        "  - $\\bar{X}$ is sample mean,\n",
        "  - $ \\mu$ is the mean to be tested,\n",
        "  - $S$ is the sample standard deviation,\n",
        "  - $n$ is the sample size,\n",
        "  - also the degree of freedom is $n-1$\n",
        "\n",
        "Now, calculate the t value (t-test statistic) for the question.\n",
        "\n",
        "*hint: You also need to calculate some of the metrics above.*"
      ]
    },
    {
      "cell_type": "code",
      "metadata": {
        "id": "dTVhf_Operwo",
        "outputId": "4308b390-5d00-4725-b2cc-b868c3c3718c",
        "colab": {
          "base_uri": "https://localhost:8080/",
          "height": 34
        }
      },
      "source": [
        "# your code\n",
        "sampleMean = np.mean(sample_values)\n",
        "M = 84\n",
        "Std = np.std(sample_values)\n",
        "n = 35\n",
        "df = n-1\n",
        "tTest = (sampleMean- 84)/(Std / np.sqrt(n))\n",
        "tTest"
      ],
      "execution_count": null,
      "outputs": [
        {
          "output_type": "execute_result",
          "data": {
            "text/plain": [
              "1.2780031950464965"
            ]
          },
          "metadata": {
            "tags": []
          },
          "execution_count": 6
        }
      ]
    },
    {
      "cell_type": "markdown",
      "metadata": {
        "id": "RlKeaAjagkZA"
      },
      "source": [
        "#### Task 4: t-Distribution\n",
        "\n",
        "In the rats' mean response time experiment, our alternative hypothesis stated that the sample's mean response time is less than the mean response time of the population. To this end, we obtained the corresponding z-score of the sample mean, our test statistic, and showed it on the population distribution. Then, calculated the required probability accordingly. \n",
        "\n",
        "In the figure below, we have a standard normal distribution and a z-score of -1.96. The blue shaded area represents a left-tailed test.\n",
        "\n",
        "![](https://mat117.wisconsin.edu/wp-content/uploads/2014/12/section3-21.png)\n",
        "\n",
        "Now using the t-distribution option from `scipy.stats`, plot a 0-centric t-distribution with the correct degrees of freedom and shade the area of interest in the question scenario for the appropriate test type.\n",
        "\n",
        "*p.s. You may check the documentation for numpy implemantation of t-distribution from this [link](https://docs.scipy.org/doc/scipy/reference/generated/scipy.stats.t.html#scipy.stats.t)*"
      ]
    },
    {
      "cell_type": "code",
      "metadata": {
        "id": "NLsGTfuMXmmi",
        "outputId": "db5e0e95-4036-4c2b-f4c2-262d72ca6b5e",
        "colab": {
          "base_uri": "https://localhost:8080/",
          "height": 282
        }
      },
      "source": [
        "\n",
        "from scipy import stats\n",
        "x = np.arange(-4,4,0.1)\n",
        "tValues = stats.t.pdf(x,df)\n",
        "fillx = np.arange(tTest,4,0.1)\n",
        "fillValues = stats.t.pdf(fillx,df)\n",
        "plt.plot(x,tValues,'r')\n",
        "plt.fill_between(fillx,fillValues,0)"
      ],
      "execution_count": null,
      "outputs": [
        {
          "output_type": "execute_result",
          "data": {
            "text/plain": [
              "<matplotlib.collections.PolyCollection at 0x7f12562d9390>"
            ]
          },
          "metadata": {
            "tags": []
          },
          "execution_count": 7
        },
        {
          "output_type": "display_data",
          "data": {
            "image/png": "[encoded data removed]",
            "text/plain": [
              "<Figure size 432x288 with 1 Axes>"
            ]
          },
          "metadata": {
            "tags": [],
            "needs_background": "light"
          }
        }
      ]
    },
    {
      "cell_type": "markdown",
      "metadata": {
        "id": "vIA6JnWRhVBw"
      },
      "source": [
        "#### Task 5: p-value and Test Result\n",
        "\n",
        "By using the appropriate method of testing from `scipy.stats` conduct the hypothesis test needed for the question given. Then, by checking the resulting p-value, evaluate the scenario (accept or reject the null hypothesis? why?) with significance level ($\\alpha$) set to 0.05. \n",
        "\n",
        "*p.s. By default, scipy's hypothesis testing functions perform two-tailed tests. In other words, the resulting p-values are calculated for the  two-tailed scenario. You should find a way to convert them to one-tail.*"
      ]
    },
    {
      "cell_type": "code",
      "metadata": {
        "id": "GPyNpJDXiZLa",
        "outputId": "98726047-c165-4745-b16d-bb3352447b2f",
        "colab": {
          "base_uri": "https://localhost:8080/",
          "height": 51
        }
      },
      "source": [
        "from scipy import stats\n",
        "Tstat, pvalue = stats.ttest_1samp(sample_values,84)\n",
        "if pvalue/2 < 0.05:\n",
        "   print(\" we are rejecting null hypothesis\")\n",
        "else:\n",
        "  print(\"we are accepting null hypothesis\")\n",
        "pvalue/2"
      ],
      "execution_count": null,
      "outputs": [
        {
          "output_type": "stream",
          "text": [
            "we are accepting null hypothesis\n"
          ],
          "name": "stdout"
        },
        {
          "output_type": "execute_result",
          "data": {
            "text/plain": [
              "0.1081935602697514"
            ]
          },
          "metadata": {
            "tags": []
          },
          "execution_count": 8
        }
      ]
    },
    {
      "cell_type": "markdown",
      "metadata": {
        "id": "o02Zvgga_hKI"
      },
      "source": [
        "<font color=\"blue\">[Double click to type your decision and its explanation]</font>\n",
        "\n",
        "\n",
        "\n",
        "Since the significance level is higher than 0.05 which is 0.108... , we are accepting null hypothesis"
      ]
    },
    {
      "cell_type": "markdown",
      "metadata": {
        "id": "RcG1zCLGW02N"
      },
      "source": [
        "### Question 2: Two-tailed t-Test"
      ]
    },
    {
      "cell_type": "markdown",
      "metadata": {
        "id": "dWn5t6Yp7TDF"
      },
      "source": [
        "For the second question, you will utilize the *TMDB 5000 Movie Dataset* from [Kaggle](https://www.kaggle.com/tmdb/tmdb-movie-metadata#tmdb_5000_movies.csv). For the dataset, the csv file called `tmdb_5000_movies.csv` has already been shared with you.\n",
        "\n",
        "Our objective is to check if there is any statistically significant difference between the IMBD ratings (named as `\"vote_average\"` in the dataset) of USA and non-USA made movies. Below, you may find the hypothesis setting.\n",
        "\n",
        "$\\mu_{us}$: avg. IMDB rating of US made movies  \n",
        "$\\mu_{non-us}$: avg. IMDB rating of non-US made movies\n",
        "\n",
        "$H_0: \\mu_{us} = \\mu_{non-us}$  \n",
        "$H_A: \\mu_{us} \\neq \\mu_{non-us}$\n",
        "\n",
        "#### Task 1: Preprocessing\n",
        "\n",
        "As you can also check, some of the columns in the dataset need preprocessing. In this task, you need to write a function to be applied to the dataframe using the information in the column named `production_countries`. The function should be used for discriminating movies produced in the United States and movies produced in other countries. If a movie has multiple countries for production where United States is one of them, you should consider it as United States made as well. Apply your function to create a new column, named `\"made_where\"`. Lastly, show the top 3 rows of the resulting dataframe. "
      ]
    },
    {
      "cell_type": "code",
      "metadata": {
        "id": "yqGcNEBcBB-u"
      },
      "source": [
        "df = pd.read_csv(join(path_prefix, \"tmdb_5000_movies.csv\"))\n",
        "dfCopy = df.copy()\n",
        "def ProductionCountry(Where):\n",
        "  if 'United States' in Where:\n",
        "    return 'US'\n",
        "  else:\n",
        "    return 'Other'\n",
        "\n",
        "dfCopy['made_where'] = dfCopy['production_countries'].apply(ProductionCountry)"
      ],
      "execution_count": null,
      "outputs": []
    },
    {
      "cell_type": "code",
      "metadata": {
        "id": "6zUK89J_X2Bc",
        "outputId": "e44f0853-5e8c-4dd0-8e4a-51da89756ff8",
        "colab": {
          "base_uri": "https://localhost:8080/",
          "height": 451
        }
      },
      "source": [
        "dfCopy.head(3)"
      ],
      "execution_count": null,
      "outputs": [
        {
          "output_type": "execute_result",
          "data": {
            "text/html": [
              "<div>\n",
              "<style scoped>\n",
              "    .dataframe tbody tr th:only-of-type {\n",
              "        vertical-align: middle;\n",
              "    }\n",
              "\n",
              "    .dataframe tbody tr th {\n",
              "        vertical-align: top;\n",
              "    }\n",
              "\n",
              "    .dataframe thead th {\n",
              "        text-align: right;\n",
              "    }\n",
              "</style>\n",
              "<table border=\"1\" class=\"dataframe\">\n",
              "  <thead>\n",
              "    <tr style=\"text-align: right;\">\n",
              "      <th></th>\n",
              "      <th>budget</th>\n",
              "      <th>genres</th>\n",
              "      <th>homepage</th>\n",
              "      <th>id</th>\n",
              "      <th>keywords</th>\n",
              "      <th>original_language</th>\n",
              "      <th>original_title</th>\n",
              "      <th>overview</th>\n",
              "      <th>popularity</th>\n",
              "      <th>production_companies</th>\n",
              "      <th>production_countries</th>\n",
              "      <th>release_date</th>\n",
              "      <th>revenue</th>\n",
              "      <th>runtime</th>\n",
              "      <th>spoken_languages</th>\n",
              "      <th>status</th>\n",
              "      <th>tagline</th>\n",
              "      <th>title</th>\n",
              "      <th>vote_average</th>\n",
              "      <th>vote_count</th>\n",
              "      <th>made_where</th>\n",
              "    </tr>\n",
              "  </thead>\n",
              "  <tbody>\n",
              "    <tr>\n",
              "      <th>0</th>\n",
              "      <td>237000000</td>\n",
              "      <td>[{\"id\": 28, \"name\": \"Action\"}, {\"id\": 12, \"nam...</td>\n",
              "      <td>http://www.avatarmovie.com/</td>\n",
              "      <td>19995</td>\n",
              "      <td>[{\"id\": 1463, \"name\": \"culture clash\"}, {\"id\":...</td>\n",
              "      <td>en</td>\n",
              "      <td>Avatar</td>\n",
              "      <td>In the 22nd century, a paraplegic Marine is di...</td>\n",
              "      <td>150.437577</td>\n",
              "      <td>[{\"name\": \"Ingenious Film Partners\", \"id\": 289...</td>\n",
              "      <td>[{\"iso_3166_1\": \"US\", \"name\": \"United States o...</td>\n",
              "      <td>2009-12-10</td>\n",
              "      <td>2787965087</td>\n",
              "      <td>162.0</td>\n",
              "      <td>[{\"iso_639_1\": \"en\", \"name\": \"English\"}, {\"iso...</td>\n",
              "      <td>Released</td>\n",
              "      <td>Enter the World of Pandora.</td>\n",
              "      <td>Avatar</td>\n",
              "      <td>7.2</td>\n",
              "      <td>11800</td>\n",
              "      <td>US</td>\n",
              "    </tr>\n",
              "    <tr>\n",
              "      <th>1</th>\n",
              "      <td>300000000</td>\n",
              "      <td>[{\"id\": 12, \"name\": \"Adventure\"}, {\"id\": 14, \"...</td>\n",
              "      <td>http://disney.go.com/disneypictures/pirates/</td>\n",
              "      <td>285</td>\n",
              "      <td>[{\"id\": 270, \"name\": \"ocean\"}, {\"id\": 726, \"na...</td>\n",
              "      <td>en</td>\n",
              "      <td>Pirates of the Caribbean: At World's End</td>\n",
              "      <td>Captain Barbossa, long believed to be dead, ha...</td>\n",
              "      <td>139.082615</td>\n",
              "      <td>[{\"name\": \"Walt Disney Pictures\", \"id\": 2}, {\"...</td>\n",
              "      <td>[{\"iso_3166_1\": \"US\", \"name\": \"United States o...</td>\n",
              "      <td>2007-05-19</td>\n",
              "      <td>961000000</td>\n",
              "      <td>169.0</td>\n",
              "      <td>[{\"iso_639_1\": \"en\", \"name\": \"English\"}]</td>\n",
              "      <td>Released</td>\n",
              "      <td>At the end of the world, the adventure begins.</td>\n",
              "      <td>Pirates of the Caribbean: At World's End</td>\n",
              "      <td>6.9</td>\n",
              "      <td>4500</td>\n",
              "      <td>US</td>\n",
              "    </tr>\n",
              "    <tr>\n",
              "      <th>2</th>\n",
              "      <td>245000000</td>\n",
              "      <td>[{\"id\": 28, \"name\": \"Action\"}, {\"id\": 12, \"nam...</td>\n",
              "      <td>http://www.sonypictures.com/movies/spectre/</td>\n",
              "      <td>206647</td>\n",
              "      <td>[{\"id\": 470, \"name\": \"spy\"}, {\"id\": 818, \"name...</td>\n",
              "      <td>en</td>\n",
              "      <td>Spectre</td>\n",
              "      <td>A cryptic message from Bond’s past sends him o...</td>\n",
              "      <td>107.376788</td>\n",
              "      <td>[{\"name\": \"Columbia Pictures\", \"id\": 5}, {\"nam...</td>\n",
              "      <td>[{\"iso_3166_1\": \"GB\", \"name\": \"United Kingdom\"...</td>\n",
              "      <td>2015-10-26</td>\n",
              "      <td>880674609</td>\n",
              "      <td>148.0</td>\n",
              "      <td>[{\"iso_639_1\": \"fr\", \"name\": \"Fran\\u00e7ais\"},...</td>\n",
              "      <td>Released</td>\n",
              "      <td>A Plan No One Escapes</td>\n",
              "      <td>Spectre</td>\n",
              "      <td>6.3</td>\n",
              "      <td>4466</td>\n",
              "      <td>US</td>\n",
              "    </tr>\n",
              "  </tbody>\n",
              "</table>\n",
              "</div>"
            ],
            "text/plain": [
              "      budget  ... made_where\n",
              "0  237000000  ...         US\n",
              "1  300000000  ...         US\n",
              "2  245000000  ...         US\n",
              "\n",
              "[3 rows x 21 columns]"
            ]
          },
          "metadata": {
            "tags": []
          },
          "execution_count": 13
        }
      ]
    },
    {
      "cell_type": "markdown",
      "metadata": {
        "id": "iQ6vnR7EBaCm"
      },
      "source": [
        "#### Task 2: Visualizing the Rating Distributions\n",
        "\n",
        "Before applying the hypothesis testing, plot the distributions of ratings of movies from US and movies from other countries **in the same figure**. To this end, you may plot both ratings as histograms or seaborn kdeplots as we did in the hypothesis testing recitation."
      ]
    },
    {
      "cell_type": "code",
      "metadata": {
        "id": "gy1bFv2CCUu9",
        "outputId": "e0dce7aa-449a-42fb-a8aa-15e1537925f4",
        "colab": {
          "base_uri": "https://localhost:8080/",
          "height": 513
        }
      },
      "source": [
        "ratingUS = dfCopy[dfCopy['made_where'].str.contains('US')]['vote_average']\n",
        "ratingOther = dfCopy[dfCopy['made_where'].str.contains('Other')]['vote_average']\n",
        "plt.hist([ratingUS, ratingOther], 10, label=['US', 'Other'])\n",
        "plt.legend(loc='upper right')\n",
        "plt.show()\n",
        "plt.hist([ratingUS, ratingOther], 10, label=['US density', 'Others density'], density = True)\n",
        "plt.legend(loc='upper right')\n",
        "plt.show()"
      ],
      "execution_count": null,
      "outputs": [
        {
          "output_type": "display_data",
          "data": {
            "image/png": "[encoded data removed]",
            "text/plain": [
              "<Figure size 432x288 with 1 Axes>"
            ]
          },
          "metadata": {
            "tags": [],
            "needs_background": "light"
          }
        },
        {
          "output_type": "display_data",
          "data": {
            "image/png": "[encoded data removed]",
            "text/plain": [
              "<Figure size 432x288 with 1 Axes>"
            ]
          },
          "metadata": {
            "tags": [],
            "needs_background": "light"
          }
        }
      ]
    },
    {
      "cell_type": "markdown",
      "metadata": {
        "id": "IDtY5-hI_-CK"
      },
      "source": [
        "#### Task 3: Comparing Ratings from US and Other Countries\n",
        "\n",
        "In this section, you need to test whether there is significant difference in the rating distributions of the movies produced in the US and films produced in other countries.\n",
        "\n",
        "Now, by utilizing the new column you created, test whether ratings of movies from US and from other countries differ significantly. Again, you can utilize the `stats.ttest_ind`.\n",
        "\n",
        "Then, evaluate the results of the hypothesis testing you conducted with significance level ($\\alpha$) set to 0.05. "
      ]
    },
    {
      "cell_type": "code",
      "metadata": {
        "id": "b1aGE_4ZazUj"
      },
      "source": [
        ""
      ],
      "execution_count": null,
      "outputs": []
    },
    {
      "cell_type": "code",
      "metadata": {
        "id": "6oUq2crNC0Pc",
        "outputId": "3184bb6f-759e-4f7d-be7f-a2e57d0db8df",
        "colab": {
          "base_uri": "https://localhost:8080/",
          "height": 68
        }
      },
      "source": [
        "t, p = stats.ttest_ind(ratingUS, ratingOther, equal_var=False)\n",
        "print(t)\n",
        "print(p)\n",
        "if p/2 < 0.05:\n",
        "   print(\"we are rejecting null hypothesis\")\n",
        "else:\n",
        "  print(\"we are accepting null hypothesis\")"
      ],
      "execution_count": null,
      "outputs": [
        {
          "output_type": "stream",
          "text": [
            "2.0270548056859883\n",
            "0.04292181627082308\n",
            "we are rejecting null hypothesis\n"
          ],
          "name": "stdout"
        }
      ]
    },
    {
      "cell_type": "markdown",
      "metadata": {
        "id": "s3rZfRT6GiaI"
      },
      "source": [
        "<font color=\"blue\">[Double click to type your decision and its explanation.]</font>"
      ]
    },
    {
      "cell_type": "markdown",
      "metadata": {
        "id": "ek62TpWAW1QP"
      },
      "source": [
        "### Question 3: Chi-Square Test of Independence"
      ]
    },
    {
      "cell_type": "markdown",
      "metadata": {
        "id": "NelxCBpLX1Vz"
      },
      "source": [
        "> **Chi-Square Test** can be used to test the independence of two categorical variables. However, to determine the critical value, we need to determine the degrees of freedom. In Chi-square tests, the degree of freedom value is determined by $(r-1)(c-1)$ where $r$ is the number of rows and $c$ is the number of the columns in the contingency table (crosstab). From the image below, you can find corresponding threshold values for varying degrees of freedom and threshold critical probability $\\alpha$.\n",
        "\n",
        "<img src=\"https://www.mun.ca/biology/scarr/IntroPopGen-Table-D-01-smc.jpg\" width=\"400\" height=\"400\" />\n",
        "\n"
      ]
    },
    {
      "cell_type": "markdown",
      "metadata": {
        "id": "KTgAZVVqz5DI"
      },
      "source": [
        "For this question, you will use the `adults.csv` that is shared with you, which is a modified version of [this dataset](https://archive.ics.uci.edu/ml/datasets/Adult/). You will check for the statistical dependence between features `education` and `marital-status`.\n",
        "\n",
        "In the following test, our hypotheses setting is the following:\n",
        "\n",
        "$H_0$: `Education` and `Marital Status` are independent variables.\n",
        "\n",
        "$H_A$: `Education` and `Marital Status` are **not** independent variables."
      ]
    },
    {
      "cell_type": "code",
      "metadata": {
        "id": "PhrmKFXb0T9p",
        "outputId": "2e9a9cf5-5908-41fa-abe3-ba609205ecaf",
        "colab": {
          "base_uri": "https://localhost:8080/",
          "height": 204
        }
      },
      "source": [
        "adults_df = pd.read_csv(join(path_prefix, \"adults.csv\"), index_col=False)\n",
        "adults_df.head()"
      ],
      "execution_count": null,
      "outputs": [
        {
          "output_type": "execute_result",
          "data": {
            "text/html": [
              "<div>\n",
              "<style scoped>\n",
              "    .dataframe tbody tr th:only-of-type {\n",
              "        vertical-align: middle;\n",
              "    }\n",
              "\n",
              "    .dataframe tbody tr th {\n",
              "        vertical-align: top;\n",
              "    }\n",
              "\n",
              "    .dataframe thead th {\n",
              "        text-align: right;\n",
              "    }\n",
              "</style>\n",
              "<table border=\"1\" class=\"dataframe\">\n",
              "  <thead>\n",
              "    <tr style=\"text-align: right;\">\n",
              "      <th></th>\n",
              "      <th>age</th>\n",
              "      <th>workclass</th>\n",
              "      <th>fnlwgt</th>\n",
              "      <th>education</th>\n",
              "      <th>education-num</th>\n",
              "      <th>marital-status</th>\n",
              "      <th>occupation</th>\n",
              "      <th>relationship</th>\n",
              "      <th>race</th>\n",
              "      <th>sex</th>\n",
              "      <th>capital-gain</th>\n",
              "      <th>capital-loss</th>\n",
              "      <th>hours-per-week</th>\n",
              "      <th>native-country</th>\n",
              "    </tr>\n",
              "  </thead>\n",
              "  <tbody>\n",
              "    <tr>\n",
              "      <th>0</th>\n",
              "      <td>39</td>\n",
              "      <td>State-gov</td>\n",
              "      <td>77516</td>\n",
              "      <td>Bachelors</td>\n",
              "      <td>13</td>\n",
              "      <td>Never-married</td>\n",
              "      <td>Adm-clerical</td>\n",
              "      <td>Not-in-family</td>\n",
              "      <td>White</td>\n",
              "      <td>Male</td>\n",
              "      <td>2174</td>\n",
              "      <td>0</td>\n",
              "      <td>40</td>\n",
              "      <td>United-States</td>\n",
              "    </tr>\n",
              "    <tr>\n",
              "      <th>1</th>\n",
              "      <td>50</td>\n",
              "      <td>Self-emp-not-inc</td>\n",
              "      <td>83311</td>\n",
              "      <td>Bachelors</td>\n",
              "      <td>13</td>\n",
              "      <td>Married</td>\n",
              "      <td>Exec-managerial</td>\n",
              "      <td>Husband</td>\n",
              "      <td>White</td>\n",
              "      <td>Male</td>\n",
              "      <td>0</td>\n",
              "      <td>0</td>\n",
              "      <td>13</td>\n",
              "      <td>United-States</td>\n",
              "    </tr>\n",
              "    <tr>\n",
              "      <th>2</th>\n",
              "      <td>38</td>\n",
              "      <td>Private</td>\n",
              "      <td>215646</td>\n",
              "      <td>High-school</td>\n",
              "      <td>9</td>\n",
              "      <td>Divorced</td>\n",
              "      <td>Handlers-cleaners</td>\n",
              "      <td>Not-in-family</td>\n",
              "      <td>White</td>\n",
              "      <td>Male</td>\n",
              "      <td>0</td>\n",
              "      <td>0</td>\n",
              "      <td>40</td>\n",
              "      <td>United-States</td>\n",
              "    </tr>\n",
              "    <tr>\n",
              "      <th>3</th>\n",
              "      <td>53</td>\n",
              "      <td>Private</td>\n",
              "      <td>234721</td>\n",
              "      <td>High-school</td>\n",
              "      <td>7</td>\n",
              "      <td>Married</td>\n",
              "      <td>Handlers-cleaners</td>\n",
              "      <td>Husband</td>\n",
              "      <td>Black</td>\n",
              "      <td>Male</td>\n",
              "      <td>0</td>\n",
              "      <td>0</td>\n",
              "      <td>40</td>\n",
              "      <td>United-States</td>\n",
              "    </tr>\n",
              "    <tr>\n",
              "      <th>4</th>\n",
              "      <td>28</td>\n",
              "      <td>Private</td>\n",
              "      <td>338409</td>\n",
              "      <td>Bachelors</td>\n",
              "      <td>13</td>\n",
              "      <td>Married</td>\n",
              "      <td>Prof-specialty</td>\n",
              "      <td>Wife</td>\n",
              "      <td>Black</td>\n",
              "      <td>Female</td>\n",
              "      <td>0</td>\n",
              "      <td>0</td>\n",
              "      <td>40</td>\n",
              "      <td>Cuba</td>\n",
              "    </tr>\n",
              "  </tbody>\n",
              "</table>\n",
              "</div>"
            ],
            "text/plain": [
              "   age         workclass  fnlwgt  ... capital-loss  hours-per-week native-country\n",
              "0   39         State-gov   77516  ...            0              40  United-States\n",
              "1   50  Self-emp-not-inc   83311  ...            0              13  United-States\n",
              "2   38           Private  215646  ...            0              40  United-States\n",
              "3   53           Private  234721  ...            0              40  United-States\n",
              "4   28           Private  338409  ...            0              40           Cuba\n",
              "\n",
              "[5 rows x 14 columns]"
            ]
          },
          "metadata": {
            "tags": []
          },
          "execution_count": 17
        }
      ]
    },
    {
      "cell_type": "markdown",
      "metadata": {
        "id": "9ia0b1Z5NBAd"
      },
      "source": [
        "#### Task 1: Creating the Contingency Table\n",
        "\n",
        "> A contingency table is a special type of frequency distribution table that displays the frequency counts of two categorical variables.\n",
        "\n",
        "By using `pd.crosstable`, create an appropriate table format to apply Chi-Square test on features `education` and `marital-status`.\n",
        "\n",
        "*hint: You may check the related recitation material.*"
      ]
    },
    {
      "cell_type": "code",
      "metadata": {
        "id": "OQK5TOafmmAS",
        "outputId": "85582037-5354-4450-e89c-a9d5e847eecb",
        "colab": {
          "base_uri": "https://localhost:8080/",
          "height": 297
        }
      },
      "source": [
        "\n",
        "crosstable_df = pd.crosstab(adults_df['education'],adults_df[\"marital-status\"],margins = True)\n",
        "crosstable_df_C= pd.crosstab(adults_df['education'],adults_df[\"marital-status\"],margins = False)\n",
        "crosstable_df "
      ],
      "execution_count": null,
      "outputs": [
        {
          "output_type": "execute_result",
          "data": {
            "text/html": [
              "<div>\n",
              "<style scoped>\n",
              "    .dataframe tbody tr th:only-of-type {\n",
              "        vertical-align: middle;\n",
              "    }\n",
              "\n",
              "    .dataframe tbody tr th {\n",
              "        vertical-align: top;\n",
              "    }\n",
              "\n",
              "    .dataframe thead th {\n",
              "        text-align: right;\n",
              "    }\n",
              "</style>\n",
              "<table border=\"1\" class=\"dataframe\">\n",
              "  <thead>\n",
              "    <tr style=\"text-align: right;\">\n",
              "      <th>marital-status</th>\n",
              "      <th>Divorced</th>\n",
              "      <th>Married</th>\n",
              "      <th>Never-married</th>\n",
              "      <th>All</th>\n",
              "    </tr>\n",
              "    <tr>\n",
              "      <th>education</th>\n",
              "      <th></th>\n",
              "      <th></th>\n",
              "      <th></th>\n",
              "      <th></th>\n",
              "    </tr>\n",
              "  </thead>\n",
              "  <tbody>\n",
              "    <tr>\n",
              "      <th>Bachelors</th>\n",
              "      <td>720</td>\n",
              "      <td>2840</td>\n",
              "      <td>1795</td>\n",
              "      <td>5355</td>\n",
              "    </tr>\n",
              "    <tr>\n",
              "      <th>Doctorate</th>\n",
              "      <td>47</td>\n",
              "      <td>293</td>\n",
              "      <td>73</td>\n",
              "      <td>413</td>\n",
              "    </tr>\n",
              "    <tr>\n",
              "      <th>High-school</th>\n",
              "      <td>3288</td>\n",
              "      <td>6751</td>\n",
              "      <td>4664</td>\n",
              "      <td>14703</td>\n",
              "    </tr>\n",
              "    <tr>\n",
              "      <th>Masters</th>\n",
              "      <td>299</td>\n",
              "      <td>1020</td>\n",
              "      <td>404</td>\n",
              "      <td>1723</td>\n",
              "    </tr>\n",
              "    <tr>\n",
              "      <th>Preschool</th>\n",
              "      <td>5</td>\n",
              "      <td>24</td>\n",
              "      <td>22</td>\n",
              "      <td>51</td>\n",
              "    </tr>\n",
              "    <tr>\n",
              "      <th>Some-college</th>\n",
              "      <td>2102</td>\n",
              "      <td>4489</td>\n",
              "      <td>3725</td>\n",
              "      <td>10316</td>\n",
              "    </tr>\n",
              "    <tr>\n",
              "      <th>All</th>\n",
              "      <td>6461</td>\n",
              "      <td>15417</td>\n",
              "      <td>10683</td>\n",
              "      <td>32561</td>\n",
              "    </tr>\n",
              "  </tbody>\n",
              "</table>\n",
              "</div>"
            ],
            "text/plain": [
              "marital-status  Divorced  Married  Never-married    All\n",
              "education                                              \n",
              "Bachelors            720     2840           1795   5355\n",
              "Doctorate             47      293             73    413\n",
              "High-school         3288     6751           4664  14703\n",
              "Masters              299     1020            404   1723\n",
              "Preschool              5       24             22     51\n",
              "Some-college        2102     4489           3725  10316\n",
              "All                 6461    15417          10683  32561"
            ]
          },
          "metadata": {
            "tags": []
          },
          "execution_count": 18
        }
      ]
    },
    {
      "cell_type": "markdown",
      "metadata": {
        "id": "PdXwgxO3mm6E"
      },
      "source": [
        "#### Task 2: Visualizing the Crosstable\n",
        "\n",
        "Create a *stacked bar chart* for the **row-wise normalized** crosstable, where the bars are grouped by education levels, so that any dependency should be visualy noticable. \n",
        "\n",
        "An exemplary figure can be found below.\n",
        "\n",
        "<img width=\"700\" height=\"300\" src=\"https://i.ibb.co/cTx8VQ4/pm.png\" />"
      ]
    },
    {
      "cell_type": "code",
      "metadata": {
        "id": "icgy20Vfml4m",
        "outputId": "92879144-f67d-4632-f615-c58631342f99",
        "colab": {
          "base_uri": "https://localhost:8080/",
          "height": 265
        }
      },
      "source": [
        "# your code\n",
        "crosstable_df_withoutALL = crosstable_df.drop(columns=\"All\",index = 'All')\n",
        "crosstable_df_withoutALL['Divorced'] = list(map(lambda x,y: x/y, crosstable_df_withoutALL['Divorced'],crosstable_df['All']))\n",
        "crosstable_df_withoutALL['Married'] = list(map(lambda x,y: x/y, crosstable_df_withoutALL['Married'],crosstable_df['All']))\n",
        "crosstable_df_withoutALL['Never-married'] = list(map(lambda x,y: x/y, crosstable_df_withoutALL['Never-married'],crosstable_df['All']))\n",
        "\n",
        "\n",
        "crosstable_df_withoutALL.plot(kind= 'barh',stacked = True)\n",
        "plt.legend(prop={\"size\":6})\n",
        "plt.show()"
      ],
      "execution_count": null,
      "outputs": [
        {
          "output_type": "display_data",
          "data": {
            "image/png": "[encoded data removed]",
            "text/plain": [
              "<Figure size 432x288 with 1 Axes>"
            ]
          },
          "metadata": {
            "tags": [],
            "needs_background": "light"
          }
        }
      ]
    },
    {
      "cell_type": "markdown",
      "metadata": {
        "id": "hbC8fdOvmnTx"
      },
      "source": [
        "#### Task 3: Computing The Chi-Square Test Statistic\n",
        "\n",
        "For this task, you are going to implement the Chi-Square Test from scratch. In the previous task, you created a contingency table that summarizes the relationship between two categorical variable by storing the frequencies, called **observations**, in each corresponding cell.  However, in order to observe the significance of these observations, we need to obtain **expected frequencies** which specify what the values of each cell of the contingency table would be if there was no association between the two variables. Once you obtain the expected frequencies, you can calculate the test statistic quite easily.\n",
        "\n",
        "Below you can find the detailed instructions to perform the test.\n",
        "\n",
        "1. Compute the contingency table.\n",
        "\n",
        "2. Calculate expected frequencies\n",
        "  - For a particular cell located at $i^{th}$ row and $j^{th}$ column, the expected frequency is $\\large{\\frac{(f_i*f_j)}{total}}$, where $f_i$ is the total frequency in row i and $f_j$ is the total frequency in column j. In parallel, $total$ is the overall frequency.\n",
        "\n",
        "  - For instance, in the contingency table below, red numbers represent row and column totals, whereas the blue value represents the total frequency. The expected frequency of cell [over 30, analog], highlighted as green, can be calculated as $\\large{\\frac{(60*80)}{200}}$.\n",
        "\n",
        "| |  | Watching | Preference | |\n",
        "|:-:|:-:|:-:|:-:|:-:|\n",
        "| Age\t|\tdigital | \tanalog |\tundecided |\n",
        "| under 30 | \t90 | \t40 |\t10 |\t<font color=\"red\">140</font>\n",
        "| over 30 |\t10 |\t**<font color=\"green\">40<font>** |\t10 |\t<font color=\"red\">60</font>\n",
        "|\t| <font color=\"red\">100</font> | \t<font color=\"red\">80</font> |\t<font color=\"red\">20</font> | \t<font color=\"blue\">200</font>\n",
        "\n",
        "3. Compute the Chi-squared statistic.\n",
        "\n",
        "  - $\\chi^2 = \\sum \\Large{\\frac{(f_o-f_e)^2}{f_e}}$, where $f_o$ and $f_e$ are the observed and expected frequencies, respectively.\n",
        "\n",
        "  - For each cell in the contingency table, you are going to compute the residual, $f_o-f_e$, take its square and divide it to $f_e$. And finally sum all the results, so that you will obtain the chi2 test statistic, $\\chi^2$.\n",
        "\n",
        "4. Find the Degrees of Freedom\n",
        "\n",
        "  - $(r-1)(c-1)$, where $r$ is the number of rows and $c$ is the number of the contingency table.\n",
        "\n",
        "5. Obtain the p-value.\n",
        "\n",
        "  - Use scipy's `chdtrc` function to calculate the p-value. The sample usage can be found below.\n",
        "\n",
        "  ```py\n",
        "  >>> from scipy.special import chdtrc\n",
        "    # dof -> degrees of freedom\n",
        "    # chi2_stat -> obtained chi2 statistic\n",
        "  >> chdtrc(dof, chi2_stat)\n",
        "  ```\n",
        "\n",
        "You can always test your results with the `scipy.stats.chi2_contingency` as we did in recitation 6.\n",
        "\n",
        "You may also check the link below to observe an exemplary setup.\n",
        "\n",
        "https://stattrek.com/chi-square-test/independence.aspx\n",
        "\n",
        "Once you perform the steps above, print the obtained $\\chi^2$ and corresponding p-value."
      ]
    },
    {
      "cell_type": "code",
      "metadata": {
        "id": "YxYRmqyQmllL",
        "outputId": "9233cf6c-7a4b-4b1c-d36e-87709a612990",
        "colab": {
          "base_uri": "https://localhost:8080/",
          "height": 51
        }
      },
      "source": [
        "# your code\n",
        "import scipy\n",
        "from scipy.stats import chi2_contingency\n",
        "from scipy.special import chdtrc\n",
        "len(crosstable_df.index)\n",
        "xsquare = 0\n",
        "dof = (len(crosstable_df_C.index)-1)*(len(crosstable_df_C.columns)-1)\n",
        "E00 = crosstable_df.iloc[6][0]*crosstable_df.iloc[0][3]/crosstable_df.iloc[6][3]\n",
        "E01 = crosstable_df.iloc[6][1]*crosstable_df.iloc[0][3]/crosstable_df.iloc[6][3]\n",
        "E02= crosstable_df.iloc[6][2]*crosstable_df.iloc[0][3]/crosstable_df.iloc[6][3]\n",
        "E10 =crosstable_df.iloc[6][0]*crosstable_df.iloc[1][3]/crosstable_df.iloc[6][3]\n",
        "E11 = crosstable_df.iloc[6][1]*crosstable_df.iloc[1][3]/crosstable_df.iloc[6][3]\n",
        "E12= crosstable_df.iloc[6][2]*crosstable_df.iloc[1][3]/crosstable_df.iloc[6][3]\n",
        "E20 =crosstable_df.iloc[6][0]*crosstable_df.iloc[2][3]/crosstable_df.iloc[6][3]\n",
        "E21 = crosstable_df.iloc[6][1]*crosstable_df.iloc[2][3]/crosstable_df.iloc[6][3]\n",
        "E22= crosstable_df.iloc[6][2]*crosstable_df.iloc[2][3]/crosstable_df.iloc[6][3]\n",
        "E30 = crosstable_df.iloc[6][0]*crosstable_df.iloc[3][3]/crosstable_df.iloc[6][3]\n",
        "E31 = crosstable_df.iloc[6][1]*crosstable_df.iloc[3][3]/crosstable_df.iloc[6][3]\n",
        "E32= crosstable_df.iloc[6][2]*crosstable_df.iloc[3][3]/crosstable_df.iloc[6][3]\n",
        "E40 =crosstable_df.iloc[6][0]*crosstable_df.iloc[4][3]/crosstable_df.iloc[6][3]\n",
        "E41 = crosstable_df.iloc[6][1]*crosstable_df.iloc[4][3]/crosstable_df.iloc[6][3]\n",
        "E42= crosstable_df.iloc[6][2]*crosstable_df.iloc[4][3]/crosstable_df.iloc[6][3]\n",
        "E50 =crosstable_df.iloc[6][0]*crosstable_df.iloc[5][3]/crosstable_df.iloc[6][3]\n",
        "E51 = crosstable_df.iloc[6][1]*crosstable_df.iloc[5][3]/crosstable_df.iloc[6][3]\n",
        "E52= crosstable_df.iloc[6][2]*crosstable_df.iloc[5][3]/crosstable_df.iloc[6][3]\n",
        "def chisquare(exact,expected):\n",
        "  return (exact-expected)*(exact-expected)/expected\n",
        "xsquare = chisquare(crosstable_df.iloc[0][0],E00)+chisquare(crosstable_df.iloc[0][1],E01)+chisquare(crosstable_df.iloc[0][2],E02)+chisquare(crosstable_df.iloc[1][0],E10)+chisquare(crosstable_df.iloc[1][1],E11)+chisquare(crosstable_df.iloc[1][2],E12)+chisquare(crosstable_df.iloc[2][0],E20)+chisquare(crosstable_df.iloc[2][1],E21)+chisquare(crosstable_df.iloc[2][2],E22)+chisquare(crosstable_df.iloc[3][0],E30)+chisquare(crosstable_df.iloc[3][1],E31)+chisquare(crosstable_df.iloc[3][2],E32)+chisquare(crosstable_df.iloc[4][0],E40)+chisquare(crosstable_df.iloc[4][1],E41)+chisquare(crosstable_df.iloc[4][2],E42)+chisquare(crosstable_df.iloc[5][0],E50)+chisquare(crosstable_df.iloc[5][1],E51)+chisquare(crosstable_df.iloc[5][2],E52)\n",
        "print(\"x^2 = \" ,xsquare)\n",
        "print(\"p-value = \",chdtrc(dof,xsquare))"
      ],
      "execution_count": null,
      "outputs": [
        {
          "output_type": "stream",
          "text": [
            "x^2 =  473.3673276295488\n",
            "p-value =  2.154881153496343e-95\n"
          ],
          "name": "stdout"
        }
      ]
    },
    {
      "cell_type": "markdown",
      "metadata": {
        "id": "U9chhXnXQUUk"
      },
      "source": [
        "#### Task 4: Conclusion\n",
        "\n",
        "Compare the obtained p-value and $\\alpha$ (0.05), then evaluate your hypotheses."
      ]
    },
    {
      "cell_type": "markdown",
      "metadata": {
        "id": "x_QRWVZMTD73"
      },
      "source": [
        "<font color=\"blue\">[Double click to type your decision and its explanation.]</font>\n",
        "\n",
        "\n",
        " Since p value is lower than significance level which is 0.05, we are rejecting null hypothesis\n",
        "\n",
        "\n"
      ]
    }
  ]
}