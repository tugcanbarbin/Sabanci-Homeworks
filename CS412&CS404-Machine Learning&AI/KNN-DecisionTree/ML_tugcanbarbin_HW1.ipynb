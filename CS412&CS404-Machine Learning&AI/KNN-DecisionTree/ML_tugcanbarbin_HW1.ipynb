{
  "cells": [
    {
      "cell_type": "markdown",
      "metadata": {
        "id": "zrzkxpZrCF6D"
      },
      "source": [
        "# CS 412 Machine Learning 2020 \n",
        "\n",
        "# Assignment 1\n",
        "\n",
        "100 pts\n",
        "\n",
        "## Goal \n",
        "\n",
        "The goal of this assignment \n",
        "\n",
        "*  Introduction to the machine learning experimental set up\n",
        "*  Gain experience with the Scikit library\n",
        "*  Gain experience with Decision tree and k-NN models\n",
        "\n",
        "## Dataset\n",
        "\n",
        "**Wine Quality Dataset** is a collection red and white wines with 12 attributes. The target variable is the 'quality' either 0 or 1\n",
        "\n",
        "\n",
        "## Task\n",
        "Build a decision tree and k-NN classifiers with the scikit-learn library function calls to **classify** the quality of wine as good (1) and bad (0)\n",
        "\n",
        "## Submission\n",
        "\n",
        "Follow the instructions at the end."
      ]
    },
    {
      "cell_type": "markdown",
      "metadata": {
        "id": "18kyKgy9LiZx"
      },
      "source": [
        "# 1) Initialize\n",
        "\n",
        "First, make a copy of this notebook in your drive"
      ]
    },
    {
      "cell_type": "code",
      "execution_count": 1,
      "metadata": {
        "colab": {
          "base_uri": "https://localhost:8080/"
        },
        "id": "eTJUORO9CBNq",
        "outputId": "00ee21da-ca54-4e39-8155-a502e94e50cc",
        "vscode": {
          "languageId": "python"
        }
      },
      "outputs": [
        {
          "name": "stdout",
          "output_type": "stream",
          "text": [
            "Mounted at /content/drive\n"
          ]
        }
      ],
      "source": [
        "# Mount to your drive, in this way you can reach files that are in your drive\n",
        "# Run this cell\n",
        "\n",
        "from google.colab import drive\n",
        "drive.mount('/content/drive')"
      ]
    },
    {
      "cell_type": "markdown",
      "metadata": {
        "id": "FtputkpVLt8H"
      },
      "source": [
        "# 2) Load Dataset\n",
        "To start working for your homework, take a copy of the folder, given in the below link to your own google drive. You find the train and test data under this folder.\n",
        "\n",
        "https://drive.google.com/drive/folders/1PC6M332CTdW-OOrgJ-1GU1F3UaRupka8?usp=sharing\n",
        "\n",
        "After copy the folder, copy the path of the train and test dataset to paste them in the below cell to load your data."
      ]
    },
    {
      "cell_type": "code",
      "execution_count": 84,
      "metadata": {
        "id": "gB1Fur5APIjQ",
        "vscode": {
          "languageId": "python"
        }
      },
      "outputs": [],
      "source": [
        "import pandas as pd\n",
        "import numpy as np\n",
        "\n",
        "train_df = pd.read_csv('/content/drive/My Drive/winequality-train.csv')\n",
        "test_df =pd.read_csv('/content/drive/My Drive/winequality-test.csv') # One line of code"
      ]
    },
    {
      "cell_type": "markdown",
      "metadata": {
        "id": "Rtcu1QMXMLBN"
      },
      "source": [
        "# 3) Understand the dataset\n",
        "\n",
        "You can use the fuctions that we saw in the recitations to understand the dataset"
      ]
    },
    {
      "cell_type": "code",
      "execution_count": 85,
      "metadata": {
        "colab": {
          "base_uri": "https://localhost:8080/",
          "height": 383
        },
        "id": "KjQj6XQNMd68",
        "outputId": "d07d6606-cb9a-4bc4-deb9-38f459471990",
        "vscode": {
          "languageId": "python"
        }
      },
      "outputs": [
        {
          "name": "stdout",
          "output_type": "stream",
          "text": [
            "(5198, 13)\n",
            "(1299, 13)\n"
          ]
        },
        {
          "data": {
            "text/html": [
              "<div>\n",
              "<style scoped>\n",
              "    .dataframe tbody tr th:only-of-type {\n",
              "        vertical-align: middle;\n",
              "    }\n",
              "\n",
              "    .dataframe tbody tr th {\n",
              "        vertical-align: top;\n",
              "    }\n",
              "\n",
              "    .dataframe thead th {\n",
              "        text-align: right;\n",
              "    }\n",
              "</style>\n",
              "<table border=\"1\" class=\"dataframe\">\n",
              "  <thead>\n",
              "    <tr style=\"text-align: right;\">\n",
              "      <th></th>\n",
              "      <th>fixed acidity</th>\n",
              "      <th>volatile acidity</th>\n",
              "      <th>citric acid</th>\n",
              "      <th>residual sugar</th>\n",
              "      <th>chlorides</th>\n",
              "      <th>free sulfur dioxide</th>\n",
              "      <th>total sulfur dioxide</th>\n",
              "      <th>density</th>\n",
              "      <th>pH</th>\n",
              "      <th>sulphates</th>\n",
              "      <th>alcohol</th>\n",
              "      <th>wine type</th>\n",
              "      <th>quality</th>\n",
              "    </tr>\n",
              "  </thead>\n",
              "  <tbody>\n",
              "    <tr>\n",
              "      <th>3524</th>\n",
              "      <td>8.8</td>\n",
              "      <td>0.23</td>\n",
              "      <td>0.74</td>\n",
              "      <td>3.2</td>\n",
              "      <td>0.042</td>\n",
              "      <td>15.0</td>\n",
              "      <td>126.0</td>\n",
              "      <td>0.99340</td>\n",
              "      <td>3.02</td>\n",
              "      <td>0.51</td>\n",
              "      <td>11.2</td>\n",
              "      <td>0</td>\n",
              "      <td>0</td>\n",
              "    </tr>\n",
              "    <tr>\n",
              "      <th>2598</th>\n",
              "      <td>6.3</td>\n",
              "      <td>0.68</td>\n",
              "      <td>0.01</td>\n",
              "      <td>3.7</td>\n",
              "      <td>0.103</td>\n",
              "      <td>32.0</td>\n",
              "      <td>54.0</td>\n",
              "      <td>0.99586</td>\n",
              "      <td>3.51</td>\n",
              "      <td>0.66</td>\n",
              "      <td>11.3</td>\n",
              "      <td>1</td>\n",
              "      <td>0</td>\n",
              "    </tr>\n",
              "    <tr>\n",
              "      <th>4198</th>\n",
              "      <td>8.2</td>\n",
              "      <td>0.34</td>\n",
              "      <td>0.37</td>\n",
              "      <td>1.9</td>\n",
              "      <td>0.057</td>\n",
              "      <td>43.0</td>\n",
              "      <td>74.0</td>\n",
              "      <td>0.99408</td>\n",
              "      <td>3.23</td>\n",
              "      <td>0.81</td>\n",
              "      <td>12.0</td>\n",
              "      <td>1</td>\n",
              "      <td>0</td>\n",
              "    </tr>\n",
              "    <tr>\n",
              "      <th>3675</th>\n",
              "      <td>8.9</td>\n",
              "      <td>0.48</td>\n",
              "      <td>0.53</td>\n",
              "      <td>4.0</td>\n",
              "      <td>0.101</td>\n",
              "      <td>3.0</td>\n",
              "      <td>10.0</td>\n",
              "      <td>0.99586</td>\n",
              "      <td>3.21</td>\n",
              "      <td>0.59</td>\n",
              "      <td>12.1</td>\n",
              "      <td>1</td>\n",
              "      <td>1</td>\n",
              "    </tr>\n",
              "    <tr>\n",
              "      <th>299</th>\n",
              "      <td>6.5</td>\n",
              "      <td>0.28</td>\n",
              "      <td>0.28</td>\n",
              "      <td>20.4</td>\n",
              "      <td>0.041</td>\n",
              "      <td>40.0</td>\n",
              "      <td>144.0</td>\n",
              "      <td>1.00020</td>\n",
              "      <td>3.14</td>\n",
              "      <td>0.38</td>\n",
              "      <td>8.7</td>\n",
              "      <td>0</td>\n",
              "      <td>0</td>\n",
              "    </tr>\n",
              "    <tr>\n",
              "      <th>4537</th>\n",
              "      <td>5.7</td>\n",
              "      <td>0.33</td>\n",
              "      <td>0.15</td>\n",
              "      <td>1.9</td>\n",
              "      <td>0.050</td>\n",
              "      <td>20.0</td>\n",
              "      <td>93.0</td>\n",
              "      <td>0.99340</td>\n",
              "      <td>3.38</td>\n",
              "      <td>0.62</td>\n",
              "      <td>9.9</td>\n",
              "      <td>0</td>\n",
              "      <td>0</td>\n",
              "    </tr>\n",
              "    <tr>\n",
              "      <th>1989</th>\n",
              "      <td>7.1</td>\n",
              "      <td>0.66</td>\n",
              "      <td>0.00</td>\n",
              "      <td>2.4</td>\n",
              "      <td>0.044</td>\n",
              "      <td>6.0</td>\n",
              "      <td>11.0</td>\n",
              "      <td>0.99318</td>\n",
              "      <td>3.35</td>\n",
              "      <td>0.66</td>\n",
              "      <td>12.7</td>\n",
              "      <td>1</td>\n",
              "      <td>1</td>\n",
              "    </tr>\n",
              "    <tr>\n",
              "      <th>4846</th>\n",
              "      <td>8.2</td>\n",
              "      <td>0.34</td>\n",
              "      <td>0.29</td>\n",
              "      <td>5.2</td>\n",
              "      <td>0.076</td>\n",
              "      <td>19.0</td>\n",
              "      <td>92.0</td>\n",
              "      <td>0.99138</td>\n",
              "      <td>2.95</td>\n",
              "      <td>0.39</td>\n",
              "      <td>12.5</td>\n",
              "      <td>0</td>\n",
              "      <td>0</td>\n",
              "    </tr>\n",
              "    <tr>\n",
              "      <th>4964</th>\n",
              "      <td>8.2</td>\n",
              "      <td>0.40</td>\n",
              "      <td>0.44</td>\n",
              "      <td>2.8</td>\n",
              "      <td>0.089</td>\n",
              "      <td>11.0</td>\n",
              "      <td>43.0</td>\n",
              "      <td>0.99750</td>\n",
              "      <td>3.53</td>\n",
              "      <td>0.61</td>\n",
              "      <td>10.5</td>\n",
              "      <td>1</td>\n",
              "      <td>0</td>\n",
              "    </tr>\n",
              "    <tr>\n",
              "      <th>285</th>\n",
              "      <td>6.1</td>\n",
              "      <td>0.32</td>\n",
              "      <td>0.37</td>\n",
              "      <td>1.8</td>\n",
              "      <td>0.051</td>\n",
              "      <td>13.0</td>\n",
              "      <td>200.0</td>\n",
              "      <td>0.99450</td>\n",
              "      <td>3.49</td>\n",
              "      <td>0.44</td>\n",
              "      <td>10.5</td>\n",
              "      <td>0</td>\n",
              "      <td>0</td>\n",
              "    </tr>\n",
              "  </tbody>\n",
              "</table>\n",
              "</div>"
            ],
            "text/plain": [
              "      fixed acidity  volatile acidity  citric acid  ...  alcohol  wine type  quality\n",
              "3524            8.8              0.23         0.74  ...     11.2          0        0\n",
              "2598            6.3              0.68         0.01  ...     11.3          1        0\n",
              "4198            8.2              0.34         0.37  ...     12.0          1        0\n",
              "3675            8.9              0.48         0.53  ...     12.1          1        1\n",
              "299             6.5              0.28         0.28  ...      8.7          0        0\n",
              "4537            5.7              0.33         0.15  ...      9.9          0        0\n",
              "1989            7.1              0.66         0.00  ...     12.7          1        1\n",
              "4846            8.2              0.34         0.29  ...     12.5          0        0\n",
              "4964            8.2              0.40         0.44  ...     10.5          1        0\n",
              "285             6.1              0.32         0.37  ...     10.5          0        0\n",
              "\n",
              "[10 rows x 13 columns]"
            ]
          },
          "execution_count": 85,
          "metadata": {
            "tags": []
          },
          "output_type": "execute_result"
        }
      ],
      "source": [
        "# print shape of the train and test sets\n",
        "print(train_df.shape)\n",
        "print(test_df.shape)\n",
        "\n",
        "\n",
        "# show random samples from the training data\n",
        "train_df.sample(10)\n"
      ]
    },
    {
      "cell_type": "code",
      "execution_count": 86,
      "metadata": {
        "colab": {
          "base_uri": "https://localhost:8080/"
        },
        "id": "5B93dybOMqBF",
        "outputId": "93f5bfca-484c-4df3-8142-13c954025a12",
        "vscode": {
          "languageId": "python"
        }
      },
      "outputs": [
        {
          "name": "stdout",
          "output_type": "stream",
          "text": [
            "<class 'pandas.core.frame.DataFrame'>\n",
            "RangeIndex: 5198 entries, 0 to 5197\n",
            "Data columns (total 13 columns):\n",
            " #   Column                Non-Null Count  Dtype  \n",
            "---  ------                --------------  -----  \n",
            " 0   fixed acidity         5198 non-null   float64\n",
            " 1   volatile acidity      5198 non-null   float64\n",
            " 2   citric acid           5198 non-null   float64\n",
            " 3   residual sugar        5198 non-null   float64\n",
            " 4   chlorides             5198 non-null   float64\n",
            " 5   free sulfur dioxide   5198 non-null   float64\n",
            " 6   total sulfur dioxide  5198 non-null   float64\n",
            " 7   density               5198 non-null   float64\n",
            " 8   pH                    5198 non-null   float64\n",
            " 9   sulphates             5198 non-null   float64\n",
            " 10  alcohol               5198 non-null   float64\n",
            " 11  wine type             5198 non-null   int64  \n",
            " 12  quality               5198 non-null   int64  \n",
            "dtypes: float64(11), int64(2)\n",
            "memory usage: 528.0 KB\n",
            "None\n",
            "<class 'pandas.core.frame.DataFrame'>\n",
            "RangeIndex: 1299 entries, 0 to 1298\n",
            "Data columns (total 13 columns):\n",
            " #   Column                Non-Null Count  Dtype  \n",
            "---  ------                --------------  -----  \n",
            " 0   fixed acidity         1299 non-null   float64\n",
            " 1   volatile acidity      1299 non-null   float64\n",
            " 2   citric acid           1299 non-null   float64\n",
            " 3   residual sugar        1299 non-null   float64\n",
            " 4   chlorides             1299 non-null   float64\n",
            " 5   free sulfur dioxide   1299 non-null   float64\n",
            " 6   total sulfur dioxide  1299 non-null   float64\n",
            " 7   density               1299 non-null   float64\n",
            " 8   pH                    1299 non-null   float64\n",
            " 9   sulphates             1299 non-null   float64\n",
            " 10  alcohol               1299 non-null   float64\n",
            " 11  wine type             1299 non-null   int64  \n",
            " 12  quality               1299 non-null   int64  \n",
            "dtypes: float64(11), int64(2)\n",
            "memory usage: 132.1 KB\n",
            "None\n"
          ]
        }
      ],
      "source": [
        "# print information about the datasets (Is there any missing value? or Categorical feature?)\n",
        "print(train_df.info())\n",
        "print(test_df.info())\n",
        "#There is no missing value or cathegorical feature in these data sets"
      ]
    },
    {
      "cell_type": "markdown",
      "metadata": {
        "id": "PAFQHAq8Mno1"
      },
      "source": [
        "# 4) Define train and test labels"
      ]
    },
    {
      "cell_type": "code",
      "execution_count": 87,
      "metadata": {
        "id": "JjW1ZNhONNCb",
        "vscode": {
          "languageId": "python"
        }
      },
      "outputs": [],
      "source": [
        "# make sure you remove the labels from datasets\n",
        "\n",
        "train_labels = train_df.pop(\"quality\")\n",
        "test_labels = test_df.pop(\"quality\")"
      ]
    },
    {
      "cell_type": "markdown",
      "metadata": {
        "id": "4fn3N4V_OlL_"
      },
      "source": [
        "# 5) FineTune Decision Tree hyper-parameters\n",
        "\n",
        "1-Splitting dataset into train and validation"
      ]
    },
    {
      "cell_type": "code",
      "execution_count": 88,
      "metadata": {
        "id": "hJlxVMTnYTTg",
        "vscode": {
          "languageId": "python"
        }
      },
      "outputs": [],
      "source": [
        "# Split training data to 70% training and 30% validation, do not forget to use the random_state parameter\n",
        "from sklearn.model_selection import train_test_split\n",
        "x_train, x_val, y_train, y_val = train_test_split(train_df,train_labels,test_size = 0.3, random_state = 1010)"
      ]
    },
    {
      "cell_type": "markdown",
      "metadata": {
        "id": "NNm9SC9JYXN2"
      },
      "source": [
        "2- FineTune minimum sample split"
      ]
    },
    {
      "cell_type": "code",
      "execution_count": 89,
      "metadata": {
        "id": "UfTLLotIO3WX",
        "vscode": {
          "languageId": "python"
        }
      },
      "outputs": [],
      "source": [
        "from sklearn.tree import DecisionTreeClassifier\n",
        "\n",
        "min_samples_splits = range(2, 50)\n",
        "\n",
        "train_results = []\n",
        "val_results = []\n",
        "for min_samples_split in min_samples_splits:\n",
        "\n",
        "  # Fit the tree using the 70% portion of the training data\n",
        "  dtClass = DecisionTreeClassifier(min_samples_split= min_samples_split, random_state= 1010)\n",
        "  dtClass.fit(x_train,y_train)\n",
        "\n",
        "  # Evaluate on Training set\n",
        "  train_acc = dtClass.score(train_df,train_labels)\n",
        "  train_results.append(train_acc)\n",
        "   \n",
        "  # Evaluate on Validation set\n",
        "  val_acc = dtClass.score(x_val,y_val)\n",
        "  val_results.append(val_acc)"
      ]
    },
    {
      "cell_type": "code",
      "execution_count": 90,
      "metadata": {
        "colab": {
          "base_uri": "https://localhost:8080/",
          "height": 264
        },
        "id": "_jqCo52hPjkk",
        "outputId": "d5c6b549-7c38-4b98-a3e9-2dc6aeeba866",
        "vscode": {
          "languageId": "python"
        }
      },
      "outputs": [
        {
          "data": {
            "image/png": "[encoded data removed]",
            "text/plain": [
              "<Figure size 432x288 with 1 Axes>"
            ]
          },
          "metadata": {
            "needs_background": "light",
            "tags": []
          },
          "output_type": "display_data"
        }
      ],
      "source": [
        "# Plot the results\n",
        "import matplotlib.pyplot as plt\n",
        "\n",
        "plt.plot(min_samples_splits, train_results, 'b')\n",
        "plt.plot(min_samples_splits, val_results,'r')\n",
        "plt.show()"
      ]
    },
    {
      "cell_type": "code",
      "execution_count": 98,
      "metadata": {
        "colab": {
          "base_uri": "https://localhost:8080/"
        },
        "id": "UrZSntmRYtFL",
        "outputId": "0afe9b61-aa2a-45a2-b2cc-da91b4f46629",
        "vscode": {
          "languageId": "python"
        }
      },
      "outputs": [
        {
          "name": "stdout",
          "output_type": "stream",
          "text": [
            "25  is our best minimum sample split value\n",
            "Testing Accuracy = 81.8322%\n",
            "      fixed acidity  volatile acidity  ...  alcohol  wine type\n",
            "2185            7.6              0.31  ...      9.7          0\n",
            "3193            9.2              0.92  ...      9.8          1\n",
            "4928            7.0              0.32  ...     12.8          0\n",
            "2115            7.3              0.34  ...     10.2          0\n",
            "3797            8.4              0.35  ...      9.4          0\n",
            "...             ...               ...  ...      ...        ...\n",
            "354             4.4              0.46  ...     13.1          0\n",
            "4906            6.0              0.34  ...     10.7          0\n",
            "2582            6.9              0.48  ...     12.2          0\n",
            "202             7.2              0.25  ...      9.0          0\n",
            "1736            7.1              0.65  ...      9.1          1\n",
            "\n",
            "[3638 rows x 12 columns]\n",
            "-------------------\n",
            "2185    0\n",
            "3193    0\n",
            "4928    1\n",
            "2115    0\n",
            "3797    0\n",
            "       ..\n",
            "354     0\n",
            "4906    0\n",
            "2582    1\n",
            "202     1\n",
            "1736    0\n",
            "Name: quality, Length: 3638, dtype: int64\n"
          ]
        }
      ],
      "source": [
        "# Choose the best minimum split sample based on the plot\n",
        "Best_minSampl = min_samples_splits[np.argmax(val_results)]\n",
        "print(Best_minSampl, \" is our best minimum sample split value\")\n",
        "\n",
        "# Train decision tree using the full training data and the best minimum split sample\n",
        "dtClass = DecisionTreeClassifier(min_samples_split=Best_minSampl, random_state= 1010)\n",
        "dtClass.fit(train_df,train_labels)\n",
        "\n",
        "# Estimate the prediction of the test data\n",
        "test_pred = dtClass.predict(test_df) # One line of code\n",
        "\n",
        "from sklearn.metrics import accuracy_score\n",
        "# Calculate accuracy of test data\n",
        "TestAcc = accuracy_score(test_labels, test_pred)\n",
        "print(\"Testing Accuracy = %.4f%%\" % (TestAcc * 100))\n",
        "print(x_train)\n",
        "print(\"-------------------\")\n",
        "print(y_train)"
      ]
    },
    {
      "cell_type": "markdown",
      "metadata": {
        "id": "a_GMi20MO3lr"
      },
      "source": [
        "# 6) Apply the same procedure but using k-NN instead of decision tree\n",
        "\n",
        "For finetuning, find the best value of K to use with this dataset."
      ]
    },
    {
      "cell_type": "code",
      "execution_count": 92,
      "metadata": {
        "colab": {
          "base_uri": "https://localhost:8080/"
        },
        "id": "SKZoNasEO9BT",
        "outputId": "ca07ee88-e622-4cd5-bb19-632846aea147",
        "vscode": {
          "languageId": "python"
        }
      },
      "outputs": [
        {
          "name": "stdout",
          "output_type": "stream",
          "text": [
            "Best Validation Accuracy = 81.2179%\n"
          ]
        }
      ],
      "source": [
        "from sklearn.neighbors import KNeighborsClassifier\n",
        "\n",
        "# initialize the values of k to be a list of odd numbers between 1 and 30\n",
        "kVals = np.arange(1,30,2)\n",
        "\n",
        "# Save the accuracies of each value of kVal in [accuracies] variable\n",
        "# hint: you can use accuracies.append(...) function inside the loop\n",
        "accuracies = []\n",
        "\n",
        "# loop over values of k for the k-Nearest Neighbor classifier\n",
        "for k in kVals:\n",
        "  # Follow what we did in decision tree part\n",
        "  model= KNeighborsClassifier(n_neighbors = k)\n",
        "  model.fit( x_train , y_train )\n",
        "  predictsKnn = model.predict(x_val)\n",
        "  accuracies.append(accuracy_score(y_val,predictsKnn))\n",
        "\n",
        "\n",
        "print(\"Best Validation Accuracy = %.4f%%\" % (np.max(accuracies)*100))"
      ]
    },
    {
      "cell_type": "code",
      "execution_count": 97,
      "metadata": {
        "colab": {
          "base_uri": "https://localhost:8080/"
        },
        "id": "w1PtA576uw9t",
        "outputId": "9f34530d-27b0-4209-e169-d07a78d42e69",
        "vscode": {
          "languageId": "python"
        }
      },
      "outputs": [
        {
          "name": "stdout",
          "output_type": "stream",
          "text": [
            "0.8083140877598153  : is our accuracy score on test database\n"
          ]
        }
      ],
      "source": [
        "# Train k-NN using the full training data with the best K that you found\n",
        "model = KNeighborsClassifier(n_neighbors= kVals[np.argmax(accuracies)])\n",
        "model.fit(train_df,train_labels)\n",
        "# Testing\n",
        "predictsKnn= model.predict(test_df)\n",
        "print(accuracy_score(test_labels, predictsKnn), \" : is our accuracy score on test database\")"
      ]
    },
    {
      "cell_type": "code",
      "execution_count": 99,
      "metadata": {
        "colab": {
          "base_uri": "https://localhost:8080/"
        },
        "id": "9jj5HPoU5iWa",
        "outputId": "8cc72f69-7012-4a74-80d7-8b9a5ff2923a",
        "vscode": {
          "languageId": "python"
        }
      },
      "outputs": [
        {
          "name": "stdout",
          "output_type": "stream",
          "text": [
            "[NbConvertApp] Converting notebook /content/ML_tugcanbarbin_HW1.ipynb to html\n",
            "[NbConvertApp] Writing 321085 bytes to /content/ML_tugcanbarbin_HW1.html\n"
          ]
        },
        {
          "data": {
            "text/plain": []
          },
          "execution_count": 99,
          "metadata": {
            "tags": []
          },
          "output_type": "execute_result"
        }
      ],
      "source": [
        "%%shell\n",
        "jupyter nbconvert --to html /content/ML_tugcanbarbin_HW1.ipynb"
      ]
    },
    {
      "cell_type": "markdown",
      "metadata": {
        "id": "KmL4-FHqO_sq"
      },
      "source": [
        "# 7) Notebook & Report\n",
        "\n",
        "Notebook: We may just look at your notebook results; so make sure each cell is run and outputs are there.\n",
        "\n",
        "Report: Write an at most 1/2 page summary of your approach to this problem at the end of your notebook; this should be like an abstract of a paper or the executive summary.\n",
        "\n",
        "Must include statements such as:\n",
        "\n",
        "( Include the problem definition: 1-2 lines )\n",
        "\n",
        "(Talk about any preprocessing you did, explain your reasoning)\n",
        "\n",
        "(Talk about train/val/test sets, size and how split)\n",
        "\n",
        "(State what your test results are with the chosen method, parameters: e.g. \"We have obtained the best results with the ….. classifier (parameters=....) , giving classification accuracy of …% on test data….\")\n",
        "\n",
        "(Comment on the speed of the algorithms and anything else that you deem important/interesting)\n",
        "\n",
        "\n",
        "You will get full points from here as long as you have a good (enough) summary of your work, regardless of your best performance or what you have decided to talk about in the last few lines.\n",
        "\n"
      ]
    },
    {
      "cell_type": "markdown",
      "metadata": {
        "id": "YBjX29muPFu0"
      },
      "source": [
        "# Report\n",
        "\n",
        "In this homework, we are given two datasets that has same features and label but splitted in terms of test and train. We are trying to predict the quality of a wine by using features of that wine. To achieve this prediction goal, we need to use machine learning.\n",
        "\n",
        "\n",
        "Firstly, i checked the both data's informations to see whether there are some missing informations or columns but i could not find any missing information. Then, i splitted labels from original datas, so i had four data:\n",
        "\n",
        "---->test features\n",
        "\n",
        "---->test labels\n",
        "\n",
        "---->train features\n",
        "\n",
        "---->train labels\n",
        "\n",
        "Then, i splitted the training  datas into two parts as :\n",
        "\n",
        "-Training data 70% of actual training data which is used to train my kNN and decision tree\n",
        "\n",
        "-validation data 30% of actual training data which is used to set the hyperparameters as best\n",
        "\n",
        "We have achieved to get best result with the Decision Tree Classifier with the parameter of min_sample_split = 25. Our best accuracy is 81.8322% on test data. It is not good enough but not bad either can be improved by tuning other hyperparameters.\n",
        "\n",
        "\n",
        "I used training (fit) and prediction algorithms in same code boxes. So, i could not compare just training or prediction algorithm speeds. Also, since our data is not big, i could not understand the difference of kNN and Decision Tree performance in terms of speed. However, i feel that kNN is slower than decision "
      ]
    }
  ],
  "metadata": {
    "colab": {
      "collapsed_sections": [],
      "name": "ML_tugcanbarbin_HW1.ipynb",
      "provenance": [],
      "toc_visible": true
    },
    "kernelspec": {
      "display_name": "Python 3",
      "name": "python3"
    }
  },
  "nbformat": 4,
  "nbformat_minor": 0
}
