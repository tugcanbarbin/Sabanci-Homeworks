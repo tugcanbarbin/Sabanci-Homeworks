{
 "cells": [
  {
   "cell_type": "code",
   "execution_count": 1,
   "metadata": {
    "id": "Xj2uuJ07gk3Y"
   },
   "outputs": [
    {
     "name": "stdout",
     "output_type": "stream",
     "text": [
      "done\n"
     ]
    }
   ],
   "source": [
    "import pandas as pd\n",
    "import numpy as np\n",
    "import matplotlib.pyplot as plt\n",
    "import seaborn as sns\n",
    "from sklearn.preprocessing import OrdinalEncoder\n",
    "from sklearn.preprocessing import minmax_scale\n",
    "print('done')\n"
   ]
  },
  {
   "cell_type": "code",
   "execution_count": 2,
   "metadata": {
    "id": "xTYk7kMEhIRi"
   },
   "outputs": [],
   "source": [
    "mycsv = pd.read_csv('Car_Purchasing_Data.csv', encoding='ISO-8859-1')\n"
   ]
  },
  {
   "cell_type": "code",
   "execution_count": 3,
   "metadata": {
    "colab": {
     "base_uri": "https://localhost:8080/",
     "height": 275
    },
    "id": "XEXVdHB8iJlU",
    "outputId": "22d1ae55-d8bb-4062-f69b-1cb563b3c2f9"
   },
   "outputs": [
    {
     "data": {
      "text/html": [
       "<div>\n",
       "<style scoped>\n",
       "    .dataframe tbody tr th:only-of-type {\n",
       "        vertical-align: middle;\n",
       "    }\n",
       "\n",
       "    .dataframe tbody tr th {\n",
       "        vertical-align: top;\n",
       "    }\n",
       "\n",
       "    .dataframe thead th {\n",
       "        text-align: right;\n",
       "    }\n",
       "</style>\n",
       "<table border=\"1\" class=\"dataframe\">\n",
       "  <thead>\n",
       "    <tr style=\"text-align: right;\">\n",
       "      <th></th>\n",
       "      <th>Customer Name</th>\n",
       "      <th>Customer e-mail</th>\n",
       "      <th>Country</th>\n",
       "      <th>Gender</th>\n",
       "      <th>Age</th>\n",
       "      <th>Annual Salary</th>\n",
       "      <th>Credit Card Debt</th>\n",
       "      <th>Net Worth</th>\n",
       "      <th>Car Purchase Amount</th>\n",
       "    </tr>\n",
       "  </thead>\n",
       "  <tbody>\n",
       "    <tr>\n",
       "      <th>0</th>\n",
       "      <td>Martina Avila</td>\n",
       "      <td>cubilia.Curae.Phasellus@quisaccumsanconvallis.edu</td>\n",
       "      <td>Bulgaria</td>\n",
       "      <td>0</td>\n",
       "      <td>41.851720</td>\n",
       "      <td>62812.09301</td>\n",
       "      <td>11609.380910</td>\n",
       "      <td>238961.2505</td>\n",
       "      <td>35321.45877</td>\n",
       "    </tr>\n",
       "    <tr>\n",
       "      <th>1</th>\n",
       "      <td>Harlan Barnes</td>\n",
       "      <td>eu.dolor@diam.co.uk</td>\n",
       "      <td>Belize</td>\n",
       "      <td>0</td>\n",
       "      <td>40.870623</td>\n",
       "      <td>66646.89292</td>\n",
       "      <td>9572.957136</td>\n",
       "      <td>530973.9078</td>\n",
       "      <td>45115.52566</td>\n",
       "    </tr>\n",
       "    <tr>\n",
       "      <th>2</th>\n",
       "      <td>Naomi Rodriquez</td>\n",
       "      <td>vulputate.mauris.sagittis@ametconsectetueradip...</td>\n",
       "      <td>Algeria</td>\n",
       "      <td>1</td>\n",
       "      <td>43.152897</td>\n",
       "      <td>53798.55112</td>\n",
       "      <td>11160.355060</td>\n",
       "      <td>638467.1773</td>\n",
       "      <td>42925.70921</td>\n",
       "    </tr>\n",
       "    <tr>\n",
       "      <th>3</th>\n",
       "      <td>Jade Cunningham</td>\n",
       "      <td>malesuada@dignissim.com</td>\n",
       "      <td>Cook Islands</td>\n",
       "      <td>1</td>\n",
       "      <td>58.271369</td>\n",
       "      <td>79370.03798</td>\n",
       "      <td>14426.164850</td>\n",
       "      <td>548599.0524</td>\n",
       "      <td>67422.36313</td>\n",
       "    </tr>\n",
       "    <tr>\n",
       "      <th>4</th>\n",
       "      <td>Cedric Leach</td>\n",
       "      <td>felis.ullamcorper.viverra@egetmollislectus.net</td>\n",
       "      <td>Brazil</td>\n",
       "      <td>1</td>\n",
       "      <td>57.313749</td>\n",
       "      <td>59729.15130</td>\n",
       "      <td>5358.712177</td>\n",
       "      <td>560304.0671</td>\n",
       "      <td>55915.46248</td>\n",
       "    </tr>\n",
       "  </tbody>\n",
       "</table>\n",
       "</div>"
      ],
      "text/plain": [
       "     Customer Name                                    Customer e-mail  \\\n",
       "0    Martina Avila  cubilia.Curae.Phasellus@quisaccumsanconvallis.edu   \n",
       "1    Harlan Barnes                                eu.dolor@diam.co.uk   \n",
       "2  Naomi Rodriquez  vulputate.mauris.sagittis@ametconsectetueradip...   \n",
       "3  Jade Cunningham                            malesuada@dignissim.com   \n",
       "4     Cedric Leach     felis.ullamcorper.viverra@egetmollislectus.net   \n",
       "\n",
       "        Country  Gender        Age  Annual Salary  Credit Card Debt  \\\n",
       "0      Bulgaria       0  41.851720    62812.09301      11609.380910   \n",
       "1        Belize       0  40.870623    66646.89292       9572.957136   \n",
       "2       Algeria       1  43.152897    53798.55112      11160.355060   \n",
       "3  Cook Islands       1  58.271369    79370.03798      14426.164850   \n",
       "4        Brazil       1  57.313749    59729.15130       5358.712177   \n",
       "\n",
       "     Net Worth  Car Purchase Amount  \n",
       "0  238961.2505          35321.45877  \n",
       "1  530973.9078          45115.52566  \n",
       "2  638467.1773          42925.70921  \n",
       "3  548599.0524          67422.36313  \n",
       "4  560304.0671          55915.46248  "
      ]
     },
     "execution_count": 3,
     "metadata": {},
     "output_type": "execute_result"
    }
   ],
   "source": [
    "mycsv.head()"
   ]
  },
  {
   "cell_type": "code",
   "execution_count": null,
   "metadata": {
    "colab": {
     "base_uri": "https://localhost:8080/",
     "height": 1000
    },
    "id": "WelhsbrlkuTN",
    "outputId": "4152510e-d289-4876-984c-00a252e39256"
   },
   "outputs": [],
   "source": [
    "## visualization of correlation of features\n",
    "sns.pairplot(mycsv)\n",
    "## clearly, generally data is correlated with himself but the only outlier here is credit card debt\n",
    "## credit card debt does not seem like have a correlation with buying expensive cars"
   ]
  },
  {
   "cell_type": "code",
   "execution_count": null,
   "metadata": {
    "colab": {
     "base_uri": "https://localhost:8080/",
     "height": 275
    },
    "id": "b13qwo7AmzXM",
    "outputId": "dbe8d350-b075-4a34-94bc-7955370d5518"
   },
   "outputs": [],
   "source": [
    "mycsv.head()"
   ]
  },
  {
   "cell_type": "code",
   "execution_count": null,
   "metadata": {
    "colab": {
     "base_uri": "https://localhost:8080/",
     "height": 491
    },
    "id": "qt2TaJ66pbfo",
    "outputId": "8a84561e-2644-453f-ec6e-7601f82448e7"
   },
   "outputs": [],
   "source": [
    "#country can be essential, so we need to encode categorical data to numerical data \n",
    "array = np.array(mycsv['Country']).reshape(-1,1)\n",
    "encoder = OrdinalEncoder()\n",
    "result = encoder.fit_transform(array)\n",
    "mycsv['Country'] = result\n",
    "mycsv"
   ]
  },
  {
   "cell_type": "code",
   "execution_count": null,
   "metadata": {
    "id": "VQYk9KhHmhM2"
   },
   "outputs": [],
   "source": [
    "#customer name , email does not needed and can  be dropped to a better ML\n",
    "mycsv_cleaned = mycsv.drop(['Customer Name','Customer e-mail'], axis = 1)"
   ]
  },
  {
   "cell_type": "code",
   "execution_count": null,
   "metadata": {
    "colab": {
     "base_uri": "https://localhost:8080/",
     "height": 1000
    },
    "id": "RECCZcGmr5xT",
    "outputId": "6a96a50e-8747-4e4b-f315-ea02fdd805d7"
   },
   "outputs": [],
   "source": [
    "#again look for correlations because i changed the country, i will look for its correlation\n",
    "sns.pairplot(mycsv)"
   ]
  },
  {
   "cell_type": "code",
   "execution_count": null,
   "metadata": {
    "id": "pnj75hrTnsbE"
   },
   "outputs": [],
   "source": [
    "y = mycsv_cleaned['Car Purchase Amount']\n",
    "mycsv_cleaned = mycsv_cleaned.drop(['Car Purchase Amount'],axis=1)\n",
    "## Input data became mycsv_cleaned and label data became y"
   ]
  },
  {
   "cell_type": "code",
   "execution_count": null,
   "metadata": {
    "colab": {
     "base_uri": "https://localhost:8080/"
    },
    "id": "nNVrRbOTrgwr",
    "outputId": "185d6903-dd7f-4b3b-f2bb-a22a81c82b55"
   },
   "outputs": [],
   "source": [
    "print(y)"
   ]
  },
  {
   "cell_type": "code",
   "execution_count": null,
   "metadata": {
    "colab": {
     "base_uri": "https://localhost:8080/",
     "height": 205
    },
    "id": "oPNWxXY7rgpI",
    "outputId": "6bfb2c9f-bc6d-447d-94f8-e274f8c55b83"
   },
   "outputs": [],
   "source": [
    "x = mycsv_cleaned\n",
    "mycsv_cleaned.head()"
   ]
  },
  {
   "cell_type": "code",
   "execution_count": null,
   "metadata": {
    "colab": {
     "base_uri": "https://localhost:8080/"
    },
    "id": "XgUbhtOmsjBW",
    "outputId": "4422ba46-c85f-4e62-e258-a4f83852bee5"
   },
   "outputs": [],
   "source": [
    "x.shape"
   ]
  },
  {
   "cell_type": "code",
   "execution_count": null,
   "metadata": {
    "colab": {
     "base_uri": "https://localhost:8080/"
    },
    "id": "V06da2f1tLKo",
    "outputId": "11519eda-bd95-4312-f807-14a3c93e1f2b"
   },
   "outputs": [],
   "source": [
    "y.shape"
   ]
  },
  {
   "cell_type": "code",
   "execution_count": null,
   "metadata": {
    "colab": {
     "base_uri": "https://localhost:8080/"
    },
    "id": "26d4I37Nu2sv",
    "outputId": "60121163-b9bd-4379-b548-d45cb761381b"
   },
   "outputs": [],
   "source": [
    "## normalization\n",
    "x_scaled = minmax_scale(x)\n",
    "x_scaled"
   ]
  },
  {
   "cell_type": "code",
   "execution_count": null,
   "metadata": {
    "colab": {
     "base_uri": "https://localhost:8080/"
    },
    "id": "0LTplcnNwEJ9",
    "outputId": "a88e5cbf-2d8b-42f7-f58a-839e9dba7072"
   },
   "outputs": [],
   "source": [
    "y_array = np.array(y).reshape(-1,1)\n",
    "y_scaled = minmax_scale(y_array)\n",
    "y_scaled.shape"
   ]
  },
  {
   "cell_type": "code",
   "execution_count": null,
   "metadata": {
    "id": "v9yCPZoHweBK"
   },
   "outputs": [],
   "source": [
    "##now training phase\n",
    "from sklearn.model_selection import train_test_split  "
   ]
  },
  {
   "cell_type": "code",
   "execution_count": null,
   "metadata": {
    "id": "kKgYAxRm2zvr"
   },
   "outputs": [],
   "source": [
    "x_train, x_test, y_train, y_test = train_test_split(x_scaled,y_scaled,test_size=0.2)"
   ]
  },
  {
   "cell_type": "code",
   "execution_count": null,
   "metadata": {
    "colab": {
     "base_uri": "https://localhost:8080/"
    },
    "id": "FNCBzXFs3D7c",
    "outputId": "de2e111b-1843-42ef-ecfb-4890236944a4"
   },
   "outputs": [],
   "source": [
    "x_train.shape"
   ]
  },
  {
   "cell_type": "code",
   "execution_count": null,
   "metadata": {
    "id": "nDdI45y03ldB"
   },
   "outputs": [],
   "source": [
    "from keras.datasets import mnist\n",
    "from matplotlib import pyplot as plt\n",
    "from sklearn.model_selection import train_test_split\n",
    "import sklearn\n",
    "from sklearn.pipeline import Pipeline\n",
    "from sklearn.model_selection import GridSearchCV\n",
    "from sklearn.metrics import make_scorer\n",
    "from tensorflow.keras.wrappers.scikit_learn import KerasClassifier\n",
    "from sklearn.linear_model import LogisticRegression\n",
    "from sklearn.metrics import accuracy_score\n",
    "from sklearn import linear_model\n",
    "from sklearn import metrics\n",
    "from sklearn.model_selection import train_test_split\n",
    "from sklearn.pipeline import Pipeline\n",
    "from sklearn.model_selection import GridSearchCV\n",
    "import keras\n",
    "from keras.models import Sequential\n",
    "from keras.layers import Dense\n",
    "from tensorflow.keras.layers import Dropout\n",
    "from keras.optimizers import Adam\n",
    "from keras.callbacks import EarlyStopping\n"
   ]
  },
  {
   "cell_type": "code",
   "execution_count": null,
   "metadata": {
    "colab": {
     "base_uri": "https://localhost:8080/"
    },
    "id": "IJrlro-2QKnJ",
    "outputId": "af4c6902-dc22-48e7-a5d2-d88107ee9dfd"
   },
   "outputs": [],
   "source": [
    "print(x_train.shape,'\\n==========================================')\n",
    "print(y_train.shape, '\\n=============================================')"
   ]
  },
  {
   "cell_type": "code",
   "execution_count": null,
   "metadata": {
    "colab": {
     "base_uri": "https://localhost:8080/"
    },
    "id": "PmLu0FI5QuQt",
    "outputId": "8157c1fc-834f-453b-da74-fcfa3d3d748d"
   },
   "outputs": [],
   "source": [
    "model = Sequential()\n",
    "model.add(Dense(20, activation='relu', input_shape = (6,),name='hiddenlayer1'))\n",
    "model.add(Dense(20,activation='relu',name='hiddenlayer2'))\n",
    "model.add(Dense(1,activation='linear' , name='outputlayer'))\n",
    "model.summary()\n",
    "model.compile(loss='mean_squared_error',optimizer=Adam())"
   ]
  },
  {
   "cell_type": "code",
   "execution_count": null,
   "metadata": {
    "colab": {
     "base_uri": "https://localhost:8080/"
    },
    "id": "earKW9YrS3fu",
    "outputId": "2de1aabb-39ed-48da-96c0-84aff00561e3"
   },
   "outputs": [],
   "source": [
    "history = model.fit(x_train,y_train, epochs= 20, validation_split=0.2,batch_size=25,) "
   ]
  },
  {
   "cell_type": "code",
   "execution_count": null,
   "metadata": {
    "colab": {
     "base_uri": "https://localhost:8080/",
     "height": 331
    },
    "id": "6AgTUVkgokRj",
    "outputId": "d51b4f75-02cf-4ca0-dd06-26f58bab1ab2"
   },
   "outputs": [],
   "source": [
    "print(history.history.keys())\n",
    "plt.plot(history.history['loss'], color = 'Blue')\n",
    "plt.plot(history.history['val_loss'],color= 'Orange')\n",
    "plt.title('Model loss during training')\n",
    "plt.xlabel('# of epochs')\n",
    "plt.ylabel('loss')"
   ]
  },
  {
   "cell_type": "code",
   "execution_count": null,
   "metadata": {
    "id": "bPEClaropIw2"
   },
   "outputs": [],
   "source": [
    " "
   ]
  },
  {
   "cell_type": "code",
   "execution_count": null,
   "metadata": {
    "id": "XcOM_Uf5UP67"
   },
   "outputs": [],
   "source": [
    "predicted = model.predict(x_test)"
   ]
  },
  {
   "cell_type": "code",
   "execution_count": null,
   "metadata": {
    "colab": {
     "base_uri": "https://localhost:8080/",
     "height": 339
    },
    "id": "ZcyxU90OUlP2",
    "outputId": "8879f33e-6362-41d4-bc13-142e0c0c7b9d"
   },
   "outputs": [],
   "source": [
    "plt.plot(predicted, color='Green')\n",
    "plt.subplot()\n",
    "plt.plot(y_test,color='Red')"
   ]
  },
  {
   "cell_type": "code",
   "execution_count": null,
   "metadata": {
    "colab": {
     "base_uri": "https://localhost:8080/"
    },
    "id": "cw0G9NCA_mqz",
    "outputId": "6c1f7cbb-18ad-4fd2-8adb-00c58c08f625"
   },
   "outputs": [],
   "source": [
    "#country,gender, age, annual salary, creditcard debt, networth\n",
    "x_takeinput= np.array([[160,1,50,50000,10000,60000]])\n",
    "x_takeinput"
   ]
  },
  {
   "cell_type": "code",
   "execution_count": null,
   "metadata": {
    "id": "LWA-4e-wAX3N"
   },
   "outputs": [],
   "source": [
    "y_predict = model.predict(x_takeinput)"
   ]
  },
  {
   "cell_type": "code",
   "execution_count": null,
   "metadata": {
    "colab": {
     "base_uri": "https://localhost:8080/"
    },
    "id": "zVO-QfBwArXQ",
    "outputId": "9128255d-a655-4870-8a3a-0069c6da24db"
   },
   "outputs": [],
   "source": [
    "print('expected car price is: ', y_predict)"
   ]
  },
  {
   "cell_type": "code",
   "execution_count": null,
   "metadata": {
    "colab": {
     "base_uri": "https://localhost:8080/"
    },
    "id": "IVcjgqcSPMOA",
    "outputId": "35c948d9-d20d-43d5-d247-ed464c84eddf"
   },
   "outputs": [],
   "source": [
    "model.save('mymodel')"
   ]
  },
  {
   "cell_type": "code",
   "execution_count": null,
   "metadata": {
    "id": "o4yZAbfGPPVw"
   },
   "outputs": [],
   "source": [
    "del model"
   ]
  },
  {
   "cell_type": "code",
   "execution_count": null,
   "metadata": {
    "id": "Ujb268GzVqvu"
   },
   "outputs": [],
   "source": [
    "from tensorflow.keras.models import load_model\n",
    "model = load_model('mymodel')"
   ]
  },
  {
   "cell_type": "code",
   "execution_count": null,
   "metadata": {
    "colab": {
     "base_uri": "https://localhost:8080/"
    },
    "id": "a96BR7zwVycc",
    "outputId": "a74fdd05-d5bc-4552-bcaf-dc68db12e187"
   },
   "outputs": [],
   "source": [
    "y_predict = model.predict(x_takeinput)\n",
    "print('expected car price is: ', y_predict)"
   ]
  }
 ],
 "metadata": {
  "colab": {
   "collapsed_sections": [],
   "name": "carpriceprediction.ipynb",
   "provenance": []
  },
  "kernelspec": {
   "display_name": "Python 3",
   "language": "python",
   "name": "python3"
  },
  "language_info": {
   "codemirror_mode": {
    "name": "ipython",
    "version": 3
   },
   "file_extension": ".py",
   "mimetype": "text/x-python",
   "name": "python",
   "nbconvert_exporter": "python",
   "pygments_lexer": "ipython3",
   "version": "3.8.8"
  }
 },
 "nbformat": 4,
 "nbformat_minor": 1
}
