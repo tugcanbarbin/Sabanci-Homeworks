{
 "cells": [
  {
   "cell_type": "code",
   "execution_count": 70,
   "id": "87e6970a",
   "metadata": {},
   "outputs": [],
   "source": [
    "import numpy as np\n",
    "from flask import Flask, render_template, request\n",
    "from tensorflow.keras.models import load_model\n"
   ]
  },
  {
   "cell_type": "code",
   "execution_count": 71,
   "id": "663cf2c9",
   "metadata": {},
   "outputs": [],
   "source": [
    "app = Flask(__name__)\n",
    "model = load_model('mymodel')"
   ]
  },
  {
   "cell_type": "code",
   "execution_count": null,
   "id": "2ce2bf78",
   "metadata": {},
   "outputs": [
    {
     "name": "stdout",
     "output_type": "stream",
     "text": [
      " * Serving Flask app \"__main__\" (lazy loading)\n",
      " * Environment: production\n",
      "   WARNING: This is a development server. Do not use it in a production deployment.\n",
      "   Use a production WSGI server instead.\n",
      " * Debug mode: on\n"
     ]
    },
    {
     "name": "stderr",
     "output_type": "stream",
     "text": [
      " * Running on http://127.0.0.1:4996/ (Press CTRL+C to quit)\n",
      "127.0.0.1 - - [18/Aug/2021 10:57:53] \"\u001b[37mGET / HTTP/1.1\u001b[0m\" 200 -\n",
      "127.0.0.1 - - [18/Aug/2021 10:57:58] \"\u001b[37mPOST /predict HTTP/1.1\u001b[0m\" 200 -\n",
      "127.0.0.1 - - [18/Aug/2021 10:58:25] \"\u001b[37mPOST /predict HTTP/1.1\u001b[0m\" 200 -\n"
     ]
    }
   ],
   "source": [
    "@app.route('/')\n",
    "def home():\n",
    "    return render_template('index2.html')\n",
    "@app.route('/predict', methods=['POST'])\n",
    "def predict():\n",
    "    int_features= [item for item in request.form.values()]\n",
    "    int_features = int_features[:-1]\n",
    "    int_features = [int(item) for item in int_features]\n",
    "    final_features = (np.array(int_features))\n",
    "    final_features = np.array([np.insert(final_features,0,160)])\n",
    "    prediction = model.predict(final_features)\n",
    "    return render_template('index2.html', predicted_value = 'Estimated value of a car that this person will choose is: '+ str(prediction))\n",
    "\n",
    "\n",
    "if __name__ == \"__main__\":\n",
    "    app.run(debug=True,use_reloader=False, port=4996)\n"
   ]
  }
 ],
 "metadata": {
  "kernelspec": {
   "display_name": "Python 3",
   "language": "python",
   "name": "python3"
  },
  "language_info": {
   "codemirror_mode": {
    "name": "ipython",
    "version": 3
   },
   "file_extension": ".py",
   "mimetype": "text/x-python",
   "name": "python",
   "nbconvert_exporter": "python",
   "pygments_lexer": "ipython3",
   "version": "3.8.8"
  }
 },
 "nbformat": 4,
 "nbformat_minor": 5
}
